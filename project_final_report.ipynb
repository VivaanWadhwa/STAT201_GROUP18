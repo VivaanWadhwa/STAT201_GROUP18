{
 "cells": [
  {
   "cell_type": "markdown",
   "id": "a46f75a5-e9d0-4b26-82e6-6450cb6fa2c5",
   "metadata": {},
   "source": [
    "# Comparative Analysis of Chemical Composition in Red and White Wines: A Study on Volatile Acidity"
   ]
  },
  {
   "cell_type": "code",
   "execution_count": 1,
   "id": "0a377486-a61b-4fe4-bd72-4adf54c28306",
   "metadata": {},
   "outputs": [
    {
     "name": "stderr",
     "output_type": "stream",
     "text": [
      "── \u001b[1mAttaching core tidyverse packages\u001b[22m ──────────────────────── tidyverse 2.0.0 ──\n",
      "\u001b[32m✔\u001b[39m \u001b[34mdplyr    \u001b[39m 1.1.3     \u001b[32m✔\u001b[39m \u001b[34mreadr    \u001b[39m 2.1.4\n",
      "\u001b[32m✔\u001b[39m \u001b[34mforcats  \u001b[39m 1.0.0     \u001b[32m✔\u001b[39m \u001b[34mstringr  \u001b[39m 1.5.0\n",
      "\u001b[32m✔\u001b[39m \u001b[34mggplot2  \u001b[39m 3.4.4     \u001b[32m✔\u001b[39m \u001b[34mtibble   \u001b[39m 3.2.1\n",
      "\u001b[32m✔\u001b[39m \u001b[34mlubridate\u001b[39m 1.9.3     \u001b[32m✔\u001b[39m \u001b[34mtidyr    \u001b[39m 1.3.0\n",
      "\u001b[32m✔\u001b[39m \u001b[34mpurrr    \u001b[39m 1.0.2     \n",
      "── \u001b[1mConflicts\u001b[22m ────────────────────────────────────────── tidyverse_conflicts() ──\n",
      "\u001b[31m✖\u001b[39m \u001b[34mdplyr\u001b[39m::\u001b[32mfilter()\u001b[39m masks \u001b[34mstats\u001b[39m::filter()\n",
      "\u001b[31m✖\u001b[39m \u001b[34mdplyr\u001b[39m::\u001b[32mlag()\u001b[39m    masks \u001b[34mstats\u001b[39m::lag()\n",
      "\u001b[36mℹ\u001b[39m Use the conflicted package (\u001b[3m\u001b[34m<http://conflicted.r-lib.org/>\u001b[39m\u001b[23m) to force all conflicts to become errors\n"
     ]
    }
   ],
   "source": [
    "library(tidyverse)\n",
    "library(infer)\n",
    "library(repr)\n",
    "library(dplyr)\n",
    "library(readr)\n",
    "options(repr.plot.width=5, repr.plot.height=5)"
   ]
  },
  {
   "cell_type": "code",
   "execution_count": 2,
   "id": "c4085edb-cbd1-4f6c-86f0-3760f757a40b",
   "metadata": {},
   "outputs": [],
   "source": [
    "# Reading in the data\n",
    "url <- \"https://archive.ics.uci.edu/static/public/186/wine+quality.zip\"\n",
    "\n",
    "# Define the local file name for the downloaded ZIP file\n",
    "zip_file <- \"data/wine_quality.zip\"\n",
    "\n",
    "# Download the ZIP file from the URL\n",
    "download.file(url, destfile = zip_file)\n",
    "\n",
    "# Unzip the downloaded file\n",
    "unzip(zip_file, exdir = \"data\")"
   ]
  },
  {
   "cell_type": "markdown",
   "id": "86e11ed0-0485-4641-870f-826fe1a4fc3e",
   "metadata": {},
   "source": [
    "## Introduction"
   ]
  },
  {
   "cell_type": "markdown",
   "id": "00027c85-fda2-49f0-824a-4545064f853e",
   "metadata": {},
   "source": [
    "The goal of the project is to explore the average level of Volatile Acidity, Total Sulfur Dioxide and Chlorides in Red and White wine. The dataset, [Wine Quality](https://archive.ics.uci.edu/dataset/186/wine+quality), is taken from [UCI Machine Learning Repository](https://archive.ics.uci.edu/datasets)."
   ]
  },
  {
   "cell_type": "markdown",
   "id": "49b6879e-e661-467f-b429-209dc7134d10",
   "metadata": {},
   "source": [
    "The dataset includes 13 attributes describing \n",
    "\n",
    "- ```Fixed Acidity```\n",
    "- ```Volatile Acidity```\n",
    "- ```Citric Acid```\n",
    "- ```Residual Sugar```\n",
    "- ```Chlorides```\n",
    "- ```Free Sulfur Dioxide```\n",
    "- ```Total Sulfur Dioxide```\n",
    "- ```Density```\n",
    "- ```pH```\n",
    "- ```sulphates```\n",
    "- ```alcohol```\n",
    "- ```quality```"
   ]
  },
  {
   "cell_type": "markdown",
   "id": "681be966-1db8-4dfb-93a8-eb8b689b7bfb",
   "metadata": {},
   "source": [
    "Research Question\n",
    "<hr></hr>\n",
    "How do the levels of <b>volatile acidity</b> differ between <b>red</b> and <b>white wines</b>, and are there statistically significant variations in these chemical components between the two wine types?"
   ]
  },
  {
   "cell_type": "markdown",
   "id": "a3ab35c6-20bd-455e-b163-a691689fcefc",
   "metadata": {},
   "source": [
    "Our attribute of interest for this project is:\n",
    "\n",
    "- ```Volatile Acidity```: Volatile acidity in the context of wine refers to the presence of volatile acids, primarily acetic acid.  It is a key factor in wine quality and can impact the wine's flavor and aroma.\n",
    "\n",
    "To conduct research, we will be exploring the average levels (location parameter) of <b>volatile acidity</b> for each of the wines as well as standard deviation (scale parameter)."
   ]
  },
  {
   "cell_type": "markdown",
   "id": "9bf3eda4-b2f0-419e-add8-abd41749b3ac",
   "metadata": {},
   "source": [
    "Volatile acidity plays a pivotal role in the winemaking process, and exhibits substantial variations across different wines. A study conducted by Babincev and Jović in 2021 delves into the chemical composition of white and red wines, revealing that white wine tends to have higher acidity levels compared to red wine. This finding underscores the importance and relevance of further investigation of volatile acidity."
   ]
  },
  {
   "cell_type": "markdown",
   "id": "0d258d87-281b-40aa-931e-9678ba30b879",
   "metadata": {},
   "source": [
    "## Methods and Results"
   ]
  },
  {
   "cell_type": "markdown",
   "id": "00b099de-614b-48aa-b1a0-4598de686fa7",
   "metadata": {},
   "source": [
    "We will be conducting a hypothesis test via bootstrapping. Setting $H_{0}: \\mu_{\\text{Volatile Acidity of Red Wine}} - \\mu_{\\text{Volatile Acidity of White Wine}} = 0$ , and our alternative hypothesis to $H_{a}: \\mu_{\\text{Volatile Acidity of Red Wine}} - \\mu_{\\text{Volatile Acidity of White Wine}} \\neq 0$, we will plot the bootstrap distribution of the null hypothesis using the infer package. From there, we will calculate the two-tailed p-value, given our observed statistic from our original sample (0.264). To determine if the difference in means between red and white wines is significant, we will compare the p-value to a 5% significance level."
   ]
  },
  {
   "cell_type": "markdown",
   "id": "f412a51e-b505-4556-8a45-0f370ce5f7a5",
   "metadata": {},
   "source": [
    "### Wrangling the data"
   ]
  },
  {
   "cell_type": "code",
   "execution_count": 3,
   "id": "c888d47b-f40c-4332-aaef-da2725b6a53c",
   "metadata": {},
   "outputs": [
    {
     "data": {
      "text/html": [
       "0"
      ],
      "text/latex": [
       "0"
      ],
      "text/markdown": [
       "0"
      ],
      "text/plain": [
       "[1] 0"
      ]
     },
     "metadata": {},
     "output_type": "display_data"
    },
    {
     "data": {
      "text/html": [
       "0"
      ],
      "text/latex": [
       "0"
      ],
      "text/markdown": [
       "0"
      ],
      "text/plain": [
       "[1] 0"
      ]
     },
     "metadata": {},
     "output_type": "display_data"
    }
   ],
   "source": [
    "# Read in the red and white wine data\n",
    "\n",
    "wine_red_data <- read_delim(\"data/winequality-red.csv\", delim = \";\", show_col_types = FALSE) |>\n",
    "                    mutate(type = \"red\")\n",
    "wine_white_data <- read_delim(\"data/winequality-white.csv\", delim = \";\", show_col_types = FALSE)|>\n",
    "                    mutate(type = \"white\")\n",
    "# Check if we have missing values\n",
    "sum(is.na(wine_white_data))\n",
    "sum(is.na(wine_red_data)) "
   ]
  },
  {
   "cell_type": "code",
   "execution_count": 4,
   "id": "fe86a258-170c-40fd-80f0-22060dc74ef8",
   "metadata": {},
   "outputs": [
    {
     "data": {
      "text/html": [
       "<table class=\"dataframe\">\n",
       "<caption>A tibble: 6 × 13</caption>\n",
       "<thead>\n",
       "\t<tr><th scope=col>fixed.acidity</th><th scope=col>volatile.acidity</th><th scope=col>citric.acid</th><th scope=col>residual.sugar</th><th scope=col>chlorides</th><th scope=col>free.sulfur.dioxide</th><th scope=col>total.sulfur.dioxide</th><th scope=col>density</th><th scope=col>pH</th><th scope=col>sulphates</th><th scope=col>alcohol</th><th scope=col>quality</th><th scope=col>type</th></tr>\n",
       "\t<tr><th scope=col>&lt;dbl&gt;</th><th scope=col>&lt;dbl&gt;</th><th scope=col>&lt;dbl&gt;</th><th scope=col>&lt;dbl&gt;</th><th scope=col>&lt;dbl&gt;</th><th scope=col>&lt;dbl&gt;</th><th scope=col>&lt;dbl&gt;</th><th scope=col>&lt;dbl&gt;</th><th scope=col>&lt;dbl&gt;</th><th scope=col>&lt;dbl&gt;</th><th scope=col>&lt;dbl&gt;</th><th scope=col>&lt;dbl&gt;</th><th scope=col>&lt;chr&gt;</th></tr>\n",
       "</thead>\n",
       "<tbody>\n",
       "\t<tr><td> 7.4</td><td>0.70</td><td>0.00</td><td>1.9</td><td>0.076</td><td>11</td><td>34</td><td>0.9978</td><td>3.51</td><td>0.56</td><td>9.4</td><td>5</td><td>red</td></tr>\n",
       "\t<tr><td> 7.8</td><td>0.88</td><td>0.00</td><td>2.6</td><td>0.098</td><td>25</td><td>67</td><td>0.9968</td><td>3.20</td><td>0.68</td><td>9.8</td><td>5</td><td>red</td></tr>\n",
       "\t<tr><td> 7.8</td><td>0.76</td><td>0.04</td><td>2.3</td><td>0.092</td><td>15</td><td>54</td><td>0.9970</td><td>3.26</td><td>0.65</td><td>9.8</td><td>5</td><td>red</td></tr>\n",
       "\t<tr><td>11.2</td><td>0.28</td><td>0.56</td><td>1.9</td><td>0.075</td><td>17</td><td>60</td><td>0.9980</td><td>3.16</td><td>0.58</td><td>9.8</td><td>6</td><td>red</td></tr>\n",
       "\t<tr><td> 7.4</td><td>0.70</td><td>0.00</td><td>1.9</td><td>0.076</td><td>11</td><td>34</td><td>0.9978</td><td>3.51</td><td>0.56</td><td>9.4</td><td>5</td><td>red</td></tr>\n",
       "\t<tr><td> 7.4</td><td>0.66</td><td>0.00</td><td>1.8</td><td>0.075</td><td>13</td><td>40</td><td>0.9978</td><td>3.51</td><td>0.56</td><td>9.4</td><td>5</td><td>red</td></tr>\n",
       "</tbody>\n",
       "</table>\n"
      ],
      "text/latex": [
       "A tibble: 6 × 13\n",
       "\\begin{tabular}{lllllllllllll}\n",
       " fixed.acidity & volatile.acidity & citric.acid & residual.sugar & chlorides & free.sulfur.dioxide & total.sulfur.dioxide & density & pH & sulphates & alcohol & quality & type\\\\\n",
       " <dbl> & <dbl> & <dbl> & <dbl> & <dbl> & <dbl> & <dbl> & <dbl> & <dbl> & <dbl> & <dbl> & <dbl> & <chr>\\\\\n",
       "\\hline\n",
       "\t  7.4 & 0.70 & 0.00 & 1.9 & 0.076 & 11 & 34 & 0.9978 & 3.51 & 0.56 & 9.4 & 5 & red\\\\\n",
       "\t  7.8 & 0.88 & 0.00 & 2.6 & 0.098 & 25 & 67 & 0.9968 & 3.20 & 0.68 & 9.8 & 5 & red\\\\\n",
       "\t  7.8 & 0.76 & 0.04 & 2.3 & 0.092 & 15 & 54 & 0.9970 & 3.26 & 0.65 & 9.8 & 5 & red\\\\\n",
       "\t 11.2 & 0.28 & 0.56 & 1.9 & 0.075 & 17 & 60 & 0.9980 & 3.16 & 0.58 & 9.8 & 6 & red\\\\\n",
       "\t  7.4 & 0.70 & 0.00 & 1.9 & 0.076 & 11 & 34 & 0.9978 & 3.51 & 0.56 & 9.4 & 5 & red\\\\\n",
       "\t  7.4 & 0.66 & 0.00 & 1.8 & 0.075 & 13 & 40 & 0.9978 & 3.51 & 0.56 & 9.4 & 5 & red\\\\\n",
       "\\end{tabular}\n"
      ],
      "text/markdown": [
       "\n",
       "A tibble: 6 × 13\n",
       "\n",
       "| fixed.acidity &lt;dbl&gt; | volatile.acidity &lt;dbl&gt; | citric.acid &lt;dbl&gt; | residual.sugar &lt;dbl&gt; | chlorides &lt;dbl&gt; | free.sulfur.dioxide &lt;dbl&gt; | total.sulfur.dioxide &lt;dbl&gt; | density &lt;dbl&gt; | pH &lt;dbl&gt; | sulphates &lt;dbl&gt; | alcohol &lt;dbl&gt; | quality &lt;dbl&gt; | type &lt;chr&gt; |\n",
       "|---|---|---|---|---|---|---|---|---|---|---|---|---|\n",
       "|  7.4 | 0.70 | 0.00 | 1.9 | 0.076 | 11 | 34 | 0.9978 | 3.51 | 0.56 | 9.4 | 5 | red |\n",
       "|  7.8 | 0.88 | 0.00 | 2.6 | 0.098 | 25 | 67 | 0.9968 | 3.20 | 0.68 | 9.8 | 5 | red |\n",
       "|  7.8 | 0.76 | 0.04 | 2.3 | 0.092 | 15 | 54 | 0.9970 | 3.26 | 0.65 | 9.8 | 5 | red |\n",
       "| 11.2 | 0.28 | 0.56 | 1.9 | 0.075 | 17 | 60 | 0.9980 | 3.16 | 0.58 | 9.8 | 6 | red |\n",
       "|  7.4 | 0.70 | 0.00 | 1.9 | 0.076 | 11 | 34 | 0.9978 | 3.51 | 0.56 | 9.4 | 5 | red |\n",
       "|  7.4 | 0.66 | 0.00 | 1.8 | 0.075 | 13 | 40 | 0.9978 | 3.51 | 0.56 | 9.4 | 5 | red |\n",
       "\n"
      ],
      "text/plain": [
       "  fixed.acidity volatile.acidity citric.acid residual.sugar chlorides\n",
       "1  7.4          0.70             0.00        1.9            0.076    \n",
       "2  7.8          0.88             0.00        2.6            0.098    \n",
       "3  7.8          0.76             0.04        2.3            0.092    \n",
       "4 11.2          0.28             0.56        1.9            0.075    \n",
       "5  7.4          0.70             0.00        1.9            0.076    \n",
       "6  7.4          0.66             0.00        1.8            0.075    \n",
       "  free.sulfur.dioxide total.sulfur.dioxide density pH   sulphates alcohol\n",
       "1 11                  34                   0.9978  3.51 0.56      9.4    \n",
       "2 25                  67                   0.9968  3.20 0.68      9.8    \n",
       "3 15                  54                   0.9970  3.26 0.65      9.8    \n",
       "4 17                  60                   0.9980  3.16 0.58      9.8    \n",
       "5 11                  34                   0.9978  3.51 0.56      9.4    \n",
       "6 13                  40                   0.9978  3.51 0.56      9.4    \n",
       "  quality type\n",
       "1 5       red \n",
       "2 5       red \n",
       "3 5       red \n",
       "4 6       red \n",
       "5 5       red \n",
       "6 5       red "
      ]
     },
     "metadata": {},
     "output_type": "display_data"
    }
   ],
   "source": [
    "# Combining the red/white wine data and adding proper column names to the dataframe\n",
    "\n",
    "wine_data <- rbind(wine_red_data, wine_white_data)\n",
    "colnames(wine_data) <- c(\"fixed.acidity\",\"volatile.acidity\",\"citric.acid\",\"residual.sugar\",\n",
    "                         \"chlorides\",\"free.sulfur.dioxide\",\"total.sulfur.dioxide\",\"density\",\n",
    "                         \"pH\",\"sulphates\",\"alcohol\",\"quality\",\"type\")\n",
    "head(wine_data)"
   ]
  },
  {
   "cell_type": "code",
   "execution_count": 5,
   "id": "7b67e87f-98b2-421a-8751-67c8ea97fb37",
   "metadata": {},
   "outputs": [
    {
     "data": {
      "text/html": [
       "<table class=\"dataframe\">\n",
       "<caption>A tibble: 6 × 2</caption>\n",
       "<thead>\n",
       "\t<tr><th scope=col>volatile.acidity</th><th scope=col>type</th></tr>\n",
       "\t<tr><th scope=col>&lt;dbl&gt;</th><th scope=col>&lt;chr&gt;</th></tr>\n",
       "</thead>\n",
       "<tbody>\n",
       "\t<tr><td>0.70</td><td>red</td></tr>\n",
       "\t<tr><td>0.88</td><td>red</td></tr>\n",
       "\t<tr><td>0.76</td><td>red</td></tr>\n",
       "\t<tr><td>0.28</td><td>red</td></tr>\n",
       "\t<tr><td>0.70</td><td>red</td></tr>\n",
       "\t<tr><td>0.66</td><td>red</td></tr>\n",
       "</tbody>\n",
       "</table>\n"
      ],
      "text/latex": [
       "A tibble: 6 × 2\n",
       "\\begin{tabular}{ll}\n",
       " volatile.acidity & type\\\\\n",
       " <dbl> & <chr>\\\\\n",
       "\\hline\n",
       "\t 0.70 & red\\\\\n",
       "\t 0.88 & red\\\\\n",
       "\t 0.76 & red\\\\\n",
       "\t 0.28 & red\\\\\n",
       "\t 0.70 & red\\\\\n",
       "\t 0.66 & red\\\\\n",
       "\\end{tabular}\n"
      ],
      "text/markdown": [
       "\n",
       "A tibble: 6 × 2\n",
       "\n",
       "| volatile.acidity &lt;dbl&gt; | type &lt;chr&gt; |\n",
       "|---|---|\n",
       "| 0.70 | red |\n",
       "| 0.88 | red |\n",
       "| 0.76 | red |\n",
       "| 0.28 | red |\n",
       "| 0.70 | red |\n",
       "| 0.66 | red |\n",
       "\n"
      ],
      "text/plain": [
       "  volatile.acidity type\n",
       "1 0.70             red \n",
       "2 0.88             red \n",
       "3 0.76             red \n",
       "4 0.28             red \n",
       "5 0.70             red \n",
       "6 0.66             red "
      ]
     },
     "metadata": {},
     "output_type": "display_data"
    }
   ],
   "source": [
    "wine_data_specific <- wine_data %>%\n",
    "                        select(volatile.acidity, type)\n",
    "head(wine_data_specific)"
   ]
  },
  {
   "cell_type": "markdown",
   "id": "8a05442a-e6cb-4dc5-9abc-52dfe4dff537",
   "metadata": {},
   "source": [
    "Firstly, we will take a sample from our dataset, ensuring to not take over 10% of the total observations as to avoid violation of independence."
   ]
  },
  {
   "cell_type": "code",
   "execution_count": 6,
   "id": "65347756-3b12-4ab9-867e-856f4af5acd1",
   "metadata": {},
   "outputs": [
    {
     "data": {
      "text/html": [
       "<style>\n",
       ".list-inline {list-style: none; margin:0; padding: 0}\n",
       ".list-inline>li {display: inline-block}\n",
       ".list-inline>li:not(:last-child)::after {content: \"\\00b7\"; padding: 0 .5ex}\n",
       "</style>\n",
       "<ol class=list-inline><li>6497</li><li>2</li></ol>\n"
      ],
      "text/latex": [
       "\\begin{enumerate*}\n",
       "\\item 6497\n",
       "\\item 2\n",
       "\\end{enumerate*}\n"
      ],
      "text/markdown": [
       "1. 6497\n",
       "2. 2\n",
       "\n",
       "\n"
      ],
      "text/plain": [
       "[1] 6497    2"
      ]
     },
     "metadata": {},
     "output_type": "display_data"
    }
   ],
   "source": [
    "dim(wine_data_specific)"
   ]
  },
  {
   "cell_type": "code",
   "execution_count": 7,
   "id": "78ec27f6-2da5-4409-ac2f-53335bf7caad",
   "metadata": {},
   "outputs": [
    {
     "data": {
      "text/html": [
       "<table class=\"dataframe\">\n",
       "<caption>A tibble: 6 × 2</caption>\n",
       "<thead>\n",
       "\t<tr><th scope=col>volatile.acidity</th><th scope=col>type</th></tr>\n",
       "\t<tr><th scope=col>&lt;dbl&gt;</th><th scope=col>&lt;chr&gt;</th></tr>\n",
       "</thead>\n",
       "<tbody>\n",
       "\t<tr><td>0.15</td><td>white</td></tr>\n",
       "\t<tr><td>0.34</td><td>white</td></tr>\n",
       "\t<tr><td>0.11</td><td>white</td></tr>\n",
       "\t<tr><td>0.30</td><td>white</td></tr>\n",
       "\t<tr><td>0.52</td><td>red  </td></tr>\n",
       "\t<tr><td>0.58</td><td>red  </td></tr>\n",
       "</tbody>\n",
       "</table>\n"
      ],
      "text/latex": [
       "A tibble: 6 × 2\n",
       "\\begin{tabular}{ll}\n",
       " volatile.acidity & type\\\\\n",
       " <dbl> & <chr>\\\\\n",
       "\\hline\n",
       "\t 0.15 & white\\\\\n",
       "\t 0.34 & white\\\\\n",
       "\t 0.11 & white\\\\\n",
       "\t 0.30 & white\\\\\n",
       "\t 0.52 & red  \\\\\n",
       "\t 0.58 & red  \\\\\n",
       "\\end{tabular}\n"
      ],
      "text/markdown": [
       "\n",
       "A tibble: 6 × 2\n",
       "\n",
       "| volatile.acidity &lt;dbl&gt; | type &lt;chr&gt; |\n",
       "|---|---|\n",
       "| 0.15 | white |\n",
       "| 0.34 | white |\n",
       "| 0.11 | white |\n",
       "| 0.30 | white |\n",
       "| 0.52 | red   |\n",
       "| 0.58 | red   |\n",
       "\n"
      ],
      "text/plain": [
       "  volatile.acidity type \n",
       "1 0.15             white\n",
       "2 0.34             white\n",
       "3 0.11             white\n",
       "4 0.30             white\n",
       "5 0.52             red  \n",
       "6 0.58             red  "
      ]
     },
     "metadata": {},
     "output_type": "display_data"
    }
   ],
   "source": [
    "set.seed(42) # Setting the seed for reproducible workflow\n",
    "\n",
    "wine_sample <- wine_data_specific |>\n",
    "                sample_n(size = 650)\n",
    "head(wine_sample)"
   ]
  },
  {
   "cell_type": "markdown",
   "id": "0c946df9-65d1-4fa3-baa1-1379ca62f3fc",
   "metadata": {},
   "source": [
    "Here we calculate the observed statistic, which is the difference in means."
   ]
  },
  {
   "cell_type": "code",
   "execution_count": 8,
   "id": "254aab1d-1cf4-41e9-9a19-7066cee39e02",
   "metadata": {},
   "outputs": [
    {
     "data": {
      "text/html": [
       "<table class=\"dataframe\">\n",
       "<caption>A infer: 1 × 1</caption>\n",
       "<thead>\n",
       "\t<tr><th scope=col>stat</th></tr>\n",
       "\t<tr><th scope=col>&lt;dbl&gt;</th></tr>\n",
       "</thead>\n",
       "<tbody>\n",
       "\t<tr><td>0.2755594</td></tr>\n",
       "</tbody>\n",
       "</table>\n"
      ],
      "text/latex": [
       "A infer: 1 × 1\n",
       "\\begin{tabular}{l}\n",
       " stat\\\\\n",
       " <dbl>\\\\\n",
       "\\hline\n",
       "\t 0.2755594\\\\\n",
       "\\end{tabular}\n"
      ],
      "text/markdown": [
       "\n",
       "A infer: 1 × 1\n",
       "\n",
       "| stat &lt;dbl&gt; |\n",
       "|---|\n",
       "| 0.2755594 |\n",
       "\n"
      ],
      "text/plain": [
       "  stat     \n",
       "1 0.2755594"
      ]
     },
     "metadata": {},
     "output_type": "display_data"
    }
   ],
   "source": [
    "obs_diff <- wine_sample %>%\n",
    "    specify(volatile.acidity ~ type) %>%\n",
    "    calculate(stat = \"diff in means\", order = c(\"red\", \"white\"))\n",
    "obs_diff"
   ]
  },
  {
   "cell_type": "markdown",
   "id": "30148a86-a6ee-4097-89fe-ffc2daa38b2d",
   "metadata": {},
   "source": [
    "We then create a null distribution, specifying our formula and generating 1000 bootstrapped replicates. From there we calculate the difference in means with red being our first variable and white being second."
   ]
  },
  {
   "cell_type": "code",
   "execution_count": 9,
   "id": "262c33f9-93ab-4a86-aa3d-68477c2f7725",
   "metadata": {
    "tags": []
   },
   "outputs": [],
   "source": [
    "null_dist <- wine_sample %>%\n",
    "    specify(volatile.acidity ~ type) %>%\n",
    "    hypothesize(null = \"independence\") %>%\n",
    "    generate(reps = 1000, type=\"permute\") %>%\n",
    "    calculate(stat = \"diff in means\", order = c(\"red\", \"white\"))"
   ]
  },
  {
   "cell_type": "markdown",
   "id": "9bc441da-1813-4533-ab1f-aef87252054c",
   "metadata": {},
   "source": [
    "After obtaining the null distribution, we can visualize it, and shade in the p value based on the observed statistic we calculated beforehand."
   ]
  },
  {
   "cell_type": "code",
   "execution_count": 10,
   "id": "4fc84ff2-6246-486b-95c6-f6eb474405ec",
   "metadata": {},
   "outputs": [
    {
     "data": {
      "application/pdf": "[encoded data removed]",
      "image/jpeg": "[encoded data removed]",
      "image/png": "[encoded data removed]",
      "image/svg+xml": [
       "<?xml version=\"1.0\" encoding=\"UTF-8\"?>\n",
       "<svg xmlns=\"http://www.w3.org/2000/svg\" xmlns:xlink=\"http://www.w3.org/1999/xlink\" width=\"360\" height=\"360\" viewBox=\"0 0 360 360\">\n",
       "<defs>\n",
       "<g>\n",
       "<g id=\"glyph-0-0\">\n",
       "<path d=\"M 4.546875 -3.03125 C 4.546875 -2.445312 4.488281 -1.957031 4.375 -1.5625 C 4.269531 -1.164062 4.117188 -0.84375 3.921875 -0.59375 C 3.734375 -0.351562 3.507812 -0.179688 3.25 -0.078125 C 3 0.0234375 2.726562 0.078125 2.4375 0.078125 C 2.144531 0.078125 1.867188 0.0234375 1.609375 -0.078125 C 1.359375 -0.179688 1.140625 -0.351562 0.953125 -0.59375 C 0.765625 -0.84375 0.613281 -1.164062 0.5 -1.5625 C 0.394531 -1.957031 0.34375 -2.445312 0.34375 -3.03125 C 0.34375 -3.632812 0.394531 -4.132812 0.5 -4.53125 C 0.613281 -4.9375 0.765625 -5.257812 0.953125 -5.5 C 1.140625 -5.738281 1.359375 -5.90625 1.609375 -6 C 1.867188 -6.09375 2.15625 -6.140625 2.46875 -6.140625 C 2.75 -6.140625 3.015625 -6.09375 3.265625 -6 C 3.523438 -5.90625 3.75 -5.738281 3.9375 -5.5 C 4.125 -5.257812 4.269531 -4.9375 4.375 -4.53125 C 4.488281 -4.132812 4.546875 -3.632812 4.546875 -3.03125 Z M 3.765625 -3.03125 C 3.765625 -3.507812 3.734375 -3.90625 3.671875 -4.21875 C 3.617188 -4.539062 3.535156 -4.796875 3.421875 -4.984375 C 3.304688 -5.179688 3.164062 -5.316406 3 -5.390625 C 2.84375 -5.472656 2.664062 -5.515625 2.46875 -5.515625 C 2.25 -5.515625 2.054688 -5.472656 1.890625 -5.390625 C 1.722656 -5.316406 1.582031 -5.179688 1.46875 -4.984375 C 1.351562 -4.796875 1.265625 -4.539062 1.203125 -4.21875 C 1.148438 -3.90625 1.125 -3.507812 1.125 -3.03125 C 1.125 -2.5625 1.148438 -2.164062 1.203125 -1.84375 C 1.265625 -1.53125 1.351562 -1.273438 1.46875 -1.078125 C 1.582031 -0.890625 1.71875 -0.753906 1.875 -0.671875 C 2.039062 -0.585938 2.226562 -0.546875 2.4375 -0.546875 C 2.644531 -0.546875 2.828125 -0.585938 2.984375 -0.671875 C 3.148438 -0.753906 3.289062 -0.890625 3.40625 -1.078125 C 3.519531 -1.273438 3.609375 -1.53125 3.671875 -1.84375 C 3.734375 -2.164062 3.765625 -2.5625 3.765625 -3.03125 Z M 3.765625 -3.03125 \"/>\n",
       "</g>\n",
       "<g id=\"glyph-0-1\">\n",
       "<path d=\"M 4.515625 -1.96875 C 4.515625 -1.664062 4.46875 -1.390625 4.375 -1.140625 C 4.289062 -0.890625 4.15625 -0.671875 3.96875 -0.484375 C 3.789062 -0.304688 3.566406 -0.164062 3.296875 -0.0625 C 3.035156 0.03125 2.726562 0.078125 2.375 0.078125 C 2.0625 0.078125 1.785156 0.0390625 1.546875 -0.03125 C 1.304688 -0.101562 1.101562 -0.203125 0.9375 -0.328125 C 0.78125 -0.460938 0.648438 -0.613281 0.546875 -0.78125 C 0.453125 -0.957031 0.390625 -1.148438 0.359375 -1.359375 L 1.140625 -1.4375 C 1.171875 -1.320312 1.210938 -1.210938 1.265625 -1.109375 C 1.328125 -1.003906 1.40625 -0.910156 1.5 -0.828125 C 1.601562 -0.742188 1.722656 -0.675781 1.859375 -0.625 C 2.003906 -0.570312 2.179688 -0.546875 2.390625 -0.546875 C 2.585938 -0.546875 2.769531 -0.578125 2.9375 -0.640625 C 3.101562 -0.703125 3.242188 -0.789062 3.359375 -0.90625 C 3.472656 -1.03125 3.5625 -1.175781 3.625 -1.34375 C 3.6875 -1.519531 3.71875 -1.722656 3.71875 -1.953125 C 3.71875 -2.140625 3.6875 -2.3125 3.625 -2.46875 C 3.570312 -2.625 3.488281 -2.757812 3.375 -2.875 C 3.257812 -2.988281 3.117188 -3.078125 2.953125 -3.140625 C 2.796875 -3.203125 2.613281 -3.234375 2.40625 -3.234375 C 2.28125 -3.234375 2.160156 -3.21875 2.046875 -3.1875 C 1.941406 -3.164062 1.84375 -3.132812 1.75 -3.09375 C 1.65625 -3.0625 1.570312 -3.015625 1.5 -2.953125 C 1.425781 -2.898438 1.351562 -2.847656 1.28125 -2.796875 L 0.53125 -2.796875 L 0.734375 -6.046875 L 4.171875 -6.046875 L 4.171875 -5.390625 L 1.4375 -5.390625 L 1.3125 -3.46875 C 1.457031 -3.582031 1.628906 -3.675781 1.828125 -3.75 C 2.035156 -3.820312 2.28125 -3.859375 2.5625 -3.859375 C 2.863281 -3.859375 3.132812 -3.8125 3.375 -3.71875 C 3.613281 -3.632812 3.816406 -3.503906 3.984375 -3.328125 C 4.160156 -3.160156 4.289062 -2.960938 4.375 -2.734375 C 4.46875 -2.503906 4.515625 -2.25 4.515625 -1.96875 Z M 4.515625 -1.96875 \"/>\n",
       "</g>\n",
       "<g id=\"glyph-0-2\">\n",
       "<path d=\"M 0.671875 0 L 0.671875 -0.65625 L 2.21875 -0.65625 L 2.21875 -5.3125 L 0.84375 -4.34375 L 0.84375 -5.0625 L 2.28125 -6.046875 L 2.984375 -6.046875 L 2.984375 -0.65625 L 4.46875 -0.65625 L 4.46875 0 Z M 0.671875 0 \"/>\n",
       "</g>\n",
       "<g id=\"glyph-0-3\">\n",
       "<path d=\"M 0.390625 -2 L 0.390625 -2.6875 L 2.53125 -2.6875 L 2.53125 -2 Z M 0.390625 -2 \"/>\n",
       "</g>\n",
       "<g id=\"glyph-0-4\">\n",
       "<path d=\"M 0.796875 0 L 0.796875 -0.9375 L 1.640625 -0.9375 L 1.640625 0 Z M 0.796875 0 \"/>\n",
       "</g>\n",
       "<g id=\"glyph-0-5\">\n",
       "<path d=\"M 0.4375 0 L 0.4375 -0.546875 C 0.582031 -0.878906 0.757812 -1.171875 0.96875 -1.421875 C 1.1875 -1.679688 1.410156 -1.914062 1.640625 -2.125 C 1.867188 -2.332031 2.097656 -2.523438 2.328125 -2.703125 C 2.554688 -2.878906 2.757812 -3.054688 2.9375 -3.234375 C 3.125 -3.410156 3.273438 -3.597656 3.390625 -3.796875 C 3.503906 -3.992188 3.5625 -4.210938 3.5625 -4.453125 C 3.5625 -4.628906 3.535156 -4.78125 3.484375 -4.90625 C 3.429688 -5.039062 3.351562 -5.148438 3.25 -5.234375 C 3.15625 -5.328125 3.039062 -5.394531 2.90625 -5.4375 C 2.769531 -5.476562 2.617188 -5.5 2.453125 -5.5 C 2.296875 -5.5 2.148438 -5.476562 2.015625 -5.4375 C 1.878906 -5.394531 1.757812 -5.332031 1.65625 -5.25 C 1.550781 -5.164062 1.460938 -5.054688 1.390625 -4.921875 C 1.328125 -4.796875 1.285156 -4.648438 1.265625 -4.484375 L 0.484375 -4.5625 C 0.503906 -4.78125 0.5625 -4.984375 0.65625 -5.171875 C 0.75 -5.359375 0.878906 -5.523438 1.046875 -5.671875 C 1.210938 -5.816406 1.410156 -5.929688 1.640625 -6.015625 C 1.878906 -6.097656 2.148438 -6.140625 2.453125 -6.140625 C 2.753906 -6.140625 3.019531 -6.101562 3.25 -6.03125 C 3.488281 -5.957031 3.6875 -5.847656 3.84375 -5.703125 C 4.007812 -5.566406 4.132812 -5.394531 4.21875 -5.1875 C 4.3125 -4.988281 4.359375 -4.753906 4.359375 -4.484375 C 4.359375 -4.273438 4.320312 -4.078125 4.25 -3.890625 C 4.175781 -3.710938 4.078125 -3.539062 3.953125 -3.375 C 3.828125 -3.207031 3.6875 -3.046875 3.53125 -2.890625 C 3.375 -2.742188 3.207031 -2.59375 3.03125 -2.4375 C 2.851562 -2.289062 2.675781 -2.144531 2.5 -2 C 2.320312 -1.863281 2.15625 -1.722656 2 -1.578125 C 1.84375 -1.429688 1.703125 -1.28125 1.578125 -1.125 C 1.453125 -0.976562 1.359375 -0.820312 1.296875 -0.65625 L 4.453125 -0.65625 L 4.453125 0 Z M 0.4375 0 \"/>\n",
       "</g>\n",
       "<g id=\"glyph-1-0\">\n",
       "<path d=\"M 5.109375 -1.609375 C 5.109375 -1.335938 5.050781 -1.09375 4.9375 -0.875 C 4.832031 -0.664062 4.679688 -0.488281 4.484375 -0.34375 C 4.285156 -0.195312 4.039062 -0.0820312 3.75 0 C 3.457031 0.0703125 3.125 0.109375 2.75 0.109375 C 2.40625 0.109375 2.097656 0.0820312 1.828125 0.03125 C 1.554688 -0.0195312 1.316406 -0.101562 1.109375 -0.21875 C 0.910156 -0.332031 0.742188 -0.484375 0.609375 -0.671875 C 0.472656 -0.859375 0.375 -1.085938 0.3125 -1.359375 L 1.15625 -1.53125 C 1.238281 -1.21875 1.410156 -0.988281 1.671875 -0.84375 C 1.929688 -0.695312 2.289062 -0.625 2.75 -0.625 C 2.957031 -0.625 3.144531 -0.640625 3.3125 -0.671875 C 3.488281 -0.703125 3.640625 -0.75 3.765625 -0.8125 C 3.890625 -0.882812 3.984375 -0.976562 4.046875 -1.09375 C 4.117188 -1.207031 4.15625 -1.351562 4.15625 -1.53125 C 4.15625 -1.707031 4.113281 -1.847656 4.03125 -1.953125 C 3.957031 -2.066406 3.84375 -2.160156 3.6875 -2.234375 C 3.539062 -2.316406 3.363281 -2.382812 3.15625 -2.4375 C 2.945312 -2.5 2.71875 -2.5625 2.46875 -2.625 C 2.238281 -2.6875 2.007812 -2.753906 1.78125 -2.828125 C 1.550781 -2.898438 1.34375 -3 1.15625 -3.125 C 0.96875 -3.25 0.816406 -3.398438 0.703125 -3.578125 C 0.585938 -3.765625 0.53125 -4 0.53125 -4.28125 C 0.53125 -4.8125 0.71875 -5.210938 1.09375 -5.484375 C 1.476562 -5.765625 2.03125 -5.90625 2.75 -5.90625 C 3.394531 -5.90625 3.90625 -5.789062 4.28125 -5.5625 C 4.65625 -5.332031 4.894531 -4.972656 5 -4.484375 L 4.125 -4.375 C 4.09375 -4.519531 4.035156 -4.644531 3.953125 -4.75 C 3.867188 -4.851562 3.765625 -4.9375 3.640625 -5 C 3.515625 -5.0625 3.375 -5.101562 3.21875 -5.125 C 3.070312 -5.15625 2.914062 -5.171875 2.75 -5.171875 C 2.3125 -5.171875 1.988281 -5.101562 1.78125 -4.96875 C 1.582031 -4.84375 1.484375 -4.644531 1.484375 -4.375 C 1.484375 -4.21875 1.519531 -4.085938 1.59375 -3.984375 C 1.664062 -3.878906 1.769531 -3.789062 1.90625 -3.71875 C 2.050781 -3.65625 2.21875 -3.597656 2.40625 -3.546875 C 2.601562 -3.492188 2.816406 -3.4375 3.046875 -3.375 C 3.203125 -3.332031 3.359375 -3.289062 3.515625 -3.25 C 3.679688 -3.207031 3.835938 -3.15625 3.984375 -3.09375 C 4.140625 -3.03125 4.285156 -2.957031 4.421875 -2.875 C 4.554688 -2.789062 4.671875 -2.6875 4.765625 -2.5625 C 4.867188 -2.445312 4.953125 -2.3125 5.015625 -2.15625 C 5.078125 -2 5.109375 -1.816406 5.109375 -1.609375 Z M 5.109375 -1.609375 \"/>\n",
       "</g>\n",
       "<g id=\"glyph-1-1\">\n",
       "<path d=\"M 2.96875 -0.046875 C 2.820312 -0.00390625 2.671875 0.0234375 2.515625 0.046875 C 2.367188 0.078125 2.195312 0.09375 2 0.09375 C 1.226562 0.09375 0.84375 -0.347656 0.84375 -1.234375 L 0.84375 -5.109375 L 0.171875 -5.109375 L 0.171875 -5.8125 L 0.875 -5.8125 L 1.15625 -7.109375 L 1.8125 -7.109375 L 1.8125 -5.8125 L 2.875 -5.8125 L 2.875 -5.109375 L 1.8125 -5.109375 L 1.8125 -1.4375 C 1.8125 -1.15625 1.851562 -0.957031 1.9375 -0.84375 C 2.03125 -0.738281 2.191406 -0.6875 2.421875 -0.6875 C 2.515625 -0.6875 2.601562 -0.691406 2.6875 -0.703125 C 2.769531 -0.710938 2.863281 -0.726562 2.96875 -0.75 Z M 2.96875 -0.046875 \"/>\n",
       "</g>\n",
       "<g id=\"glyph-1-2\">\n",
       "<path d=\"M 2.21875 0.109375 C 1.632812 0.109375 1.195312 -0.0390625 0.90625 -0.34375 C 0.613281 -0.65625 0.46875 -1.082031 0.46875 -1.625 C 0.46875 -2.007812 0.539062 -2.320312 0.6875 -2.5625 C 0.832031 -2.8125 1.019531 -3.003906 1.25 -3.140625 C 1.488281 -3.285156 1.757812 -3.382812 2.0625 -3.4375 C 2.363281 -3.488281 2.664062 -3.519531 2.96875 -3.53125 L 4.28125 -3.546875 L 4.28125 -3.859375 C 4.28125 -4.097656 4.253906 -4.300781 4.203125 -4.46875 C 4.148438 -4.644531 4.070312 -4.78125 3.96875 -4.875 C 3.863281 -4.976562 3.734375 -5.054688 3.578125 -5.109375 C 3.429688 -5.160156 3.25 -5.1875 3.03125 -5.1875 C 2.84375 -5.1875 2.671875 -5.171875 2.515625 -5.140625 C 2.367188 -5.117188 2.238281 -5.070312 2.125 -5 C 2.019531 -4.925781 1.929688 -4.828125 1.859375 -4.703125 C 1.796875 -4.585938 1.753906 -4.441406 1.734375 -4.265625 L 0.71875 -4.34375 C 0.757812 -4.570312 0.828125 -4.78125 0.921875 -4.96875 C 1.023438 -5.164062 1.171875 -5.332031 1.359375 -5.46875 C 1.546875 -5.613281 1.773438 -5.722656 2.046875 -5.796875 C 2.328125 -5.878906 2.664062 -5.921875 3.0625 -5.921875 C 3.789062 -5.921875 4.335938 -5.753906 4.703125 -5.421875 C 5.078125 -5.085938 5.265625 -4.601562 5.265625 -3.96875 L 5.265625 -1.46875 C 5.265625 -1.175781 5.300781 -0.957031 5.375 -0.8125 C 5.445312 -0.664062 5.585938 -0.59375 5.796875 -0.59375 C 5.847656 -0.59375 5.898438 -0.597656 5.953125 -0.609375 C 6.015625 -0.617188 6.070312 -0.628906 6.125 -0.640625 L 6.125 -0.03125 C 6 0 5.875 0.0195312 5.75 0.03125 C 5.632812 0.0390625 5.507812 0.046875 5.375 0.046875 C 5.1875 0.046875 5.023438 0.0234375 4.890625 -0.015625 C 4.765625 -0.0664062 4.660156 -0.140625 4.578125 -0.234375 C 4.492188 -0.335938 4.429688 -0.460938 4.390625 -0.609375 C 4.347656 -0.753906 4.320312 -0.921875 4.3125 -1.109375 L 4.28125 -1.109375 C 4.175781 -0.921875 4.0625 -0.75 3.9375 -0.59375 C 3.8125 -0.445312 3.664062 -0.320312 3.5 -0.21875 C 3.34375 -0.113281 3.15625 -0.0351562 2.9375 0.015625 C 2.726562 0.078125 2.488281 0.109375 2.21875 0.109375 Z M 2.4375 -0.625 C 2.75 -0.625 3.019531 -0.675781 3.25 -0.78125 C 3.476562 -0.894531 3.671875 -1.039062 3.828125 -1.21875 C 3.984375 -1.394531 4.097656 -1.585938 4.171875 -1.796875 C 4.242188 -2.003906 4.28125 -2.203125 4.28125 -2.390625 L 4.28125 -2.875 L 3.21875 -2.84375 C 2.988281 -2.84375 2.765625 -2.828125 2.546875 -2.796875 C 2.335938 -2.765625 2.148438 -2.703125 1.984375 -2.609375 C 1.828125 -2.523438 1.703125 -2.398438 1.609375 -2.234375 C 1.515625 -2.078125 1.46875 -1.867188 1.46875 -1.609375 C 1.46875 -1.296875 1.550781 -1.050781 1.71875 -0.875 C 1.882812 -0.707031 2.125 -0.625 2.4375 -0.625 Z M 2.4375 -0.625 \"/>\n",
       "</g>\n",
       "<g id=\"glyph-2-0\">\n",
       "<path d=\"M -2.9375 -1.484375 C -2.601562 -1.484375 -2.296875 -1.503906 -2.015625 -1.546875 C -1.734375 -1.597656 -1.488281 -1.679688 -1.28125 -1.796875 C -1.082031 -1.910156 -0.925781 -2.0625 -0.8125 -2.25 C -0.707031 -2.4375 -0.65625 -2.664062 -0.65625 -2.9375 C -0.65625 -3.28125 -0.75 -3.566406 -0.9375 -3.796875 C -1.125 -4.035156 -1.410156 -4.179688 -1.796875 -4.234375 L -1.734375 -5.203125 C -1.492188 -5.171875 -1.257812 -5.101562 -1.03125 -5 C -0.8125 -4.894531 -0.617188 -4.75 -0.453125 -4.5625 C -0.285156 -4.375 -0.148438 -4.144531 -0.046875 -3.875 C 0.0546875 -3.613281 0.109375 -3.3125 0.109375 -2.96875 C 0.109375 -2.507812 0.03125 -2.117188 -0.125 -1.796875 C -0.28125 -1.484375 -0.492188 -1.226562 -0.765625 -1.03125 C -1.035156 -0.832031 -1.351562 -0.6875 -1.71875 -0.59375 C -2.082031 -0.507812 -2.476562 -0.46875 -2.90625 -0.46875 C -3.300781 -0.46875 -3.644531 -0.5 -3.9375 -0.5625 C -4.238281 -0.625 -4.5 -0.710938 -4.71875 -0.828125 C -4.945312 -0.953125 -5.132812 -1.09375 -5.28125 -1.25 C -5.4375 -1.40625 -5.5625 -1.570312 -5.65625 -1.75 C -5.75 -1.9375 -5.816406 -2.128906 -5.859375 -2.328125 C -5.898438 -2.535156 -5.921875 -2.742188 -5.921875 -2.953125 C -5.921875 -3.285156 -5.875 -3.578125 -5.78125 -3.828125 C -5.695312 -4.085938 -5.578125 -4.304688 -5.421875 -4.484375 C -5.265625 -4.671875 -5.078125 -4.820312 -4.859375 -4.9375 C -4.648438 -5.050781 -4.425781 -5.128906 -4.1875 -5.171875 L -4.109375 -4.1875 C -4.429688 -4.132812 -4.6875 -4.003906 -4.875 -3.796875 C -5.0625 -3.597656 -5.15625 -3.3125 -5.15625 -2.9375 C -5.15625 -2.65625 -5.109375 -2.421875 -5.015625 -2.234375 C -4.929688 -2.054688 -4.796875 -1.910156 -4.609375 -1.796875 C -4.421875 -1.679688 -4.1875 -1.597656 -3.90625 -1.546875 C -3.632812 -1.503906 -3.3125 -1.484375 -2.9375 -1.484375 Z M -2.9375 -1.484375 \"/>\n",
       "</g>\n",
       "<g id=\"glyph-2-1\">\n",
       "<path d=\"M -2.90625 -5.65625 C -1.894531 -5.65625 -1.140625 -5.429688 -0.640625 -4.984375 C -0.140625 -4.535156 0.109375 -3.882812 0.109375 -3.03125 C 0.109375 -2.625 0.046875 -2.257812 -0.078125 -1.9375 C -0.203125 -1.625 -0.390625 -1.359375 -0.640625 -1.140625 C -0.890625 -0.921875 -1.203125 -0.753906 -1.578125 -0.640625 C -1.953125 -0.523438 -2.394531 -0.46875 -2.90625 -0.46875 C -4.914062 -0.46875 -5.921875 -1.332031 -5.921875 -3.0625 C -5.921875 -3.519531 -5.859375 -3.910156 -5.734375 -4.234375 C -5.609375 -4.566406 -5.421875 -4.835938 -5.171875 -5.046875 C -4.921875 -5.253906 -4.601562 -5.40625 -4.21875 -5.5 C -3.84375 -5.601562 -3.40625 -5.65625 -2.90625 -5.65625 Z M -2.90625 -4.640625 C -3.363281 -4.640625 -3.738281 -4.601562 -4.03125 -4.53125 C -4.320312 -4.46875 -4.554688 -4.367188 -4.734375 -4.234375 C -4.910156 -4.097656 -5.03125 -3.929688 -5.09375 -3.734375 C -5.164062 -3.546875 -5.203125 -3.328125 -5.203125 -3.078125 C -5.203125 -2.835938 -5.164062 -2.613281 -5.09375 -2.40625 C -5.019531 -2.207031 -4.894531 -2.039062 -4.71875 -1.90625 C -4.539062 -1.769531 -4.304688 -1.664062 -4.015625 -1.59375 C -3.722656 -1.519531 -3.351562 -1.484375 -2.90625 -1.484375 C -2.457031 -1.484375 -2.082031 -1.519531 -1.78125 -1.59375 C -1.488281 -1.675781 -1.253906 -1.785156 -1.078125 -1.921875 C -0.910156 -2.054688 -0.789062 -2.21875 -0.71875 -2.40625 C -0.644531 -2.59375 -0.609375 -2.800781 -0.609375 -3.03125 C -0.609375 -3.269531 -0.640625 -3.488281 -0.703125 -3.6875 C -0.773438 -3.894531 -0.898438 -4.066406 -1.078125 -4.203125 C -1.253906 -4.347656 -1.488281 -4.457031 -1.78125 -4.53125 C -2.082031 -4.601562 -2.457031 -4.640625 -2.90625 -4.640625 Z M -2.90625 -4.640625 \"/>\n",
       "</g>\n",
       "<g id=\"glyph-2-2\">\n",
       "<path d=\"M -5.8125 -1.6875 L -2.125 -1.6875 C -1.84375 -1.6875 -1.609375 -1.707031 -1.421875 -1.75 C -1.234375 -1.789062 -1.078125 -1.859375 -0.953125 -1.953125 C -0.835938 -2.046875 -0.753906 -2.164062 -0.703125 -2.3125 C -0.660156 -2.46875 -0.640625 -2.660156 -0.640625 -2.890625 C -0.640625 -3.117188 -0.675781 -3.320312 -0.75 -3.5 C -0.832031 -3.6875 -0.953125 -3.84375 -1.109375 -3.96875 C -1.265625 -4.101562 -1.453125 -4.207031 -1.671875 -4.28125 C -1.898438 -4.351562 -2.15625 -4.390625 -2.4375 -4.390625 L -5.8125 -4.390625 L -5.8125 -5.359375 L -1.234375 -5.359375 C -1.117188 -5.359375 -0.992188 -5.359375 -0.859375 -5.359375 C -0.722656 -5.359375 -0.59375 -5.359375 -0.46875 -5.359375 C -0.351562 -5.367188 -0.25 -5.375 -0.15625 -5.375 C -0.0703125 -5.375 -0.0195312 -5.378906 0 -5.390625 L 0 -4.46875 C -0.0195312 -4.46875 -0.0664062 -4.460938 -0.140625 -4.453125 C -0.222656 -4.453125 -0.3125 -4.445312 -0.40625 -4.4375 C -0.507812 -4.4375 -0.613281 -4.4375 -0.71875 -4.4375 C -0.832031 -4.4375 -0.925781 -4.4375 -1 -4.4375 L -1 -4.421875 C -0.820312 -4.328125 -0.664062 -4.222656 -0.53125 -4.109375 C -0.394531 -3.992188 -0.28125 -3.863281 -0.1875 -3.71875 C -0.09375 -3.570312 -0.0195312 -3.40625 0.03125 -3.21875 C 0.0820312 -3.03125 0.109375 -2.8125 0.109375 -2.5625 C 0.109375 -2.238281 0.0703125 -1.957031 0 -1.71875 C -0.0820312 -1.488281 -0.207031 -1.296875 -0.375 -1.140625 C -0.539062 -0.992188 -0.75 -0.882812 -1 -0.8125 C -1.257812 -0.75 -1.570312 -0.71875 -1.9375 -0.71875 L -5.8125 -0.71875 Z M -5.8125 -1.6875 \"/>\n",
       "</g>\n",
       "<g id=\"glyph-2-3\">\n",
       "<path d=\"M 0 -4.4375 L -3.6875 -4.4375 C -3.96875 -4.4375 -4.203125 -4.414062 -4.390625 -4.375 C -4.578125 -4.332031 -4.726562 -4.265625 -4.84375 -4.171875 C -4.96875 -4.078125 -5.050781 -3.953125 -5.09375 -3.796875 C -5.144531 -3.648438 -5.171875 -3.460938 -5.171875 -3.234375 C -5.171875 -3.003906 -5.128906 -2.796875 -5.046875 -2.609375 C -4.972656 -2.429688 -4.859375 -2.273438 -4.703125 -2.140625 C -4.546875 -2.003906 -4.351562 -1.898438 -4.125 -1.828125 C -3.90625 -1.765625 -3.65625 -1.734375 -3.375 -1.734375 L 0 -1.734375 L 0 -0.765625 L -4.578125 -0.765625 C -4.691406 -0.765625 -4.816406 -0.757812 -4.953125 -0.75 C -5.085938 -0.75 -5.210938 -0.75 -5.328125 -0.75 C -5.453125 -0.75 -5.554688 -0.742188 -5.640625 -0.734375 C -5.734375 -0.734375 -5.789062 -0.734375 -5.8125 -0.734375 L -5.8125 -1.640625 C -5.789062 -1.648438 -5.738281 -1.65625 -5.65625 -1.65625 C -5.582031 -1.65625 -5.492188 -1.65625 -5.390625 -1.65625 C -5.296875 -1.664062 -5.191406 -1.671875 -5.078125 -1.671875 C -4.972656 -1.679688 -4.882812 -1.6875 -4.8125 -1.6875 L -4.8125 -1.703125 C -4.988281 -1.796875 -5.144531 -1.894531 -5.28125 -2 C -5.414062 -2.113281 -5.53125 -2.242188 -5.625 -2.390625 C -5.71875 -2.535156 -5.789062 -2.703125 -5.84375 -2.890625 C -5.894531 -3.085938 -5.921875 -3.3125 -5.921875 -3.5625 C -5.921875 -3.882812 -5.878906 -4.160156 -5.796875 -4.390625 C -5.722656 -4.628906 -5.601562 -4.820312 -5.4375 -4.96875 C -5.269531 -5.113281 -5.054688 -5.222656 -4.796875 -5.296875 C -4.535156 -5.367188 -4.226562 -5.40625 -3.875 -5.40625 L 0 -5.40625 Z M 0 -4.4375 \"/>\n",
       "</g>\n",
       "<g id=\"glyph-2-4\">\n",
       "<path d=\"M -0.046875 -2.96875 C -0.00390625 -2.820312 0.0234375 -2.671875 0.046875 -2.515625 C 0.078125 -2.367188 0.09375 -2.195312 0.09375 -2 C 0.09375 -1.226562 -0.347656 -0.84375 -1.234375 -0.84375 L -5.109375 -0.84375 L -5.109375 -0.171875 L -5.8125 -0.171875 L -5.8125 -0.875 L -7.109375 -1.15625 L -7.109375 -1.8125 L -5.8125 -1.8125 L -5.8125 -2.875 L -5.109375 -2.875 L -5.109375 -1.8125 L -1.4375 -1.8125 C -1.15625 -1.8125 -0.957031 -1.851562 -0.84375 -1.9375 C -0.738281 -2.03125 -0.6875 -2.191406 -0.6875 -2.421875 C -0.6875 -2.515625 -0.691406 -2.601562 -0.703125 -2.6875 C -0.710938 -2.769531 -0.726562 -2.863281 -0.75 -2.96875 Z M -0.046875 -2.96875 \"/>\n",
       "</g>\n",
       "<g id=\"glyph-3-0\">\n",
       "<path d=\"M 8.203125 -2.515625 C 8.203125 -2.128906 8.125 -1.773438 7.96875 -1.453125 C 7.820312 -1.128906 7.59375 -0.847656 7.28125 -0.609375 C 6.976562 -0.378906 6.59375 -0.195312 6.125 -0.0625 C 5.65625 0.0625 5.097656 0.125 4.453125 0.125 C 3.316406 0.125 2.429688 -0.0703125 1.796875 -0.46875 C 1.171875 -0.863281 0.769531 -1.429688 0.59375 -2.171875 L 1.796875 -2.421875 C 1.847656 -2.179688 1.9375 -1.960938 2.0625 -1.765625 C 2.1875 -1.578125 2.351562 -1.410156 2.5625 -1.265625 C 2.78125 -1.128906 3.046875 -1.019531 3.359375 -0.9375 C 3.671875 -0.863281 4.050781 -0.828125 4.5 -0.828125 C 4.863281 -0.828125 5.195312 -0.859375 5.5 -0.921875 C 5.800781 -0.984375 6.0625 -1.078125 6.28125 -1.203125 C 6.5 -1.335938 6.671875 -1.503906 6.796875 -1.703125 C 6.921875 -1.910156 6.984375 -2.15625 6.984375 -2.4375 C 6.984375 -2.738281 6.914062 -2.976562 6.78125 -3.15625 C 6.644531 -3.34375 6.453125 -3.492188 6.203125 -3.609375 C 5.960938 -3.734375 5.671875 -3.835938 5.328125 -3.921875 C 4.992188 -4.003906 4.617188 -4.09375 4.203125 -4.1875 C 3.953125 -4.25 3.695312 -4.3125 3.4375 -4.375 C 3.1875 -4.4375 2.941406 -4.515625 2.703125 -4.609375 C 2.472656 -4.703125 2.253906 -4.8125 2.046875 -4.9375 C 1.835938 -5.0625 1.65625 -5.207031 1.5 -5.375 C 1.351562 -5.550781 1.238281 -5.753906 1.15625 -5.984375 C 1.070312 -6.222656 1.03125 -6.488281 1.03125 -6.78125 C 1.03125 -7.21875 1.113281 -7.585938 1.28125 -7.890625 C 1.457031 -8.203125 1.695312 -8.457031 2 -8.65625 C 2.3125 -8.851562 2.675781 -8.992188 3.09375 -9.078125 C 3.519531 -9.171875 3.976562 -9.21875 4.46875 -9.21875 C 5.03125 -9.21875 5.507812 -9.171875 5.90625 -9.078125 C 6.3125 -8.992188 6.648438 -8.863281 6.921875 -8.6875 C 7.203125 -8.507812 7.425781 -8.289062 7.59375 -8.03125 C 7.757812 -7.769531 7.890625 -7.46875 7.984375 -7.125 L 6.78125 -6.921875 C 6.71875 -7.140625 6.628906 -7.332031 6.515625 -7.5 C 6.398438 -7.675781 6.25 -7.820312 6.0625 -7.9375 C 5.882812 -8.050781 5.660156 -8.140625 5.390625 -8.203125 C 5.128906 -8.265625 4.820312 -8.296875 4.46875 -8.296875 C 4.039062 -8.296875 3.679688 -8.253906 3.390625 -8.171875 C 3.109375 -8.097656 2.878906 -7.992188 2.703125 -7.859375 C 2.535156 -7.734375 2.410156 -7.582031 2.328125 -7.40625 C 2.253906 -7.238281 2.21875 -7.054688 2.21875 -6.859375 C 2.21875 -6.585938 2.285156 -6.363281 2.421875 -6.1875 C 2.554688 -6.007812 2.738281 -5.863281 2.96875 -5.75 C 3.207031 -5.632812 3.476562 -5.535156 3.78125 -5.453125 C 4.082031 -5.378906 4.40625 -5.304688 4.75 -5.234375 C 5.03125 -5.160156 5.3125 -5.09375 5.59375 -5.03125 C 5.875 -4.96875 6.140625 -4.890625 6.390625 -4.796875 C 6.640625 -4.703125 6.875 -4.59375 7.09375 -4.46875 C 7.320312 -4.34375 7.515625 -4.1875 7.671875 -4 C 7.835938 -3.820312 7.96875 -3.609375 8.0625 -3.359375 C 8.15625 -3.117188 8.203125 -2.835938 8.203125 -2.515625 Z M 8.203125 -2.515625 \"/>\n",
       "</g>\n",
       "<g id=\"glyph-3-1\">\n",
       "<path d=\"M 0.890625 -8.453125 L 0.890625 -9.5625 L 2.046875 -9.5625 L 2.046875 -8.453125 Z M 0.890625 0 L 0.890625 -6.96875 L 2.046875 -6.96875 L 2.046875 0 Z M 0.890625 0 \"/>\n",
       "</g>\n",
       "<g id=\"glyph-3-2\">\n",
       "<path d=\"M 4.953125 0 L 4.953125 -4.421875 C 4.953125 -4.765625 4.929688 -5.046875 4.890625 -5.265625 C 4.847656 -5.492188 4.773438 -5.675781 4.671875 -5.8125 C 4.566406 -5.957031 4.429688 -6.054688 4.265625 -6.109375 C 4.109375 -6.171875 3.910156 -6.203125 3.671875 -6.203125 C 3.429688 -6.203125 3.210938 -6.15625 3.015625 -6.0625 C 2.816406 -5.96875 2.644531 -5.828125 2.5 -5.640625 C 2.363281 -5.460938 2.253906 -5.238281 2.171875 -4.96875 C 2.097656 -4.695312 2.0625 -4.390625 2.0625 -4.046875 L 2.0625 0 L 0.921875 0 L 0.921875 -5.484375 C 0.921875 -5.628906 0.914062 -5.78125 0.90625 -5.9375 C 0.90625 -6.101562 0.898438 -6.257812 0.890625 -6.40625 C 0.890625 -6.550781 0.890625 -6.675781 0.890625 -6.78125 C 0.890625 -6.882812 0.882812 -6.945312 0.875 -6.96875 L 1.96875 -6.96875 C 1.976562 -6.945312 1.984375 -6.890625 1.984375 -6.796875 C 1.984375 -6.703125 1.988281 -6.59375 2 -6.46875 C 2.007812 -6.351562 2.015625 -6.226562 2.015625 -6.09375 C 2.023438 -5.96875 2.03125 -5.863281 2.03125 -5.78125 L 2.046875 -5.78125 C 2.148438 -5.976562 2.257812 -6.160156 2.375 -6.328125 C 2.5 -6.492188 2.640625 -6.632812 2.796875 -6.75 C 2.960938 -6.863281 3.148438 -6.953125 3.359375 -7.015625 C 3.566406 -7.078125 3.804688 -7.109375 4.078125 -7.109375 C 4.609375 -7.109375 5.023438 -7 5.328125 -6.78125 C 5.640625 -6.570312 5.851562 -6.238281 5.96875 -5.78125 L 6 -5.78125 C 6.101562 -5.976562 6.21875 -6.160156 6.34375 -6.328125 C 6.46875 -6.492188 6.613281 -6.632812 6.78125 -6.75 C 6.957031 -6.863281 7.15625 -6.953125 7.375 -7.015625 C 7.59375 -7.078125 7.835938 -7.109375 8.109375 -7.109375 C 8.460938 -7.109375 8.765625 -7.0625 9.015625 -6.96875 C 9.273438 -6.875 9.484375 -6.726562 9.640625 -6.53125 C 9.804688 -6.332031 9.925781 -6.078125 10 -5.765625 C 10.082031 -5.453125 10.125 -5.078125 10.125 -4.640625 L 10.125 0 L 8.984375 0 L 8.984375 -4.421875 C 8.984375 -4.765625 8.957031 -5.046875 8.90625 -5.265625 C 8.863281 -5.492188 8.789062 -5.675781 8.6875 -5.8125 C 8.59375 -5.957031 8.460938 -6.054688 8.296875 -6.109375 C 8.140625 -6.171875 7.941406 -6.203125 7.703125 -6.203125 C 7.460938 -6.203125 7.242188 -6.15625 7.046875 -6.0625 C 6.847656 -5.976562 6.675781 -5.84375 6.53125 -5.65625 C 6.394531 -5.476562 6.285156 -5.253906 6.203125 -4.984375 C 6.128906 -4.710938 6.09375 -4.398438 6.09375 -4.046875 L 6.09375 0 Z M 4.953125 0 \"/>\n",
       "</g>\n",
       "<g id=\"glyph-3-3\">\n",
       "<path d=\"M 2.03125 -6.96875 L 2.03125 -2.546875 C 2.03125 -2.210938 2.050781 -1.929688 2.09375 -1.703125 C 2.144531 -1.472656 2.226562 -1.285156 2.34375 -1.140625 C 2.457031 -1.003906 2.601562 -0.90625 2.78125 -0.84375 C 2.96875 -0.789062 3.195312 -0.765625 3.46875 -0.765625 C 3.738281 -0.765625 3.984375 -0.8125 4.203125 -0.90625 C 4.421875 -1.007812 4.609375 -1.148438 4.765625 -1.328125 C 4.929688 -1.515625 5.054688 -1.738281 5.140625 -2 C 5.222656 -2.269531 5.265625 -2.582031 5.265625 -2.9375 L 5.265625 -6.96875 L 6.421875 -6.96875 L 6.421875 -1.484375 C 6.421875 -1.335938 6.421875 -1.179688 6.421875 -1.015625 C 6.429688 -0.859375 6.4375 -0.707031 6.4375 -0.5625 C 6.445312 -0.425781 6.453125 -0.304688 6.453125 -0.203125 C 6.453125 -0.0976562 6.457031 -0.03125 6.46875 0 L 5.375 0 C 5.363281 -0.0195312 5.351562 -0.078125 5.34375 -0.171875 C 5.34375 -0.265625 5.335938 -0.375 5.328125 -0.5 C 5.328125 -0.625 5.320312 -0.75 5.3125 -0.875 C 5.3125 -1 5.3125 -1.101562 5.3125 -1.1875 L 5.296875 -1.1875 C 5.179688 -0.988281 5.054688 -0.804688 4.921875 -0.640625 C 4.796875 -0.484375 4.644531 -0.347656 4.46875 -0.234375 C 4.289062 -0.117188 4.085938 -0.03125 3.859375 0.03125 C 3.628906 0.09375 3.363281 0.125 3.0625 0.125 C 2.675781 0.125 2.34375 0.078125 2.0625 -0.015625 C 1.789062 -0.109375 1.5625 -0.253906 1.375 -0.453125 C 1.195312 -0.648438 1.066406 -0.898438 0.984375 -1.203125 C 0.898438 -1.515625 0.859375 -1.890625 0.859375 -2.328125 L 0.859375 -6.96875 Z M 2.03125 -6.96875 \"/>\n",
       "</g>\n",
       "<g id=\"glyph-3-4\">\n",
       "<path d=\"M 0.890625 0 L 0.890625 -9.5625 L 2.046875 -9.5625 L 2.046875 0 Z M 0.890625 0 \"/>\n",
       "</g>\n",
       "<g id=\"glyph-3-5\">\n",
       "<path d=\"M 2.671875 0.125 C 1.972656 0.125 1.445312 -0.0546875 1.09375 -0.421875 C 0.738281 -0.796875 0.5625 -1.304688 0.5625 -1.953125 C 0.5625 -2.410156 0.644531 -2.785156 0.8125 -3.078125 C 0.988281 -3.367188 1.21875 -3.597656 1.5 -3.765625 C 1.78125 -3.929688 2.101562 -4.046875 2.46875 -4.109375 C 2.832031 -4.179688 3.203125 -4.222656 3.578125 -4.234375 L 5.140625 -4.25 L 5.140625 -4.640625 C 5.140625 -4.921875 5.109375 -5.160156 5.046875 -5.359375 C 4.984375 -5.566406 4.890625 -5.734375 4.765625 -5.859375 C 4.640625 -5.984375 4.484375 -6.070312 4.296875 -6.125 C 4.109375 -6.1875 3.890625 -6.21875 3.640625 -6.21875 C 3.421875 -6.21875 3.21875 -6.203125 3.03125 -6.171875 C 2.851562 -6.140625 2.695312 -6.082031 2.5625 -6 C 2.425781 -5.914062 2.316406 -5.800781 2.234375 -5.65625 C 2.160156 -5.507812 2.109375 -5.328125 2.078125 -5.109375 L 0.875 -5.21875 C 0.914062 -5.5 0.992188 -5.753906 1.109375 -5.984375 C 1.234375 -6.210938 1.40625 -6.410156 1.625 -6.578125 C 1.84375 -6.742188 2.117188 -6.875 2.453125 -6.96875 C 2.785156 -7.0625 3.191406 -7.109375 3.671875 -7.109375 C 4.546875 -7.109375 5.203125 -6.90625 5.640625 -6.5 C 6.085938 -6.101562 6.3125 -5.519531 6.3125 -4.75 L 6.3125 -1.75 C 6.3125 -1.40625 6.351562 -1.144531 6.4375 -0.96875 C 6.53125 -0.800781 6.707031 -0.71875 6.96875 -0.71875 C 7.03125 -0.71875 7.09375 -0.71875 7.15625 -0.71875 C 7.21875 -0.726562 7.28125 -0.742188 7.34375 -0.765625 L 7.34375 -0.03125 C 7.195312 0 7.050781 0.0195312 6.90625 0.03125 C 6.757812 0.0507812 6.609375 0.0625 6.453125 0.0625 C 6.234375 0.0625 6.039062 0.0351562 5.875 -0.015625 C 5.71875 -0.078125 5.585938 -0.164062 5.484375 -0.28125 C 5.390625 -0.40625 5.316406 -0.550781 5.265625 -0.71875 C 5.222656 -0.894531 5.191406 -1.097656 5.171875 -1.328125 L 5.140625 -1.328125 C 5.015625 -1.109375 4.875 -0.90625 4.71875 -0.71875 C 4.570312 -0.539062 4.398438 -0.390625 4.203125 -0.265625 C 4.003906 -0.140625 3.78125 -0.046875 3.53125 0.015625 C 3.28125 0.0859375 2.992188 0.125 2.671875 0.125 Z M 2.9375 -0.734375 C 3.300781 -0.734375 3.617188 -0.800781 3.890625 -0.9375 C 4.171875 -1.070312 4.40625 -1.242188 4.59375 -1.453125 C 4.78125 -1.671875 4.914062 -1.90625 5 -2.15625 C 5.09375 -2.40625 5.140625 -2.644531 5.140625 -2.875 L 5.140625 -3.4375 L 3.875 -3.421875 C 3.582031 -3.410156 3.304688 -3.382812 3.046875 -3.34375 C 2.796875 -3.3125 2.570312 -3.242188 2.375 -3.140625 C 2.1875 -3.035156 2.035156 -2.882812 1.921875 -2.6875 C 1.804688 -2.488281 1.75 -2.234375 1.75 -1.921875 C 1.75 -1.546875 1.847656 -1.253906 2.046875 -1.046875 C 2.253906 -0.835938 2.550781 -0.734375 2.9375 -0.734375 Z M 2.9375 -0.734375 \"/>\n",
       "</g>\n",
       "<g id=\"glyph-3-6\">\n",
       "<path d=\"M 3.578125 -0.046875 C 3.398438 -0.00390625 3.21875 0.03125 3.03125 0.0625 C 2.851562 0.09375 2.640625 0.109375 2.390625 0.109375 C 1.460938 0.109375 1 -0.414062 1 -1.46875 L 1 -6.125 L 0.203125 -6.125 L 0.203125 -6.96875 L 1.046875 -6.96875 L 1.390625 -8.53125 L 2.171875 -8.53125 L 2.171875 -6.96875 L 3.453125 -6.96875 L 3.453125 -6.125 L 2.171875 -6.125 L 2.171875 -1.734375 C 2.171875 -1.390625 2.222656 -1.148438 2.328125 -1.015625 C 2.441406 -0.878906 2.632812 -0.8125 2.90625 -0.8125 C 3.007812 -0.8125 3.113281 -0.820312 3.21875 -0.84375 C 3.332031 -0.863281 3.453125 -0.882812 3.578125 -0.90625 Z M 3.578125 -0.046875 \"/>\n",
       "</g>\n",
       "<g id=\"glyph-3-7\">\n",
       "<path d=\"M 6.78125 -3.5 C 6.78125 -2.269531 6.507812 -1.359375 5.96875 -0.765625 C 5.4375 -0.171875 4.660156 0.125 3.640625 0.125 C 3.148438 0.125 2.710938 0.0507812 2.328125 -0.09375 C 1.953125 -0.238281 1.628906 -0.460938 1.359375 -0.765625 C 1.097656 -1.066406 0.894531 -1.441406 0.75 -1.890625 C 0.613281 -2.347656 0.546875 -2.882812 0.546875 -3.5 C 0.546875 -5.90625 1.59375 -7.109375 3.6875 -7.109375 C 4.226562 -7.109375 4.691406 -7.03125 5.078125 -6.875 C 5.472656 -6.726562 5.796875 -6.503906 6.046875 -6.203125 C 6.296875 -5.898438 6.476562 -5.519531 6.59375 -5.0625 C 6.71875 -4.613281 6.78125 -4.09375 6.78125 -3.5 Z M 5.5625 -3.5 C 5.5625 -4.039062 5.519531 -4.484375 5.4375 -4.828125 C 5.351562 -5.179688 5.226562 -5.460938 5.0625 -5.671875 C 4.90625 -5.890625 4.710938 -6.039062 4.484375 -6.125 C 4.253906 -6.207031 3.992188 -6.25 3.703125 -6.25 C 3.398438 -6.25 3.128906 -6.203125 2.890625 -6.109375 C 2.660156 -6.023438 2.457031 -5.875 2.28125 -5.65625 C 2.113281 -5.445312 1.984375 -5.164062 1.890625 -4.8125 C 1.804688 -4.457031 1.765625 -4.019531 1.765625 -3.5 C 1.765625 -2.957031 1.8125 -2.507812 1.90625 -2.15625 C 2.007812 -1.800781 2.140625 -1.515625 2.296875 -1.296875 C 2.460938 -1.085938 2.660156 -0.941406 2.890625 -0.859375 C 3.117188 -0.773438 3.363281 -0.734375 3.625 -0.734375 C 3.925781 -0.734375 4.195312 -0.773438 4.4375 -0.859375 C 4.675781 -0.941406 4.878906 -1.085938 5.046875 -1.296875 C 5.210938 -1.503906 5.335938 -1.785156 5.421875 -2.140625 C 5.515625 -2.503906 5.5625 -2.957031 5.5625 -3.5 Z M 5.5625 -3.5 \"/>\n",
       "</g>\n",
       "<g id=\"glyph-3-8\">\n",
       "<path d=\"M 5.3125 0 L 5.3125 -4.421875 C 5.3125 -4.765625 5.285156 -5.046875 5.234375 -5.265625 C 5.191406 -5.492188 5.113281 -5.675781 5 -5.8125 C 4.882812 -5.957031 4.734375 -6.054688 4.546875 -6.109375 C 4.367188 -6.171875 4.144531 -6.203125 3.875 -6.203125 C 3.601562 -6.203125 3.351562 -6.15625 3.125 -6.0625 C 2.90625 -5.96875 2.71875 -5.828125 2.5625 -5.640625 C 2.40625 -5.460938 2.285156 -5.238281 2.203125 -4.96875 C 2.117188 -4.695312 2.078125 -4.390625 2.078125 -4.046875 L 2.078125 0 L 0.921875 0 L 0.921875 -5.484375 C 0.921875 -5.628906 0.914062 -5.78125 0.90625 -5.9375 C 0.90625 -6.101562 0.898438 -6.257812 0.890625 -6.40625 C 0.890625 -6.550781 0.890625 -6.675781 0.890625 -6.78125 C 0.890625 -6.882812 0.882812 -6.945312 0.875 -6.96875 L 1.96875 -6.96875 C 1.976562 -6.945312 1.984375 -6.890625 1.984375 -6.796875 C 1.984375 -6.703125 1.988281 -6.59375 2 -6.46875 C 2.007812 -6.351562 2.015625 -6.226562 2.015625 -6.09375 C 2.023438 -5.96875 2.03125 -5.863281 2.03125 -5.78125 L 2.046875 -5.78125 C 2.160156 -5.976562 2.28125 -6.160156 2.40625 -6.328125 C 2.539062 -6.492188 2.695312 -6.632812 2.875 -6.75 C 3.050781 -6.863281 3.253906 -6.953125 3.484375 -7.015625 C 3.710938 -7.078125 3.976562 -7.109375 4.28125 -7.109375 C 4.664062 -7.109375 4.992188 -7.0625 5.265625 -6.96875 C 5.546875 -6.875 5.773438 -6.726562 5.953125 -6.53125 C 6.140625 -6.332031 6.273438 -6.078125 6.359375 -5.765625 C 6.441406 -5.453125 6.484375 -5.078125 6.484375 -4.640625 L 6.484375 0 Z M 5.3125 0 \"/>\n",
       "</g>\n",
       "<g id=\"glyph-3-9\">\n",
       "<path d=\"M 0.59375 -2.984375 L 0.59375 -4.015625 L 3.8125 -4.015625 L 3.8125 -2.984375 Z M 0.59375 -2.984375 \"/>\n",
       "</g>\n",
       "<g id=\"glyph-3-10\">\n",
       "<path d=\"M 8.109375 -2.5625 C 8.109375 -2.101562 8.015625 -1.707031 7.828125 -1.375 C 7.648438 -1.050781 7.410156 -0.785156 7.109375 -0.578125 C 6.804688 -0.378906 6.453125 -0.234375 6.046875 -0.140625 C 5.640625 -0.046875 5.210938 0 4.765625 0 L 1.078125 0 L 1.078125 -9.078125 L 4.390625 -9.078125 C 4.890625 -9.078125 5.335938 -9.035156 5.734375 -8.953125 C 6.128906 -8.867188 6.460938 -8.738281 6.734375 -8.5625 C 7.015625 -8.382812 7.222656 -8.15625 7.359375 -7.875 C 7.503906 -7.59375 7.578125 -7.257812 7.578125 -6.875 C 7.578125 -6.625 7.539062 -6.382812 7.46875 -6.15625 C 7.40625 -5.9375 7.300781 -5.734375 7.15625 -5.546875 C 7.007812 -5.367188 6.828125 -5.210938 6.609375 -5.078125 C 6.390625 -4.953125 6.140625 -4.859375 5.859375 -4.796875 C 6.222656 -4.742188 6.546875 -4.65625 6.828125 -4.53125 C 7.109375 -4.414062 7.34375 -4.257812 7.53125 -4.0625 C 7.71875 -3.863281 7.859375 -3.632812 7.953125 -3.375 C 8.054688 -3.125 8.109375 -2.851562 8.109375 -2.5625 Z M 6.34375 -6.734375 C 6.34375 -7.222656 6.175781 -7.570312 5.84375 -7.78125 C 5.507812 -7.988281 5.023438 -8.09375 4.390625 -8.09375 L 2.3125 -8.09375 L 2.3125 -5.21875 L 4.390625 -5.21875 C 4.742188 -5.21875 5.046875 -5.253906 5.296875 -5.328125 C 5.546875 -5.398438 5.75 -5.5 5.90625 -5.625 C 6.0625 -5.757812 6.171875 -5.914062 6.234375 -6.09375 C 6.304688 -6.28125 6.34375 -6.492188 6.34375 -6.734375 Z M 6.859375 -2.65625 C 6.859375 -2.945312 6.804688 -3.191406 6.703125 -3.390625 C 6.597656 -3.585938 6.445312 -3.75 6.25 -3.875 C 6.050781 -4.007812 5.8125 -4.109375 5.53125 -4.171875 C 5.257812 -4.234375 4.953125 -4.265625 4.609375 -4.265625 L 2.3125 -4.265625 L 2.3125 -0.984375 L 4.703125 -0.984375 C 5.015625 -0.984375 5.300781 -1.007812 5.5625 -1.0625 C 5.832031 -1.113281 6.0625 -1.203125 6.25 -1.328125 C 6.445312 -1.460938 6.597656 -1.632812 6.703125 -1.84375 C 6.804688 -2.0625 6.859375 -2.332031 6.859375 -2.65625 Z M 6.859375 -2.65625 \"/>\n",
       "</g>\n",
       "<g id=\"glyph-3-11\">\n",
       "<path d=\"M 6.125 -1.921875 C 6.125 -1.597656 6.0625 -1.304688 5.9375 -1.046875 C 5.8125 -0.796875 5.625 -0.582031 5.375 -0.40625 C 5.132812 -0.226562 4.835938 -0.09375 4.484375 0 C 4.140625 0.0820312 3.742188 0.125 3.296875 0.125 C 2.890625 0.125 2.523438 0.09375 2.203125 0.03125 C 1.878906 -0.03125 1.59375 -0.128906 1.34375 -0.265625 C 1.101562 -0.398438 0.898438 -0.578125 0.734375 -0.796875 C 0.566406 -1.023438 0.445312 -1.304688 0.375 -1.640625 L 1.390625 -1.84375 C 1.492188 -1.46875 1.695312 -1.191406 2 -1.015625 C 2.3125 -0.835938 2.742188 -0.75 3.296875 -0.75 C 3.546875 -0.75 3.773438 -0.765625 3.984375 -0.796875 C 4.191406 -0.835938 4.367188 -0.898438 4.515625 -0.984375 C 4.671875 -1.066406 4.789062 -1.175781 4.875 -1.3125 C 4.957031 -1.457031 5 -1.632812 5 -1.84375 C 5 -2.050781 4.945312 -2.222656 4.84375 -2.359375 C 4.75 -2.492188 4.613281 -2.601562 4.4375 -2.6875 C 4.257812 -2.78125 4.046875 -2.859375 3.796875 -2.921875 C 3.546875 -2.992188 3.269531 -3.070312 2.96875 -3.15625 C 2.6875 -3.226562 2.40625 -3.304688 2.125 -3.390625 C 1.851562 -3.484375 1.609375 -3.601562 1.390625 -3.75 C 1.171875 -3.90625 0.988281 -4.09375 0.84375 -4.3125 C 0.707031 -4.53125 0.640625 -4.800781 0.640625 -5.125 C 0.640625 -5.757812 0.863281 -6.242188 1.3125 -6.578125 C 1.769531 -6.910156 2.4375 -7.078125 3.3125 -7.078125 C 4.082031 -7.078125 4.691406 -6.941406 5.140625 -6.671875 C 5.597656 -6.398438 5.882812 -5.96875 6 -5.375 L 4.953125 -5.25 C 4.921875 -5.425781 4.851562 -5.578125 4.75 -5.703125 C 4.644531 -5.828125 4.519531 -5.925781 4.375 -6 C 4.226562 -6.070312 4.0625 -6.125 3.875 -6.15625 C 3.695312 -6.1875 3.507812 -6.203125 3.3125 -6.203125 C 2.78125 -6.203125 2.390625 -6.125 2.140625 -5.96875 C 1.890625 -5.8125 1.765625 -5.570312 1.765625 -5.25 C 1.765625 -5.0625 1.8125 -4.90625 1.90625 -4.78125 C 2 -4.65625 2.128906 -4.550781 2.296875 -4.46875 C 2.460938 -4.382812 2.660156 -4.3125 2.890625 -4.25 C 3.128906 -4.1875 3.382812 -4.125 3.65625 -4.0625 C 3.84375 -4.007812 4.03125 -3.957031 4.21875 -3.90625 C 4.414062 -3.851562 4.601562 -3.785156 4.78125 -3.703125 C 4.96875 -3.628906 5.140625 -3.539062 5.296875 -3.4375 C 5.460938 -3.34375 5.601562 -3.222656 5.71875 -3.078125 C 5.84375 -2.941406 5.941406 -2.773438 6.015625 -2.578125 C 6.085938 -2.390625 6.125 -2.171875 6.125 -1.921875 Z M 6.125 -1.921875 \"/>\n",
       "</g>\n",
       "<g id=\"glyph-3-12\">\n",
       "<path d=\"M 1.78125 -3.25 C 1.78125 -2.875 1.816406 -2.53125 1.890625 -2.21875 C 1.960938 -1.914062 2.078125 -1.65625 2.234375 -1.4375 C 2.390625 -1.21875 2.585938 -1.046875 2.828125 -0.921875 C 3.078125 -0.796875 3.375 -0.734375 3.71875 -0.734375 C 4.226562 -0.734375 4.632812 -0.832031 4.9375 -1.03125 C 5.238281 -1.238281 5.441406 -1.5 5.546875 -1.8125 L 6.5625 -1.515625 C 6.488281 -1.328125 6.382812 -1.132812 6.25 -0.9375 C 6.125 -0.738281 5.953125 -0.5625 5.734375 -0.40625 C 5.515625 -0.25 5.238281 -0.117188 4.90625 -0.015625 C 4.582031 0.078125 4.1875 0.125 3.71875 0.125 C 2.6875 0.125 1.898438 -0.179688 1.359375 -0.796875 C 0.828125 -1.410156 0.5625 -2.320312 0.5625 -3.53125 C 0.5625 -4.1875 0.640625 -4.738281 0.796875 -5.1875 C 0.960938 -5.644531 1.1875 -6.015625 1.46875 -6.296875 C 1.757812 -6.578125 2.09375 -6.78125 2.46875 -6.90625 C 2.84375 -7.039062 3.25 -7.109375 3.6875 -7.109375 C 4.269531 -7.109375 4.753906 -7.007812 5.140625 -6.8125 C 5.535156 -6.625 5.851562 -6.363281 6.09375 -6.03125 C 6.332031 -5.695312 6.5 -5.304688 6.59375 -4.859375 C 6.695312 -4.410156 6.75 -3.921875 6.75 -3.390625 L 6.75 -3.25 Z M 5.5625 -4.125 C 5.488281 -4.863281 5.296875 -5.398438 4.984375 -5.734375 C 4.679688 -6.078125 4.238281 -6.25 3.65625 -6.25 C 3.46875 -6.25 3.265625 -6.21875 3.046875 -6.15625 C 2.835938 -6.09375 2.640625 -5.976562 2.453125 -5.8125 C 2.273438 -5.65625 2.125 -5.441406 2 -5.171875 C 1.875 -4.898438 1.804688 -4.550781 1.796875 -4.125 Z M 5.5625 -4.125 \"/>\n",
       "</g>\n",
       "<g id=\"glyph-3-13\">\n",
       "<path d=\"M 5.296875 -1.125 C 5.078125 -0.675781 4.789062 -0.351562 4.4375 -0.15625 C 4.082031 0.03125 3.644531 0.125 3.125 0.125 C 2.238281 0.125 1.585938 -0.171875 1.171875 -0.765625 C 0.753906 -1.359375 0.546875 -2.253906 0.546875 -3.453125 C 0.546875 -5.890625 1.40625 -7.109375 3.125 -7.109375 C 3.644531 -7.109375 4.082031 -7.007812 4.4375 -6.8125 C 4.789062 -6.625 5.078125 -6.316406 5.296875 -5.890625 L 5.3125 -5.890625 C 5.3125 -5.929688 5.304688 -6 5.296875 -6.09375 C 5.296875 -6.1875 5.296875 -6.28125 5.296875 -6.375 C 5.296875 -6.476562 5.296875 -6.578125 5.296875 -6.671875 C 5.296875 -6.765625 5.296875 -6.828125 5.296875 -6.859375 L 5.296875 -9.5625 L 6.453125 -9.5625 L 6.453125 -1.4375 C 6.453125 -1.269531 6.453125 -1.109375 6.453125 -0.953125 C 6.453125 -0.796875 6.453125 -0.648438 6.453125 -0.515625 C 6.460938 -0.390625 6.46875 -0.28125 6.46875 -0.1875 C 6.476562 -0.101562 6.484375 -0.0390625 6.484375 0 L 5.390625 0 C 5.378906 -0.0390625 5.367188 -0.0976562 5.359375 -0.171875 C 5.347656 -0.253906 5.335938 -0.347656 5.328125 -0.453125 C 5.328125 -0.554688 5.320312 -0.664062 5.3125 -0.78125 C 5.3125 -0.894531 5.3125 -1.007812 5.3125 -1.125 Z M 1.765625 -3.5 C 1.765625 -3.007812 1.796875 -2.59375 1.859375 -2.25 C 1.921875 -1.90625 2.019531 -1.625 2.15625 -1.40625 C 2.289062 -1.1875 2.457031 -1.023438 2.65625 -0.921875 C 2.863281 -0.816406 3.117188 -0.765625 3.421875 -0.765625 C 3.722656 -0.765625 3.988281 -0.8125 4.21875 -0.90625 C 4.457031 -1.007812 4.65625 -1.171875 4.8125 -1.390625 C 4.96875 -1.617188 5.085938 -1.910156 5.171875 -2.265625 C 5.253906 -2.617188 5.296875 -3.054688 5.296875 -3.578125 C 5.296875 -4.066406 5.253906 -4.484375 5.171875 -4.828125 C 5.085938 -5.171875 4.96875 -5.445312 4.8125 -5.65625 C 4.65625 -5.863281 4.457031 -6.015625 4.21875 -6.109375 C 3.988281 -6.203125 3.726562 -6.25 3.4375 -6.25 C 3.144531 -6.25 2.894531 -6.195312 2.6875 -6.09375 C 2.488281 -6 2.316406 -5.84375 2.171875 -5.625 C 2.035156 -5.40625 1.929688 -5.117188 1.859375 -4.765625 C 1.796875 -4.410156 1.765625 -3.988281 1.765625 -3.5 Z M 1.765625 -3.5 \"/>\n",
       "</g>\n",
       "<g id=\"glyph-3-14\">\n",
       "</g>\n",
       "<g id=\"glyph-3-15\">\n",
       "<path d=\"M 6.96875 0 L 2.109375 -7.734375 C 2.117188 -7.523438 2.128906 -7.316406 2.140625 -7.109375 C 2.148438 -6.929688 2.15625 -6.742188 2.15625 -6.546875 C 2.164062 -6.359375 2.171875 -6.1875 2.171875 -6.03125 L 2.171875 0 L 1.078125 0 L 1.078125 -9.078125 L 2.515625 -9.078125 L 7.421875 -1.296875 C 7.410156 -1.503906 7.398438 -1.710938 7.390625 -1.921875 C 7.378906 -2.109375 7.367188 -2.304688 7.359375 -2.515625 C 7.347656 -2.734375 7.34375 -2.9375 7.34375 -3.125 L 7.34375 -9.078125 L 8.453125 -9.078125 L 8.453125 0 Z M 6.96875 0 \"/>\n",
       "</g>\n",
       "<g id=\"glyph-3-16\">\n",
       "<path d=\"M 8.90625 -4.640625 C 8.90625 -3.878906 8.789062 -3.207031 8.5625 -2.625 C 8.332031 -2.050781 8.019531 -1.566406 7.625 -1.171875 C 7.226562 -0.785156 6.757812 -0.492188 6.21875 -0.296875 C 5.6875 -0.0976562 5.109375 0 4.484375 0 L 1.078125 0 L 1.078125 -9.078125 L 4.09375 -9.078125 C 4.789062 -9.078125 5.429688 -8.988281 6.015625 -8.8125 C 6.609375 -8.644531 7.117188 -8.378906 7.546875 -8.015625 C 7.972656 -7.648438 8.304688 -7.1875 8.546875 -6.625 C 8.785156 -6.070312 8.90625 -5.410156 8.90625 -4.640625 Z M 7.671875 -4.640625 C 7.671875 -5.253906 7.582031 -5.773438 7.40625 -6.203125 C 7.226562 -6.640625 6.976562 -7 6.65625 -7.28125 C 6.34375 -7.5625 5.960938 -7.765625 5.515625 -7.890625 C 5.078125 -8.023438 4.59375 -8.09375 4.0625 -8.09375 L 2.3125 -8.09375 L 2.3125 -0.984375 L 4.34375 -0.984375 C 4.8125 -0.984375 5.25 -1.0625 5.65625 -1.21875 C 6.0625 -1.375 6.410156 -1.601562 6.703125 -1.90625 C 7.003906 -2.207031 7.238281 -2.585938 7.40625 -3.046875 C 7.582031 -3.503906 7.671875 -4.035156 7.671875 -4.640625 Z M 7.671875 -4.640625 \"/>\n",
       "</g>\n",
       "<g id=\"glyph-3-17\">\n",
       "<path d=\"M 0.921875 0 L 0.921875 -5.34375 C 0.921875 -5.488281 0.914062 -5.640625 0.90625 -5.796875 C 0.90625 -5.953125 0.898438 -6.097656 0.890625 -6.234375 C 0.890625 -6.378906 0.890625 -6.515625 0.890625 -6.640625 C 0.890625 -6.765625 0.882812 -6.875 0.875 -6.96875 L 1.96875 -6.96875 C 1.976562 -6.875 1.984375 -6.765625 1.984375 -6.640625 C 1.992188 -6.515625 2 -6.382812 2 -6.25 C 2.007812 -6.113281 2.015625 -5.984375 2.015625 -5.859375 C 2.023438 -5.734375 2.03125 -5.628906 2.03125 -5.546875 L 2.046875 -5.546875 C 2.128906 -5.816406 2.21875 -6.046875 2.3125 -6.234375 C 2.40625 -6.429688 2.515625 -6.59375 2.640625 -6.71875 C 2.765625 -6.851562 2.910156 -6.953125 3.078125 -7.015625 C 3.253906 -7.078125 3.460938 -7.109375 3.703125 -7.109375 C 3.796875 -7.109375 3.882812 -7.097656 3.96875 -7.078125 C 4.0625 -7.066406 4.128906 -7.054688 4.171875 -7.046875 L 4.171875 -5.96875 C 4.097656 -6 4.007812 -6.019531 3.90625 -6.03125 C 3.800781 -6.039062 3.6875 -6.046875 3.5625 -6.046875 C 3.289062 -6.046875 3.0625 -5.984375 2.875 -5.859375 C 2.6875 -5.734375 2.535156 -5.566406 2.421875 -5.359375 C 2.304688 -5.148438 2.21875 -4.894531 2.15625 -4.59375 C 2.101562 -4.300781 2.078125 -3.984375 2.078125 -3.640625 L 2.078125 0 Z M 0.921875 0 \"/>\n",
       "</g>\n",
       "<g id=\"glyph-3-18\">\n",
       "<path d=\"M 6.78125 -3.515625 C 6.78125 -1.085938 5.925781 0.125 4.21875 0.125 C 3.695312 0.125 3.257812 0.03125 2.90625 -0.15625 C 2.550781 -0.34375 2.265625 -0.648438 2.046875 -1.078125 L 2.03125 -1.078125 C 2.03125 -0.972656 2.023438 -0.859375 2.015625 -0.734375 C 2.015625 -0.609375 2.007812 -0.492188 2 -0.390625 C 2 -0.296875 1.992188 -0.210938 1.984375 -0.140625 C 1.984375 -0.0664062 1.976562 -0.0195312 1.96875 0 L 0.84375 0 C 0.851562 -0.0390625 0.859375 -0.101562 0.859375 -0.1875 C 0.867188 -0.28125 0.875 -0.390625 0.875 -0.515625 C 0.882812 -0.648438 0.890625 -0.796875 0.890625 -0.953125 C 0.890625 -1.109375 0.890625 -1.269531 0.890625 -1.4375 L 0.890625 -9.5625 L 2.046875 -9.5625 L 2.046875 -6.84375 C 2.046875 -6.707031 2.046875 -6.582031 2.046875 -6.46875 C 2.046875 -6.351562 2.039062 -6.25 2.03125 -6.15625 C 2.03125 -6.050781 2.03125 -5.953125 2.03125 -5.859375 L 2.046875 -5.859375 C 2.265625 -6.304688 2.550781 -6.625 2.90625 -6.8125 C 3.257812 -7.007812 3.695312 -7.109375 4.21875 -7.109375 C 5.101562 -7.109375 5.75 -6.8125 6.15625 -6.21875 C 6.570312 -5.625 6.78125 -4.722656 6.78125 -3.515625 Z M 5.5625 -3.484375 C 5.5625 -3.960938 5.53125 -4.375 5.46875 -4.71875 C 5.414062 -5.0625 5.320312 -5.34375 5.1875 -5.5625 C 5.050781 -5.789062 4.878906 -5.953125 4.671875 -6.046875 C 4.472656 -6.148438 4.222656 -6.203125 3.921875 -6.203125 C 3.617188 -6.203125 3.347656 -6.148438 3.109375 -6.046875 C 2.878906 -5.953125 2.6875 -5.796875 2.53125 -5.578125 C 2.375 -5.359375 2.253906 -5.070312 2.171875 -4.71875 C 2.085938 -4.363281 2.046875 -3.925781 2.046875 -3.40625 C 2.046875 -2.90625 2.085938 -2.484375 2.171875 -2.140625 C 2.253906 -1.804688 2.375 -1.53125 2.53125 -1.3125 C 2.6875 -1.101562 2.878906 -0.953125 3.109375 -0.859375 C 3.347656 -0.773438 3.613281 -0.734375 3.90625 -0.734375 C 4.195312 -0.734375 4.441406 -0.78125 4.640625 -0.875 C 4.847656 -0.976562 5.019531 -1.140625 5.15625 -1.359375 C 5.300781 -1.578125 5.40625 -1.859375 5.46875 -2.203125 C 5.53125 -2.554688 5.5625 -2.984375 5.5625 -3.484375 Z M 5.5625 -3.484375 \"/>\n",
       "</g>\n",
       "</g>\n",
       "<clipPath id=\"clip-0\">\n",
       "<path clip-rule=\"nonzero\" d=\"M 38.152344 23.957031 L 354.523438 23.957031 L 354.523438 327.847656 L 38.152344 327.847656 Z M 38.152344 23.957031 \"/>\n",
       "</clipPath>\n",
       "<clipPath id=\"clip-1\">\n",
       "<path clip-rule=\"nonzero\" d=\"M 38.152344 272 L 354.523438 272 L 354.523438 274 L 38.152344 274 Z M 38.152344 272 \"/>\n",
       "</clipPath>\n",
       "<clipPath id=\"clip-2\">\n",
       "<path clip-rule=\"nonzero\" d=\"M 38.152344 191 L 354.523438 191 L 354.523438 192 L 38.152344 192 Z M 38.152344 191 \"/>\n",
       "</clipPath>\n",
       "<clipPath id=\"clip-3\">\n",
       "<path clip-rule=\"nonzero\" d=\"M 38.152344 109 L 354.523438 109 L 354.523438 110 L 38.152344 110 Z M 38.152344 109 \"/>\n",
       "</clipPath>\n",
       "<clipPath id=\"clip-4\">\n",
       "<path clip-rule=\"nonzero\" d=\"M 38.152344 27 L 354.523438 27 L 354.523438 29 L 38.152344 29 Z M 38.152344 27 \"/>\n",
       "</clipPath>\n",
       "<clipPath id=\"clip-5\">\n",
       "<path clip-rule=\"nonzero\" d=\"M 102 23.957031 L 103 23.957031 L 103 327.847656 L 102 327.847656 Z M 102 23.957031 \"/>\n",
       "</clipPath>\n",
       "<clipPath id=\"clip-6\">\n",
       "<path clip-rule=\"nonzero\" d=\"M 177 23.957031 L 179 23.957031 L 179 327.847656 L 177 327.847656 Z M 177 23.957031 \"/>\n",
       "</clipPath>\n",
       "<clipPath id=\"clip-7\">\n",
       "<path clip-rule=\"nonzero\" d=\"M 252 23.957031 L 254 23.957031 L 254 327.847656 L 252 327.847656 Z M 252 23.957031 \"/>\n",
       "</clipPath>\n",
       "<clipPath id=\"clip-8\">\n",
       "<path clip-rule=\"nonzero\" d=\"M 328 23.957031 L 329 23.957031 L 329 327.847656 L 328 327.847656 Z M 328 23.957031 \"/>\n",
       "</clipPath>\n",
       "<clipPath id=\"clip-9\">\n",
       "<path clip-rule=\"nonzero\" d=\"M 38.152344 313 L 354.523438 313 L 354.523438 315 L 38.152344 315 Z M 38.152344 313 \"/>\n",
       "</clipPath>\n",
       "<clipPath id=\"clip-10\">\n",
       "<path clip-rule=\"nonzero\" d=\"M 38.152344 231 L 354.523438 231 L 354.523438 233 L 38.152344 233 Z M 38.152344 231 \"/>\n",
       "</clipPath>\n",
       "<clipPath id=\"clip-11\">\n",
       "<path clip-rule=\"nonzero\" d=\"M 38.152344 150 L 354.523438 150 L 354.523438 152 L 38.152344 152 Z M 38.152344 150 \"/>\n",
       "</clipPath>\n",
       "<clipPath id=\"clip-12\">\n",
       "<path clip-rule=\"nonzero\" d=\"M 38.152344 68 L 354.523438 68 L 354.523438 70 L 38.152344 70 Z M 38.152344 68 \"/>\n",
       "</clipPath>\n",
       "<clipPath id=\"clip-13\">\n",
       "<path clip-rule=\"nonzero\" d=\"M 64 23.957031 L 66 23.957031 L 66 327.847656 L 64 327.847656 Z M 64 23.957031 \"/>\n",
       "</clipPath>\n",
       "<clipPath id=\"clip-14\">\n",
       "<path clip-rule=\"nonzero\" d=\"M 139 23.957031 L 141 23.957031 L 141 327.847656 L 139 327.847656 Z M 139 23.957031 \"/>\n",
       "</clipPath>\n",
       "<clipPath id=\"clip-15\">\n",
       "<path clip-rule=\"nonzero\" d=\"M 214 23.957031 L 217 23.957031 L 217 327.847656 L 214 327.847656 Z M 214 23.957031 \"/>\n",
       "</clipPath>\n",
       "<clipPath id=\"clip-16\">\n",
       "<path clip-rule=\"nonzero\" d=\"M 290 23.957031 L 292 23.957031 L 292 327.847656 L 290 327.847656 Z M 290 23.957031 \"/>\n",
       "</clipPath>\n",
       "</defs>\n",
       "<rect x=\"-36\" y=\"-36\" width=\"432\" height=\"432\" fill=\"rgb(100%, 100%, 100%)\" fill-opacity=\"1\"/>\n",
       "<rect x=\"-36\" y=\"-36\" width=\"432\" height=\"432\" fill=\"rgb(100%, 100%, 100%)\" fill-opacity=\"1\"/>\n",
       "<path fill=\"none\" stroke-width=\"1.066978\" stroke-linecap=\"round\" stroke-linejoin=\"round\" stroke=\"rgb(100%, 100%, 100%)\" stroke-opacity=\"1\" stroke-miterlimit=\"10\" d=\"M 0 360 L 360 360 L 360 0 L 0 0 Z M 0 360 \"/>\n",
       "<g clip-path=\"url(#clip-0)\">\n",
       "<path fill-rule=\"nonzero\" fill=\"rgb(92.156863%, 92.156863%, 92.156863%)\" fill-opacity=\"1\" d=\"M 38.152344 327.847656 L 354.523438 327.847656 L 354.523438 23.957031 L 38.152344 23.957031 Z M 38.152344 327.847656 \"/>\n",
       "</g>\n",
       "<g clip-path=\"url(#clip-1)\">\n",
       "<path fill=\"none\" stroke-width=\"0.533489\" stroke-linecap=\"butt\" stroke-linejoin=\"round\" stroke=\"rgb(100%, 100%, 100%)\" stroke-opacity=\"1\" stroke-miterlimit=\"10\" d=\"M 38.152344 273.167969 L 354.519531 273.167969 \"/>\n",
       "</g>\n",
       "<g clip-path=\"url(#clip-2)\">\n",
       "<path fill=\"none\" stroke-width=\"0.533489\" stroke-linecap=\"butt\" stroke-linejoin=\"round\" stroke=\"rgb(100%, 100%, 100%)\" stroke-opacity=\"1\" stroke-miterlimit=\"10\" d=\"M 38.152344 191.433594 L 354.519531 191.433594 \"/>\n",
       "</g>\n",
       "<g clip-path=\"url(#clip-3)\">\n",
       "<path fill=\"none\" stroke-width=\"0.533489\" stroke-linecap=\"butt\" stroke-linejoin=\"round\" stroke=\"rgb(100%, 100%, 100%)\" stroke-opacity=\"1\" stroke-miterlimit=\"10\" d=\"M 38.152344 109.699219 L 354.519531 109.699219 \"/>\n",
       "</g>\n",
       "<g clip-path=\"url(#clip-4)\">\n",
       "<path fill=\"none\" stroke-width=\"0.533489\" stroke-linecap=\"butt\" stroke-linejoin=\"round\" stroke=\"rgb(100%, 100%, 100%)\" stroke-opacity=\"1\" stroke-miterlimit=\"10\" d=\"M 38.152344 27.964844 L 354.519531 27.964844 \"/>\n",
       "</g>\n",
       "<g clip-path=\"url(#clip-5)\">\n",
       "<path fill=\"none\" stroke-width=\"0.533489\" stroke-linecap=\"butt\" stroke-linejoin=\"round\" stroke=\"rgb(100%, 100%, 100%)\" stroke-opacity=\"1\" stroke-miterlimit=\"10\" d=\"M 102.730469 327.847656 L 102.730469 23.957031 \"/>\n",
       "</g>\n",
       "<g clip-path=\"url(#clip-6)\">\n",
       "<path fill=\"none\" stroke-width=\"0.533489\" stroke-linecap=\"butt\" stroke-linejoin=\"round\" stroke=\"rgb(100%, 100%, 100%)\" stroke-opacity=\"1\" stroke-miterlimit=\"10\" d=\"M 177.914062 327.847656 L 177.914062 23.957031 \"/>\n",
       "</g>\n",
       "<g clip-path=\"url(#clip-7)\">\n",
       "<path fill=\"none\" stroke-width=\"0.533489\" stroke-linecap=\"butt\" stroke-linejoin=\"round\" stroke=\"rgb(100%, 100%, 100%)\" stroke-opacity=\"1\" stroke-miterlimit=\"10\" d=\"M 253.101562 327.847656 L 253.101562 23.957031 \"/>\n",
       "</g>\n",
       "<g clip-path=\"url(#clip-8)\">\n",
       "<path fill=\"none\" stroke-width=\"0.533489\" stroke-linecap=\"butt\" stroke-linejoin=\"round\" stroke=\"rgb(100%, 100%, 100%)\" stroke-opacity=\"1\" stroke-miterlimit=\"10\" d=\"M 328.289062 327.847656 L 328.289062 23.957031 \"/>\n",
       "</g>\n",
       "<g clip-path=\"url(#clip-9)\">\n",
       "<path fill=\"none\" stroke-width=\"1.066978\" stroke-linecap=\"butt\" stroke-linejoin=\"round\" stroke=\"rgb(100%, 100%, 100%)\" stroke-opacity=\"1\" stroke-miterlimit=\"10\" d=\"M 38.152344 314.035156 L 354.519531 314.035156 \"/>\n",
       "</g>\n",
       "<g clip-path=\"url(#clip-10)\">\n",
       "<path fill=\"none\" stroke-width=\"1.066978\" stroke-linecap=\"butt\" stroke-linejoin=\"round\" stroke=\"rgb(100%, 100%, 100%)\" stroke-opacity=\"1\" stroke-miterlimit=\"10\" d=\"M 38.152344 232.300781 L 354.519531 232.300781 \"/>\n",
       "</g>\n",
       "<g clip-path=\"url(#clip-11)\">\n",
       "<path fill=\"none\" stroke-width=\"1.066978\" stroke-linecap=\"butt\" stroke-linejoin=\"round\" stroke=\"rgb(100%, 100%, 100%)\" stroke-opacity=\"1\" stroke-miterlimit=\"10\" d=\"M 38.152344 150.566406 L 354.519531 150.566406 \"/>\n",
       "</g>\n",
       "<g clip-path=\"url(#clip-12)\">\n",
       "<path fill=\"none\" stroke-width=\"1.066978\" stroke-linecap=\"butt\" stroke-linejoin=\"round\" stroke=\"rgb(100%, 100%, 100%)\" stroke-opacity=\"1\" stroke-miterlimit=\"10\" d=\"M 38.152344 68.832031 L 354.519531 68.832031 \"/>\n",
       "</g>\n",
       "<g clip-path=\"url(#clip-13)\">\n",
       "<path fill=\"none\" stroke-width=\"1.066978\" stroke-linecap=\"butt\" stroke-linejoin=\"round\" stroke=\"rgb(100%, 100%, 100%)\" stroke-opacity=\"1\" stroke-miterlimit=\"10\" d=\"M 65.136719 327.847656 L 65.136719 23.957031 \"/>\n",
       "</g>\n",
       "<g clip-path=\"url(#clip-14)\">\n",
       "<path fill=\"none\" stroke-width=\"1.066978\" stroke-linecap=\"butt\" stroke-linejoin=\"round\" stroke=\"rgb(100%, 100%, 100%)\" stroke-opacity=\"1\" stroke-miterlimit=\"10\" d=\"M 140.324219 327.847656 L 140.324219 23.957031 \"/>\n",
       "</g>\n",
       "<g clip-path=\"url(#clip-15)\">\n",
       "<path fill=\"none\" stroke-width=\"1.066978\" stroke-linecap=\"butt\" stroke-linejoin=\"round\" stroke=\"rgb(100%, 100%, 100%)\" stroke-opacity=\"1\" stroke-miterlimit=\"10\" d=\"M 215.507812 327.847656 L 215.507812 23.957031 \"/>\n",
       "</g>\n",
       "<g clip-path=\"url(#clip-16)\">\n",
       "<path fill=\"none\" stroke-width=\"1.066978\" stroke-linecap=\"butt\" stroke-linejoin=\"round\" stroke=\"rgb(100%, 100%, 100%)\" stroke-opacity=\"1\" stroke-miterlimit=\"10\" d=\"M 290.695312 327.847656 L 290.695312 23.957031 \"/>\n",
       "</g>\n",
       "<path fill-rule=\"nonzero\" fill=\"rgb(34.901961%, 34.901961%, 34.901961%)\" fill-opacity=\"1\" stroke-width=\"1.066978\" stroke-linecap=\"butt\" stroke-linejoin=\"miter\" stroke=\"rgb(100%, 100%, 100%)\" stroke-opacity=\"1\" stroke-miterlimit=\"10\" d=\"M 52.53125 314.035156 L 71.707031 314.035156 L 71.707031 312.402344 L 52.53125 312.402344 Z M 52.53125 314.035156 \"/>\n",
       "<path fill-rule=\"nonzero\" fill=\"rgb(34.901961%, 34.901961%, 34.901961%)\" fill-opacity=\"1\" stroke-width=\"1.066978\" stroke-linecap=\"butt\" stroke-linejoin=\"miter\" stroke=\"rgb(100%, 100%, 100%)\" stroke-opacity=\"1\" stroke-miterlimit=\"10\" d=\"M 71.703125 314.035156 L 90.878906 314.035156 L 90.878906 310.765625 L 71.703125 310.765625 Z M 71.703125 314.035156 \"/>\n",
       "<path fill-rule=\"nonzero\" fill=\"rgb(34.901961%, 34.901961%, 34.901961%)\" fill-opacity=\"1\" stroke-width=\"1.066978\" stroke-linecap=\"butt\" stroke-linejoin=\"miter\" stroke=\"rgb(100%, 100%, 100%)\" stroke-opacity=\"1\" stroke-miterlimit=\"10\" d=\"M 90.878906 314.035156 L 110.054688 314.035156 L 110.054688 307.496094 L 90.878906 307.496094 Z M 90.878906 314.035156 \"/>\n",
       "<path fill-rule=\"nonzero\" fill=\"rgb(34.901961%, 34.901961%, 34.901961%)\" fill-opacity=\"1\" stroke-width=\"1.066978\" stroke-linecap=\"butt\" stroke-linejoin=\"miter\" stroke=\"rgb(100%, 100%, 100%)\" stroke-opacity=\"1\" stroke-miterlimit=\"10\" d=\"M 110.054688 314.035156 L 129.230469 314.035156 L 129.230469 276.4375 L 110.054688 276.4375 Z M 110.054688 314.035156 \"/>\n",
       "<path fill-rule=\"nonzero\" fill=\"rgb(34.901961%, 34.901961%, 34.901961%)\" fill-opacity=\"1\" stroke-width=\"1.066978\" stroke-linecap=\"butt\" stroke-linejoin=\"miter\" stroke=\"rgb(100%, 100%, 100%)\" stroke-opacity=\"1\" stroke-miterlimit=\"10\" d=\"M 129.226562 314.035156 L 148.402344 314.035156 L 148.402344 260.089844 L 129.226562 260.089844 Z M 129.226562 314.035156 \"/>\n",
       "<path fill-rule=\"nonzero\" fill=\"rgb(34.901961%, 34.901961%, 34.901961%)\" fill-opacity=\"1\" stroke-width=\"1.066978\" stroke-linecap=\"butt\" stroke-linejoin=\"miter\" stroke=\"rgb(100%, 100%, 100%)\" stroke-opacity=\"1\" stroke-miterlimit=\"10\" d=\"M 148.402344 314.035156 L 167.578125 314.035156 L 167.578125 178.355469 L 148.402344 178.355469 Z M 148.402344 314.035156 \"/>\n",
       "<path fill-rule=\"nonzero\" fill=\"rgb(34.901961%, 34.901961%, 34.901961%)\" fill-opacity=\"1\" stroke-width=\"1.066978\" stroke-linecap=\"butt\" stroke-linejoin=\"miter\" stroke=\"rgb(100%, 100%, 100%)\" stroke-opacity=\"1\" stroke-miterlimit=\"10\" d=\"M 167.574219 314.035156 L 186.75 314.035156 L 186.75 109.699219 L 167.574219 109.699219 Z M 167.574219 314.035156 \"/>\n",
       "<path fill-rule=\"nonzero\" fill=\"rgb(34.901961%, 34.901961%, 34.901961%)\" fill-opacity=\"1\" stroke-width=\"1.066978\" stroke-linecap=\"butt\" stroke-linejoin=\"miter\" stroke=\"rgb(100%, 100%, 100%)\" stroke-opacity=\"1\" stroke-miterlimit=\"10\" d=\"M 186.75 314.035156 L 205.925781 314.035156 L 205.925781 68.832031 L 186.75 68.832031 Z M 186.75 314.035156 \"/>\n",
       "<path fill-rule=\"nonzero\" fill=\"rgb(34.901961%, 34.901961%, 34.901961%)\" fill-opacity=\"1\" stroke-width=\"1.066978\" stroke-linecap=\"butt\" stroke-linejoin=\"miter\" stroke=\"rgb(100%, 100%, 100%)\" stroke-opacity=\"1\" stroke-miterlimit=\"10\" d=\"M 205.921875 314.035156 L 225.097656 314.035156 L 225.097656 37.769531 L 205.921875 37.769531 Z M 205.921875 314.035156 \"/>\n",
       "<path fill-rule=\"nonzero\" fill=\"rgb(34.901961%, 34.901961%, 34.901961%)\" fill-opacity=\"1\" stroke-width=\"1.066978\" stroke-linecap=\"butt\" stroke-linejoin=\"miter\" stroke=\"rgb(100%, 100%, 100%)\" stroke-opacity=\"1\" stroke-miterlimit=\"10\" d=\"M 225.097656 314.035156 L 244.273438 314.035156 L 244.273438 83.542969 L 225.097656 83.542969 Z M 225.097656 314.035156 \"/>\n",
       "<path fill-rule=\"nonzero\" fill=\"rgb(34.901961%, 34.901961%, 34.901961%)\" fill-opacity=\"1\" stroke-width=\"1.066978\" stroke-linecap=\"butt\" stroke-linejoin=\"miter\" stroke=\"rgb(100%, 100%, 100%)\" stroke-opacity=\"1\" stroke-miterlimit=\"10\" d=\"M 244.269531 314.035156 L 263.445312 314.035156 L 263.445312 114.601562 L 244.269531 114.601562 Z M 244.269531 314.035156 \"/>\n",
       "<path fill-rule=\"nonzero\" fill=\"rgb(34.901961%, 34.901961%, 34.901961%)\" fill-opacity=\"1\" stroke-width=\"1.066978\" stroke-linecap=\"butt\" stroke-linejoin=\"miter\" stroke=\"rgb(100%, 100%, 100%)\" stroke-opacity=\"1\" stroke-miterlimit=\"10\" d=\"M 263.445312 314.035156 L 282.621094 314.035156 L 282.621094 199.605469 L 263.445312 199.605469 Z M 263.445312 314.035156 \"/>\n",
       "<path fill-rule=\"nonzero\" fill=\"rgb(34.901961%, 34.901961%, 34.901961%)\" fill-opacity=\"1\" stroke-width=\"1.066978\" stroke-linecap=\"butt\" stroke-linejoin=\"miter\" stroke=\"rgb(100%, 100%, 100%)\" stroke-opacity=\"1\" stroke-miterlimit=\"10\" d=\"M 282.617188 314.035156 L 301.792969 314.035156 L 301.792969 233.933594 L 282.617188 233.933594 Z M 282.617188 314.035156 \"/>\n",
       "<path fill-rule=\"nonzero\" fill=\"rgb(34.901961%, 34.901961%, 34.901961%)\" fill-opacity=\"1\" stroke-width=\"1.066978\" stroke-linecap=\"butt\" stroke-linejoin=\"miter\" stroke=\"rgb(100%, 100%, 100%)\" stroke-opacity=\"1\" stroke-miterlimit=\"10\" d=\"M 301.792969 314.035156 L 320.96875 314.035156 L 320.96875 274.800781 L 301.792969 274.800781 Z M 301.792969 314.035156 \"/>\n",
       "<path fill-rule=\"nonzero\" fill=\"rgb(34.901961%, 34.901961%, 34.901961%)\" fill-opacity=\"1\" stroke-width=\"1.066978\" stroke-linecap=\"butt\" stroke-linejoin=\"miter\" stroke=\"rgb(100%, 100%, 100%)\" stroke-opacity=\"1\" stroke-miterlimit=\"10\" d=\"M 320.964844 314.035156 L 340.140625 314.035156 L 340.140625 307.496094 L 320.964844 307.496094 Z M 320.964844 314.035156 \"/>\n",
       "<g fill=\"rgb(30.196078%, 30.196078%, 30.196078%)\" fill-opacity=\"1\">\n",
       "<use xlink:href=\"#glyph-0-0\" x=\"28.21875\" y=\"317.500977\"/>\n",
       "</g>\n",
       "<g fill=\"rgb(30.196078%, 30.196078%, 30.196078%)\" fill-opacity=\"1\">\n",
       "<use xlink:href=\"#glyph-0-1\" x=\"23.21875\" y=\"235.766602\"/>\n",
       "<use xlink:href=\"#glyph-0-0\" x=\"28.21875\" y=\"235.766602\"/>\n",
       "</g>\n",
       "<g fill=\"rgb(30.196078%, 30.196078%, 30.196078%)\" fill-opacity=\"1\">\n",
       "<use xlink:href=\"#glyph-0-2\" x=\"18.21875\" y=\"154.032227\"/>\n",
       "<use xlink:href=\"#glyph-0-0\" x=\"23.21875\" y=\"154.032227\"/>\n",
       "<use xlink:href=\"#glyph-0-0\" x=\"28.21875\" y=\"154.032227\"/>\n",
       "</g>\n",
       "<g fill=\"rgb(30.196078%, 30.196078%, 30.196078%)\" fill-opacity=\"1\">\n",
       "<use xlink:href=\"#glyph-0-2\" x=\"18.21875\" y=\"72.297852\"/>\n",
       "<use xlink:href=\"#glyph-0-1\" x=\"23.21875\" y=\"72.297852\"/>\n",
       "<use xlink:href=\"#glyph-0-0\" x=\"28.21875\" y=\"72.297852\"/>\n",
       "</g>\n",
       "<path fill=\"none\" stroke-width=\"1.066978\" stroke-linecap=\"butt\" stroke-linejoin=\"round\" stroke=\"rgb(20%, 20%, 20%)\" stroke-opacity=\"1\" stroke-miterlimit=\"10\" d=\"M 35.410156 314.035156 L 38.152344 314.035156 \"/>\n",
       "<path fill=\"none\" stroke-width=\"1.066978\" stroke-linecap=\"butt\" stroke-linejoin=\"round\" stroke=\"rgb(20%, 20%, 20%)\" stroke-opacity=\"1\" stroke-miterlimit=\"10\" d=\"M 35.410156 232.300781 L 38.152344 232.300781 \"/>\n",
       "<path fill=\"none\" stroke-width=\"1.066978\" stroke-linecap=\"butt\" stroke-linejoin=\"round\" stroke=\"rgb(20%, 20%, 20%)\" stroke-opacity=\"1\" stroke-miterlimit=\"10\" d=\"M 35.410156 150.566406 L 38.152344 150.566406 \"/>\n",
       "<path fill=\"none\" stroke-width=\"1.066978\" stroke-linecap=\"butt\" stroke-linejoin=\"round\" stroke=\"rgb(20%, 20%, 20%)\" stroke-opacity=\"1\" stroke-miterlimit=\"10\" d=\"M 35.410156 68.832031 L 38.152344 68.832031 \"/>\n",
       "<path fill=\"none\" stroke-width=\"1.066978\" stroke-linecap=\"butt\" stroke-linejoin=\"round\" stroke=\"rgb(20%, 20%, 20%)\" stroke-opacity=\"1\" stroke-miterlimit=\"10\" d=\"M 65.136719 330.589844 L 65.136719 327.847656 \"/>\n",
       "<path fill=\"none\" stroke-width=\"1.066978\" stroke-linecap=\"butt\" stroke-linejoin=\"round\" stroke=\"rgb(20%, 20%, 20%)\" stroke-opacity=\"1\" stroke-miterlimit=\"10\" d=\"M 140.324219 330.589844 L 140.324219 327.847656 \"/>\n",
       "<path fill=\"none\" stroke-width=\"1.066978\" stroke-linecap=\"butt\" stroke-linejoin=\"round\" stroke=\"rgb(20%, 20%, 20%)\" stroke-opacity=\"1\" stroke-miterlimit=\"10\" d=\"M 215.507812 330.589844 L 215.507812 327.847656 \"/>\n",
       "<path fill=\"none\" stroke-width=\"1.066978\" stroke-linecap=\"butt\" stroke-linejoin=\"round\" stroke=\"rgb(20%, 20%, 20%)\" stroke-opacity=\"1\" stroke-miterlimit=\"10\" d=\"M 290.695312 330.589844 L 290.695312 327.847656 \"/>\n",
       "<g fill=\"rgb(30.196078%, 30.196078%, 30.196078%)\" fill-opacity=\"1\">\n",
       "<use xlink:href=\"#glyph-0-3\" x=\"52.636719\" y=\"339.74707\"/>\n",
       "<use xlink:href=\"#glyph-0-0\" x=\"55.636719\" y=\"339.74707\"/>\n",
       "<use xlink:href=\"#glyph-0-4\" x=\"60.636719\" y=\"339.74707\"/>\n",
       "<use xlink:href=\"#glyph-0-0\" x=\"62.636719\" y=\"339.74707\"/>\n",
       "<use xlink:href=\"#glyph-0-1\" x=\"67.636719\" y=\"339.74707\"/>\n",
       "<use xlink:href=\"#glyph-0-0\" x=\"72.636719\" y=\"339.74707\"/>\n",
       "</g>\n",
       "<g fill=\"rgb(30.196078%, 30.196078%, 30.196078%)\" fill-opacity=\"1\">\n",
       "<use xlink:href=\"#glyph-0-3\" x=\"127.824219\" y=\"339.74707\"/>\n",
       "<use xlink:href=\"#glyph-0-0\" x=\"130.824219\" y=\"339.74707\"/>\n",
       "<use xlink:href=\"#glyph-0-4\" x=\"135.824219\" y=\"339.74707\"/>\n",
       "<use xlink:href=\"#glyph-0-0\" x=\"137.824219\" y=\"339.74707\"/>\n",
       "<use xlink:href=\"#glyph-0-5\" x=\"142.824219\" y=\"339.74707\"/>\n",
       "<use xlink:href=\"#glyph-0-1\" x=\"147.824219\" y=\"339.74707\"/>\n",
       "</g>\n",
       "<g fill=\"rgb(30.196078%, 30.196078%, 30.196078%)\" fill-opacity=\"1\">\n",
       "<use xlink:href=\"#glyph-0-0\" x=\"204.507812\" y=\"339.74707\"/>\n",
       "<use xlink:href=\"#glyph-0-4\" x=\"209.507812\" y=\"339.74707\"/>\n",
       "<use xlink:href=\"#glyph-0-0\" x=\"211.507812\" y=\"339.74707\"/>\n",
       "<use xlink:href=\"#glyph-0-0\" x=\"216.507812\" y=\"339.74707\"/>\n",
       "<use xlink:href=\"#glyph-0-0\" x=\"221.507812\" y=\"339.74707\"/>\n",
       "</g>\n",
       "<g fill=\"rgb(30.196078%, 30.196078%, 30.196078%)\" fill-opacity=\"1\">\n",
       "<use xlink:href=\"#glyph-0-0\" x=\"279.695312\" y=\"339.74707\"/>\n",
       "<use xlink:href=\"#glyph-0-4\" x=\"284.695312\" y=\"339.74707\"/>\n",
       "<use xlink:href=\"#glyph-0-0\" x=\"286.695312\" y=\"339.74707\"/>\n",
       "<use xlink:href=\"#glyph-0-5\" x=\"291.695312\" y=\"339.74707\"/>\n",
       "<use xlink:href=\"#glyph-0-1\" x=\"296.695312\" y=\"339.74707\"/>\n",
       "</g>\n",
       "<g fill=\"rgb(0%, 0%, 0%)\" fill-opacity=\"1\">\n",
       "<use xlink:href=\"#glyph-1-0\" x=\"187.335938\" y=\"352.477539\"/>\n",
       "<use xlink:href=\"#glyph-1-1\" x=\"193.335938\" y=\"352.477539\"/>\n",
       "<use xlink:href=\"#glyph-1-2\" x=\"196.335938\" y=\"352.477539\"/>\n",
       "<use xlink:href=\"#glyph-1-1\" x=\"202.335938\" y=\"352.477539\"/>\n",
       "</g>\n",
       "<g fill=\"rgb(0%, 0%, 0%)\" fill-opacity=\"1\">\n",
       "<use xlink:href=\"#glyph-2-0\" x=\"13.438477\" y=\"189.402344\"/>\n",
       "<use xlink:href=\"#glyph-2-1\" x=\"13.438477\" y=\"183.402344\"/>\n",
       "<use xlink:href=\"#glyph-2-2\" x=\"13.438477\" y=\"177.402344\"/>\n",
       "<use xlink:href=\"#glyph-2-3\" x=\"13.438477\" y=\"171.402344\"/>\n",
       "<use xlink:href=\"#glyph-2-4\" x=\"13.438477\" y=\"165.402344\"/>\n",
       "</g>\n",
       "<g fill=\"rgb(0%, 0%, 0%)\" fill-opacity=\"1\">\n",
       "<use xlink:href=\"#glyph-3-0\" x=\"38.152344\" y=\"15.429688\"/>\n",
       "<use xlink:href=\"#glyph-3-1\" x=\"47.152344\" y=\"15.429688\"/>\n",
       "<use xlink:href=\"#glyph-3-2\" x=\"50.152344\" y=\"15.429688\"/>\n",
       "<use xlink:href=\"#glyph-3-3\" x=\"61.152344\" y=\"15.429688\"/>\n",
       "<use xlink:href=\"#glyph-3-4\" x=\"68.152344\" y=\"15.429688\"/>\n",
       "<use xlink:href=\"#glyph-3-5\" x=\"71.152344\" y=\"15.429688\"/>\n",
       "<use xlink:href=\"#glyph-3-6\" x=\"78.152344\" y=\"15.429688\"/>\n",
       "<use xlink:href=\"#glyph-3-1\" x=\"82.152344\" y=\"15.429688\"/>\n",
       "<use xlink:href=\"#glyph-3-7\" x=\"85.152344\" y=\"15.429688\"/>\n",
       "<use xlink:href=\"#glyph-3-8\" x=\"92.152344\" y=\"15.429688\"/>\n",
       "<use xlink:href=\"#glyph-3-9\" x=\"99.152344\" y=\"15.429688\"/>\n",
       "<use xlink:href=\"#glyph-3-10\" x=\"103.152344\" y=\"15.429688\"/>\n",
       "<use xlink:href=\"#glyph-3-5\" x=\"112.152344\" y=\"15.429688\"/>\n",
       "<use xlink:href=\"#glyph-3-11\" x=\"119.152344\" y=\"15.429688\"/>\n",
       "<use xlink:href=\"#glyph-3-12\" x=\"126.152344\" y=\"15.429688\"/>\n",
       "<use xlink:href=\"#glyph-3-13\" x=\"133.152344\" y=\"15.429688\"/>\n",
       "<use xlink:href=\"#glyph-3-14\" x=\"140.152344\" y=\"15.429688\"/>\n",
       "<use xlink:href=\"#glyph-3-15\" x=\"144.152344\" y=\"15.429688\"/>\n",
       "<use xlink:href=\"#glyph-3-3\" x=\"154.152344\" y=\"15.429688\"/>\n",
       "<use xlink:href=\"#glyph-3-4\" x=\"161.152344\" y=\"15.429688\"/>\n",
       "<use xlink:href=\"#glyph-3-4\" x=\"164.152344\" y=\"15.429688\"/>\n",
       "<use xlink:href=\"#glyph-3-14\" x=\"167.152344\" y=\"15.429688\"/>\n",
       "<use xlink:href=\"#glyph-3-16\" x=\"171.152344\" y=\"15.429688\"/>\n",
       "<use xlink:href=\"#glyph-3-1\" x=\"181.152344\" y=\"15.429688\"/>\n",
       "<use xlink:href=\"#glyph-3-11\" x=\"184.152344\" y=\"15.429688\"/>\n",
       "<use xlink:href=\"#glyph-3-6\" x=\"191.152344\" y=\"15.429688\"/>\n",
       "<use xlink:href=\"#glyph-3-17\" x=\"195.152344\" y=\"15.429688\"/>\n",
       "<use xlink:href=\"#glyph-3-1\" x=\"199.152344\" y=\"15.429688\"/>\n",
       "<use xlink:href=\"#glyph-3-18\" x=\"202.152344\" y=\"15.429688\"/>\n",
       "<use xlink:href=\"#glyph-3-3\" x=\"209.152344\" y=\"15.429688\"/>\n",
       "<use xlink:href=\"#glyph-3-6\" x=\"216.152344\" y=\"15.429688\"/>\n",
       "<use xlink:href=\"#glyph-3-1\" x=\"220.152344\" y=\"15.429688\"/>\n",
       "<use xlink:href=\"#glyph-3-7\" x=\"223.152344\" y=\"15.429688\"/>\n",
       "<use xlink:href=\"#glyph-3-8\" x=\"230.152344\" y=\"15.429688\"/>\n",
       "</g>\n",
       "</svg>\n"
      ],
      "text/plain": [
       "plot without title"
      ]
     },
     "metadata": {
      "application/pdf": {
       "height": 300,
       "width": 300
      },
      "image/jpeg": {
       "height": 300,
       "width": 300
      },
      "image/png": {
       "height": 300,
       "width": 300
      },
      "image/svg+xml": {
       "height": 300,
       "isolated": true,
       "width": 300
      }
     },
     "output_type": "display_data"
    }
   ],
   "source": [
    "visualize(null_dist)"
   ]
  },
  {
   "cell_type": "markdown",
   "id": "d73be4f0-fb4c-434c-9568-61f52e7e2540",
   "metadata": {},
   "source": [
    "## Discussion"
   ]
  },
  {
   "cell_type": "markdown",
   "id": "9b303b6b-17bb-4cba-b6d1-83dd9e76374e",
   "metadata": {},
   "source": [
    "## References"
   ]
  },
  {
   "cell_type": "markdown",
   "id": "31ad8292-5ee2-471b-b569-5ecfd6dda22a",
   "metadata": {},
   "source": [
    "- Babincev, L.M., Jović, S. Determination of the amount of volatile acids in oxidized wines and neutralization of these by using chemical reagents and biological materials. Biomass Conv. Bioref. 13, 4717–4725 (2023). https://doi.org/10.1007/s13399-021-01339-7\n",
    "- Kelly M. Volatile Acidity in Wine PennState Extension https://extension.psu.edu/volatile-acidity-in-wine"
   ]
  },
  {
   "cell_type": "code",
   "execution_count": null,
   "id": "0cb912e7-1e11-4aad-b844-b1b595b88b98",
   "metadata": {},
   "outputs": [],
   "source": []
  }
 ],
 "metadata": {
  "kernelspec": {
   "display_name": "R",
   "language": "R",
   "name": "ir"
  },
  "language_info": {
   "codemirror_mode": "r",
   "file_extension": ".r",
   "mimetype": "text/x-r-source",
   "name": "R",
   "pygments_lexer": "r",
   "version": "4.2.3"
  }
 },
 "nbformat": 4,
 "nbformat_minor": 5
}
