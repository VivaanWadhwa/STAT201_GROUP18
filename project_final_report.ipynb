{
 "cells": [
  {
   "cell_type": "markdown",
   "id": "a46f75a5-e9d0-4b26-82e6-6450cb6fa2c5",
   "metadata": {},
   "source": [
    "# Comparative Analysis of Chemical Composition in Red and White Wines: A Study on Volatile Acidity"
   ]
  },
  {
   "cell_type": "code",
   "execution_count": 1,
   "id": "0a377486-a61b-4fe4-bd72-4adf54c28306",
   "metadata": {},
   "outputs": [
    {
     "name": "stderr",
     "output_type": "stream",
     "text": [
      "── \u001b[1mAttaching core tidyverse packages\u001b[22m ──────────────────────── tidyverse 2.0.0 ──\n",
      "\u001b[32m✔\u001b[39m \u001b[34mdplyr    \u001b[39m 1.1.2     \u001b[32m✔\u001b[39m \u001b[34mreadr    \u001b[39m 2.1.4\n",
      "\u001b[32m✔\u001b[39m \u001b[34mforcats  \u001b[39m 1.0.0     \u001b[32m✔\u001b[39m \u001b[34mstringr  \u001b[39m 1.5.0\n",
      "\u001b[32m✔\u001b[39m \u001b[34mggplot2  \u001b[39m 3.4.2     \u001b[32m✔\u001b[39m \u001b[34mtibble   \u001b[39m 3.2.1\n",
      "\u001b[32m✔\u001b[39m \u001b[34mlubridate\u001b[39m 1.9.2     \u001b[32m✔\u001b[39m \u001b[34mtidyr    \u001b[39m 1.3.0\n",
      "\u001b[32m✔\u001b[39m \u001b[34mpurrr    \u001b[39m 1.0.1     \n",
      "── \u001b[1mConflicts\u001b[22m ────────────────────────────────────────── tidyverse_conflicts() ──\n",
      "\u001b[31m✖\u001b[39m \u001b[34mdplyr\u001b[39m::\u001b[32mfilter()\u001b[39m masks \u001b[34mstats\u001b[39m::filter()\n",
      "\u001b[31m✖\u001b[39m \u001b[34mdplyr\u001b[39m::\u001b[32mlag()\u001b[39m    masks \u001b[34mstats\u001b[39m::lag()\n",
      "\u001b[36mℹ\u001b[39m Use the conflicted package (\u001b[3m\u001b[34m<http://conflicted.r-lib.org/>\u001b[39m\u001b[23m) to force all conflicts to become errors\n"
     ]
    }
   ],
   "source": [
    "library(tidyverse)\n",
    "library(infer)\n",
    "library(repr)\n",
    "library(dplyr)\n",
    "library(readr)\n",
    "options(repr.plot.width=5, repr.plot.height=5)"
   ]
  },
  {
   "cell_type": "code",
   "execution_count": 2,
   "id": "c4085edb-cbd1-4f6c-86f0-3760f757a40b",
   "metadata": {},
   "outputs": [],
   "source": [
    "# Reading in the data\n",
    "url <- \"https://archive.ics.uci.edu/static/public/186/wine+quality.zip\"\n",
    "\n",
    "# Define the local file name for the downloaded ZIP file\n",
    "zip_file <- \"data/wine_quality.zip\"\n",
    "\n",
    "# Download the ZIP file from the URL\n",
    "download.file(url, destfile = zip_file)\n",
    "\n",
    "# Unzip the downloaded file\n",
    "unzip(zip_file, exdir = \"data\")\n"
   ]
  },
  {
   "cell_type": "markdown",
   "id": "86e11ed0-0485-4641-870f-826fe1a4fc3e",
   "metadata": {},
   "source": [
    "## Introduction"
   ]
  },
  {
   "cell_type": "markdown",
   "id": "00027c85-fda2-49f0-824a-4545064f853e",
   "metadata": {},
   "source": [
    "The goal of the project is to explore the average level of Volatile Acidity, Total Sulfur Dioxide and Chlorides in Red and White wine. The dataset, [Wine Quality](https://archive.ics.uci.edu/dataset/186/wine+quality), is taken from [UCI Machine Learning Repository](https://archive.ics.uci.edu/datasets)."
   ]
  },
  {
   "cell_type": "markdown",
   "id": "49b6879e-e661-467f-b429-209dc7134d10",
   "metadata": {},
   "source": [
    "The dataset includes 13 attributes describing \n",
    "\n",
    "- ```Fixed Acidity```\n",
    "- ```Volatile Acidity```\n",
    "- ```Citric Acid```\n",
    "- ```Residual Sugar```\n",
    "- ```Chlorides```\n",
    "- ```Free Sulfur Dioxide```\n",
    "- ```Total Sulfur Dioxide```\n",
    "- ```Density```\n",
    "- ```pH```\n",
    "- ```sulphates```\n",
    "- ```alcohol```\n",
    "- ```quality```"
   ]
  },
  {
   "cell_type": "markdown",
   "id": "681be966-1db8-4dfb-93a8-eb8b689b7bfb",
   "metadata": {},
   "source": [
    "Research Question\n",
    "<hr></hr>\n",
    "How do the levels of <b>volatile acidity</b> differ between <b>red</b> and <b>white wines</b>, and are there statistically significant variations in these chemical components between the two wine types?"
   ]
  },
  {
   "cell_type": "markdown",
   "id": "a3ab35c6-20bd-455e-b163-a691689fcefc",
   "metadata": {},
   "source": [
    "Our attribute of interest for this project is:\n",
    "\n",
    "- ```Volatile Acidity```: Volatile acidity in the context of wine refers to the presence of volatile acids, primarily acetic acid.  It is a key factor in wine quality and can impact the wine's flavor and aroma.\n",
    "\n",
    "To conduct research, we will be exploring the average levels (location parameter) of <b>volatile acidity</b> for each of the wines as well as standard deviation (scale parameter)."
   ]
  },
  {
   "cell_type": "markdown",
   "id": "9bf3eda4-b2f0-419e-add8-abd41749b3ac",
   "metadata": {},
   "source": [
    "Volatile acidity plays a pivotal role in the winemaking process, and exhibits substantial variations across different wines. A study conducted by Babincev and Jović in 2021 delves into the chemical composition of white and red wines, revealing that white wine tends to have higher acidity levels compared to red wine. This finding underscores the importance and relevance of further investigation of volatile acidity."
   ]
  },
  {
   "cell_type": "markdown",
   "id": "0d258d87-281b-40aa-931e-9678ba30b879",
   "metadata": {},
   "source": [
    "## Methods and Results"
   ]
  },
  {
   "cell_type": "markdown",
   "id": "00b099de-614b-48aa-b1a0-4598de686fa7",
   "metadata": {},
   "source": [
    "We will be conducting a hypothesis test via bootstrapping. Setting $H_{0}: \\mu_{\\text{Volatile Acidity of Red Wine}} - \\mu_{\\text{Volatile Acidity of White Wine}} = 0$ , and our alternative hypothesis to $H_{a}: \\mu_{\\text{Volatile Acidity of Red Wine}} - \\mu_{\\text{Volatile Acidity of White Wine}} \\neq 0$, we will plot the bootstrap distribution of the null hypothesis using the infer package. From there, we will calculate the two-tailed p-value, given our observed statistic from our original sample (0.264). To determine if the difference in means between red and white wines is significant, we will compare the p-value to a 5% significance level."
   ]
  },
  {
   "cell_type": "markdown",
   "id": "8a05442a-e6cb-4dc5-9abc-52dfe4dff537",
   "metadata": {},
   "source": [
    "Firstly, we will take a sample from our dataset."
   ]
  },
  {
   "cell_type": "markdown",
   "id": "37efc7c0-7f0e-44a6-b2ab-9b3819023a3c",
   "metadata": {},
   "source": [
    "Firstly, we will take a sample from our dataset."
   ]
  },
  {
   "cell_type": "code",
   "execution_count": null,
   "id": "78ec27f6-2da5-4409-ac2f-53335bf7caad",
   "metadata": {},
   "outputs": [],
   "source": []
  },
  {
   "cell_type": "markdown",
   "id": "d73be4f0-fb4c-434c-9568-61f52e7e2540",
   "metadata": {},
   "source": [
    "## Discussion"
   ]
  },
  {
   "cell_type": "markdown",
   "id": "9b303b6b-17bb-4cba-b6d1-83dd9e76374e",
   "metadata": {},
   "source": [
    "## References"
   ]
  },
  {
   "cell_type": "markdown",
   "id": "31ad8292-5ee2-471b-b569-5ecfd6dda22a",
   "metadata": {},
   "source": [
    "- Babincev, L.M., Jović, S. Determination of the amount of volatile acids in oxidized wines and neutralization of these by using chemical reagents and biological materials. Biomass Conv. Bioref. 13, 4717–4725 (2023). https://doi.org/10.1007/s13399-021-01339-7\n",
    "- Kelly M. Volatile Acidity in Wine PennState Extension https://extension.psu.edu/volatile-acidity-in-wine"
   ]
  },
  {
   "cell_type": "code",
   "execution_count": null,
   "id": "0cb912e7-1e11-4aad-b844-b1b595b88b98",
   "metadata": {},
   "outputs": [],
   "source": []
  }
 ],
 "metadata": {
  "kernelspec": {
   "display_name": "R",
   "language": "R",
   "name": "ir"
  },
  "language_info": {
   "codemirror_mode": "r",
   "file_extension": ".r",
   "mimetype": "text/x-r-source",
   "name": "R",
   "pygments_lexer": "r",
   "version": "4.3.0"
  }
 },
 "nbformat": 4,
 "nbformat_minor": 5
}
