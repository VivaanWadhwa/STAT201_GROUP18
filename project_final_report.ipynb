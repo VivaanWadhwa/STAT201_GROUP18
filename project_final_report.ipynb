{
 "cells": [
  {
   "cell_type": "markdown",
   "id": "a46f75a5-e9d0-4b26-82e6-6450cb6fa2c5",
   "metadata": {},
   "source": [
    "# Comparative Analysis of Chemical Composition in Red and White Wines: A Study on Volatile Acidity"
   ]
  },
  {
   "cell_type": "code",
   "execution_count": 1,
   "id": "0a377486-a61b-4fe4-bd72-4adf54c28306",
   "metadata": {},
   "outputs": [
    {
     "name": "stderr",
     "output_type": "stream",
     "text": [
      "── \u001b[1mAttaching core tidyverse packages\u001b[22m ──────────────────────── tidyverse 2.0.0 ──\n",
      "\u001b[32m✔\u001b[39m \u001b[34mdplyr    \u001b[39m 1.1.2     \u001b[32m✔\u001b[39m \u001b[34mreadr    \u001b[39m 2.1.4\n",
      "\u001b[32m✔\u001b[39m \u001b[34mforcats  \u001b[39m 1.0.0     \u001b[32m✔\u001b[39m \u001b[34mstringr  \u001b[39m 1.5.0\n",
      "\u001b[32m✔\u001b[39m \u001b[34mggplot2  \u001b[39m 3.4.2     \u001b[32m✔\u001b[39m \u001b[34mtibble   \u001b[39m 3.2.1\n",
      "\u001b[32m✔\u001b[39m \u001b[34mlubridate\u001b[39m 1.9.2     \u001b[32m✔\u001b[39m \u001b[34mtidyr    \u001b[39m 1.3.0\n",
      "\u001b[32m✔\u001b[39m \u001b[34mpurrr    \u001b[39m 1.0.1     \n",
      "── \u001b[1mConflicts\u001b[22m ────────────────────────────────────────── tidyverse_conflicts() ──\n",
      "\u001b[31m✖\u001b[39m \u001b[34mdplyr\u001b[39m::\u001b[32mfilter()\u001b[39m masks \u001b[34mstats\u001b[39m::filter()\n",
      "\u001b[31m✖\u001b[39m \u001b[34mdplyr\u001b[39m::\u001b[32mlag()\u001b[39m    masks \u001b[34mstats\u001b[39m::lag()\n",
      "\u001b[36mℹ\u001b[39m Use the conflicted package (\u001b[3m\u001b[34m<http://conflicted.r-lib.org/>\u001b[39m\u001b[23m) to force all conflicts to become errors\n"
     ]
    }
   ],
   "source": [
    "library(tidyverse)\n",
    "library(infer)\n",
    "library(repr)\n",
    "library(dplyr)\n",
    "library(readr)\n",
    "options(repr.plot.width=5, repr.plot.height=5)"
   ]
  },
  {
   "cell_type": "code",
   "execution_count": 2,
   "id": "c4085edb-cbd1-4f6c-86f0-3760f757a40b",
   "metadata": {},
   "outputs": [],
   "source": [
    "# Reading in the data\n",
    "url <- \"https://archive.ics.uci.edu/static/public/186/wine+quality.zip\"\n",
    "\n",
    "# Define the local file name for the downloaded ZIP file\n",
    "zip_file <- \"data/wine_quality.zip\"\n",
    "\n",
    "# Download the ZIP file from the URL\n",
    "download.file(url, destfile = zip_file)\n",
    "\n",
    "# Unzip the downloaded file\n",
    "unzip(zip_file, exdir = \"data\")"
   ]
  },
  {
   "cell_type": "markdown",
   "id": "86e11ed0-0485-4641-870f-826fe1a4fc3e",
   "metadata": {},
   "source": [
    "## Introduction"
   ]
  },
  {
   "cell_type": "markdown",
   "id": "00027c85-fda2-49f0-824a-4545064f853e",
   "metadata": {},
   "source": [
    "The goal of the project is to explore the average level of Volatile Acidity, Total Sulfur Dioxide and Chlorides in Red and White wine. The dataset, [Wine Quality](https://archive.ics.uci.edu/dataset/186/wine+quality), is taken from [UCI Machine Learning Repository](https://archive.ics.uci.edu/datasets)."
   ]
  },
  {
   "cell_type": "markdown",
   "id": "49b6879e-e661-467f-b429-209dc7134d10",
   "metadata": {},
   "source": [
    "The dataset includes 13 attributes describing \n",
    "\n",
    "- ```Fixed Acidity```\n",
    "- ```Volatile Acidity```\n",
    "- ```Citric Acid```\n",
    "- ```Residual Sugar```\n",
    "- ```Chlorides```\n",
    "- ```Free Sulfur Dioxide```\n",
    "- ```Total Sulfur Dioxide```\n",
    "- ```Density```\n",
    "- ```pH```\n",
    "- ```sulphates```\n",
    "- ```alcohol```\n",
    "- ```quality```"
   ]
  },
  {
   "cell_type": "markdown",
   "id": "681be966-1db8-4dfb-93a8-eb8b689b7bfb",
   "metadata": {},
   "source": [
    "Research Question\n",
    "<hr></hr>\n",
    "How do the levels of <b>volatile acidity</b> differ between <b>red</b> and <b>white wines</b>, and are there statistically significant variations in these chemical components between the two wine types?"
   ]
  },
  {
   "cell_type": "markdown",
   "id": "a3ab35c6-20bd-455e-b163-a691689fcefc",
   "metadata": {},
   "source": [
    "Our attribute of interest for this project is:\n",
    "\n",
    "- ```Volatile Acidity```: Volatile acidity in the context of wine refers to the presence of volatile acids, primarily acetic acid.  It is a key factor in wine quality and can impact the wine's flavor and aroma.\n",
    "\n",
    "To conduct research, we will be exploring the average levels (location parameter) of <b>volatile acidity</b> for each of the wines as well as standard deviation (scale parameter)."
   ]
  },
  {
   "cell_type": "markdown",
   "id": "9bf3eda4-b2f0-419e-add8-abd41749b3ac",
   "metadata": {},
   "source": [
    "Volatile acidity plays a pivotal role in the winemaking process, and exhibits substantial variations across different wines. A study conducted by Babincev and Jović in 2021 delves into the chemical composition of white and red wines, revealing that white wine tends to have higher acidity levels compared to red wine. This finding underscores the importance and relevance of further investigation of volatile acidity."
   ]
  },
  {
   "cell_type": "markdown",
   "id": "0d258d87-281b-40aa-931e-9678ba30b879",
   "metadata": {},
   "source": [
    "## Methods and Results"
   ]
  },
  {
   "cell_type": "markdown",
   "id": "00b099de-614b-48aa-b1a0-4598de686fa7",
   "metadata": {},
   "source": [
    "We will be conducting a hypothesis test via bootstrapping. Setting $H_{0}: \\mu_{\\text{Volatile Acidity of Red Wine}} - \\mu_{\\text{Volatile Acidity of White Wine}} = 0$ , and our alternative hypothesis to $H_{a}: \\mu_{\\text{Volatile Acidity of Red Wine}} - \\mu_{\\text{Volatile Acidity of White Wine}} \\neq 0$, we will plot the bootstrap distribution of the null hypothesis using the infer package. From there, we will calculate the two-tailed p-value, given our observed statistic from our original sample (0.264). To determine if the difference in means between red and white wines is significant, we will compare the p-value to a 5% significance level."
   ]
  },
  {
   "cell_type": "markdown",
   "id": "f412a51e-b505-4556-8a45-0f370ce5f7a5",
   "metadata": {},
   "source": [
    "### Wrangling the data"
   ]
  },
  {
   "cell_type": "code",
   "execution_count": 3,
   "id": "c888d47b-f40c-4332-aaef-da2725b6a53c",
   "metadata": {},
   "outputs": [
    {
     "data": {
      "text/html": [
       "0"
      ],
      "text/latex": [
       "0"
      ],
      "text/markdown": [
       "0"
      ],
      "text/plain": [
       "[1] 0"
      ]
     },
     "metadata": {},
     "output_type": "display_data"
    },
    {
     "data": {
      "text/html": [
       "0"
      ],
      "text/latex": [
       "0"
      ],
      "text/markdown": [
       "0"
      ],
      "text/plain": [
       "[1] 0"
      ]
     },
     "metadata": {},
     "output_type": "display_data"
    }
   ],
   "source": [
    "# Read in the red and white wine data\n",
    "\n",
    "wine_red_data <- read_delim(\"data/winequality-red.csv\", delim = \";\", show_col_types = FALSE) |>\n",
    "                    mutate(type = \"red\")\n",
    "wine_white_data <- read_delim(\"data/winequality-white.csv\", delim = \";\", show_col_types = FALSE)|>\n",
    "                    mutate(type = \"white\")\n",
    "# Check if we have missing values\n",
    "sum(is.na(wine_white_data))\n",
    "sum(is.na(wine_red_data)) "
   ]
  },
  {
   "cell_type": "code",
   "execution_count": 4,
   "id": "fe86a258-170c-40fd-80f0-22060dc74ef8",
   "metadata": {},
   "outputs": [
    {
     "data": {
      "text/html": [
       "<table class=\"dataframe\">\n",
       "<caption>A tibble: 6 × 13</caption>\n",
       "<thead>\n",
       "\t<tr><th scope=col>fixed.acidity</th><th scope=col>volatile.acidity</th><th scope=col>citric.acid</th><th scope=col>residual.sugar</th><th scope=col>chlorides</th><th scope=col>free.sulfur.dioxide</th><th scope=col>total.sulfur.dioxide</th><th scope=col>density</th><th scope=col>pH</th><th scope=col>sulphates</th><th scope=col>alcohol</th><th scope=col>quality</th><th scope=col>type</th></tr>\n",
       "\t<tr><th scope=col>&lt;dbl&gt;</th><th scope=col>&lt;dbl&gt;</th><th scope=col>&lt;dbl&gt;</th><th scope=col>&lt;dbl&gt;</th><th scope=col>&lt;dbl&gt;</th><th scope=col>&lt;dbl&gt;</th><th scope=col>&lt;dbl&gt;</th><th scope=col>&lt;dbl&gt;</th><th scope=col>&lt;dbl&gt;</th><th scope=col>&lt;dbl&gt;</th><th scope=col>&lt;dbl&gt;</th><th scope=col>&lt;dbl&gt;</th><th scope=col>&lt;chr&gt;</th></tr>\n",
       "</thead>\n",
       "<tbody>\n",
       "\t<tr><td> 7.4</td><td>0.70</td><td>0.00</td><td>1.9</td><td>0.076</td><td>11</td><td>34</td><td>0.9978</td><td>3.51</td><td>0.56</td><td>9.4</td><td>5</td><td>red</td></tr>\n",
       "\t<tr><td> 7.8</td><td>0.88</td><td>0.00</td><td>2.6</td><td>0.098</td><td>25</td><td>67</td><td>0.9968</td><td>3.20</td><td>0.68</td><td>9.8</td><td>5</td><td>red</td></tr>\n",
       "\t<tr><td> 7.8</td><td>0.76</td><td>0.04</td><td>2.3</td><td>0.092</td><td>15</td><td>54</td><td>0.9970</td><td>3.26</td><td>0.65</td><td>9.8</td><td>5</td><td>red</td></tr>\n",
       "\t<tr><td>11.2</td><td>0.28</td><td>0.56</td><td>1.9</td><td>0.075</td><td>17</td><td>60</td><td>0.9980</td><td>3.16</td><td>0.58</td><td>9.8</td><td>6</td><td>red</td></tr>\n",
       "\t<tr><td> 7.4</td><td>0.70</td><td>0.00</td><td>1.9</td><td>0.076</td><td>11</td><td>34</td><td>0.9978</td><td>3.51</td><td>0.56</td><td>9.4</td><td>5</td><td>red</td></tr>\n",
       "\t<tr><td> 7.4</td><td>0.66</td><td>0.00</td><td>1.8</td><td>0.075</td><td>13</td><td>40</td><td>0.9978</td><td>3.51</td><td>0.56</td><td>9.4</td><td>5</td><td>red</td></tr>\n",
       "</tbody>\n",
       "</table>\n"
      ],
      "text/latex": [
       "A tibble: 6 × 13\n",
       "\\begin{tabular}{lllllllllllll}\n",
       " fixed.acidity & volatile.acidity & citric.acid & residual.sugar & chlorides & free.sulfur.dioxide & total.sulfur.dioxide & density & pH & sulphates & alcohol & quality & type\\\\\n",
       " <dbl> & <dbl> & <dbl> & <dbl> & <dbl> & <dbl> & <dbl> & <dbl> & <dbl> & <dbl> & <dbl> & <dbl> & <chr>\\\\\n",
       "\\hline\n",
       "\t  7.4 & 0.70 & 0.00 & 1.9 & 0.076 & 11 & 34 & 0.9978 & 3.51 & 0.56 & 9.4 & 5 & red\\\\\n",
       "\t  7.8 & 0.88 & 0.00 & 2.6 & 0.098 & 25 & 67 & 0.9968 & 3.20 & 0.68 & 9.8 & 5 & red\\\\\n",
       "\t  7.8 & 0.76 & 0.04 & 2.3 & 0.092 & 15 & 54 & 0.9970 & 3.26 & 0.65 & 9.8 & 5 & red\\\\\n",
       "\t 11.2 & 0.28 & 0.56 & 1.9 & 0.075 & 17 & 60 & 0.9980 & 3.16 & 0.58 & 9.8 & 6 & red\\\\\n",
       "\t  7.4 & 0.70 & 0.00 & 1.9 & 0.076 & 11 & 34 & 0.9978 & 3.51 & 0.56 & 9.4 & 5 & red\\\\\n",
       "\t  7.4 & 0.66 & 0.00 & 1.8 & 0.075 & 13 & 40 & 0.9978 & 3.51 & 0.56 & 9.4 & 5 & red\\\\\n",
       "\\end{tabular}\n"
      ],
      "text/markdown": [
       "\n",
       "A tibble: 6 × 13\n",
       "\n",
       "| fixed.acidity &lt;dbl&gt; | volatile.acidity &lt;dbl&gt; | citric.acid &lt;dbl&gt; | residual.sugar &lt;dbl&gt; | chlorides &lt;dbl&gt; | free.sulfur.dioxide &lt;dbl&gt; | total.sulfur.dioxide &lt;dbl&gt; | density &lt;dbl&gt; | pH &lt;dbl&gt; | sulphates &lt;dbl&gt; | alcohol &lt;dbl&gt; | quality &lt;dbl&gt; | type &lt;chr&gt; |\n",
       "|---|---|---|---|---|---|---|---|---|---|---|---|---|\n",
       "|  7.4 | 0.70 | 0.00 | 1.9 | 0.076 | 11 | 34 | 0.9978 | 3.51 | 0.56 | 9.4 | 5 | red |\n",
       "|  7.8 | 0.88 | 0.00 | 2.6 | 0.098 | 25 | 67 | 0.9968 | 3.20 | 0.68 | 9.8 | 5 | red |\n",
       "|  7.8 | 0.76 | 0.04 | 2.3 | 0.092 | 15 | 54 | 0.9970 | 3.26 | 0.65 | 9.8 | 5 | red |\n",
       "| 11.2 | 0.28 | 0.56 | 1.9 | 0.075 | 17 | 60 | 0.9980 | 3.16 | 0.58 | 9.8 | 6 | red |\n",
       "|  7.4 | 0.70 | 0.00 | 1.9 | 0.076 | 11 | 34 | 0.9978 | 3.51 | 0.56 | 9.4 | 5 | red |\n",
       "|  7.4 | 0.66 | 0.00 | 1.8 | 0.075 | 13 | 40 | 0.9978 | 3.51 | 0.56 | 9.4 | 5 | red |\n",
       "\n"
      ],
      "text/plain": [
       "  fixed.acidity volatile.acidity citric.acid residual.sugar chlorides\n",
       "1  7.4          0.70             0.00        1.9            0.076    \n",
       "2  7.8          0.88             0.00        2.6            0.098    \n",
       "3  7.8          0.76             0.04        2.3            0.092    \n",
       "4 11.2          0.28             0.56        1.9            0.075    \n",
       "5  7.4          0.70             0.00        1.9            0.076    \n",
       "6  7.4          0.66             0.00        1.8            0.075    \n",
       "  free.sulfur.dioxide total.sulfur.dioxide density pH   sulphates alcohol\n",
       "1 11                  34                   0.9978  3.51 0.56      9.4    \n",
       "2 25                  67                   0.9968  3.20 0.68      9.8    \n",
       "3 15                  54                   0.9970  3.26 0.65      9.8    \n",
       "4 17                  60                   0.9980  3.16 0.58      9.8    \n",
       "5 11                  34                   0.9978  3.51 0.56      9.4    \n",
       "6 13                  40                   0.9978  3.51 0.56      9.4    \n",
       "  quality type\n",
       "1 5       red \n",
       "2 5       red \n",
       "3 5       red \n",
       "4 6       red \n",
       "5 5       red \n",
       "6 5       red "
      ]
     },
     "metadata": {},
     "output_type": "display_data"
    }
   ],
   "source": [
    "# Combining the red/white wine data and adding proper column names to the dataframe\n",
    "\n",
    "wine_data <- rbind(wine_red_data, wine_white_data)\n",
    "colnames(wine_data) <- c(\"fixed.acidity\",\"volatile.acidity\",\"citric.acid\",\"residual.sugar\",\n",
    "                         \"chlorides\",\"free.sulfur.dioxide\",\"total.sulfur.dioxide\",\"density\",\n",
    "                         \"pH\",\"sulphates\",\"alcohol\",\"quality\",\"type\")\n",
    "head(wine_data)"
   ]
  },
  {
   "cell_type": "code",
   "execution_count": 5,
   "id": "7b67e87f-98b2-421a-8751-67c8ea97fb37",
   "metadata": {},
   "outputs": [
    {
     "data": {
      "text/html": [
       "<table class=\"dataframe\">\n",
       "<caption>A tibble: 6 × 2</caption>\n",
       "<thead>\n",
       "\t<tr><th scope=col>volatile.acidity</th><th scope=col>type</th></tr>\n",
       "\t<tr><th scope=col>&lt;dbl&gt;</th><th scope=col>&lt;chr&gt;</th></tr>\n",
       "</thead>\n",
       "<tbody>\n",
       "\t<tr><td>0.70</td><td>red</td></tr>\n",
       "\t<tr><td>0.88</td><td>red</td></tr>\n",
       "\t<tr><td>0.76</td><td>red</td></tr>\n",
       "\t<tr><td>0.28</td><td>red</td></tr>\n",
       "\t<tr><td>0.70</td><td>red</td></tr>\n",
       "\t<tr><td>0.66</td><td>red</td></tr>\n",
       "</tbody>\n",
       "</table>\n"
      ],
      "text/latex": [
       "A tibble: 6 × 2\n",
       "\\begin{tabular}{ll}\n",
       " volatile.acidity & type\\\\\n",
       " <dbl> & <chr>\\\\\n",
       "\\hline\n",
       "\t 0.70 & red\\\\\n",
       "\t 0.88 & red\\\\\n",
       "\t 0.76 & red\\\\\n",
       "\t 0.28 & red\\\\\n",
       "\t 0.70 & red\\\\\n",
       "\t 0.66 & red\\\\\n",
       "\\end{tabular}\n"
      ],
      "text/markdown": [
       "\n",
       "A tibble: 6 × 2\n",
       "\n",
       "| volatile.acidity &lt;dbl&gt; | type &lt;chr&gt; |\n",
       "|---|---|\n",
       "| 0.70 | red |\n",
       "| 0.88 | red |\n",
       "| 0.76 | red |\n",
       "| 0.28 | red |\n",
       "| 0.70 | red |\n",
       "| 0.66 | red |\n",
       "\n"
      ],
      "text/plain": [
       "  volatile.acidity type\n",
       "1 0.70             red \n",
       "2 0.88             red \n",
       "3 0.76             red \n",
       "4 0.28             red \n",
       "5 0.70             red \n",
       "6 0.66             red "
      ]
     },
     "metadata": {},
     "output_type": "display_data"
    }
   ],
   "source": [
    "wine_data_specific <- wine_data %>%\n",
    "                        select(volatile.acidity, type)\n",
    "head(wine_data_specific)"
   ]
  },
  {
   "cell_type": "markdown",
   "id": "8a05442a-e6cb-4dc5-9abc-52dfe4dff537",
   "metadata": {},
   "source": [
    "Firstly, we will take a sample from our dataset, ensuring to not take over 10% of the total observations as to avoid violation of independence."
   ]
  },
  {
   "cell_type": "code",
   "execution_count": 6,
   "id": "65347756-3b12-4ab9-867e-856f4af5acd1",
   "metadata": {},
   "outputs": [
    {
     "data": {
      "text/html": [
       "<style>\n",
       ".list-inline {list-style: none; margin:0; padding: 0}\n",
       ".list-inline>li {display: inline-block}\n",
       ".list-inline>li:not(:last-child)::after {content: \"\\00b7\"; padding: 0 .5ex}\n",
       "</style>\n",
       "<ol class=list-inline><li>6497</li><li>2</li></ol>\n"
      ],
      "text/latex": [
       "\\begin{enumerate*}\n",
       "\\item 6497\n",
       "\\item 2\n",
       "\\end{enumerate*}\n"
      ],
      "text/markdown": [
       "1. 6497\n",
       "2. 2\n",
       "\n",
       "\n"
      ],
      "text/plain": [
       "[1] 6497    2"
      ]
     },
     "metadata": {},
     "output_type": "display_data"
    }
   ],
   "source": [
    "dim(wine_data_specific)"
   ]
  },
  {
   "cell_type": "code",
   "execution_count": 12,
   "id": "78ec27f6-2da5-4409-ac2f-53335bf7caad",
   "metadata": {},
   "outputs": [
    {
     "data": {
      "text/html": [
       "<table class=\"dataframe\">\n",
       "<caption>A tibble: 6 × 2</caption>\n",
       "<thead>\n",
       "\t<tr><th scope=col>volatile.acidity</th><th scope=col>type</th></tr>\n",
       "\t<tr><th scope=col>&lt;dbl&gt;</th><th scope=col>&lt;chr&gt;</th></tr>\n",
       "</thead>\n",
       "<tbody>\n",
       "\t<tr><td>0.15</td><td>white</td></tr>\n",
       "\t<tr><td>0.34</td><td>white</td></tr>\n",
       "\t<tr><td>0.11</td><td>white</td></tr>\n",
       "\t<tr><td>0.30</td><td>white</td></tr>\n",
       "\t<tr><td>0.52</td><td>red  </td></tr>\n",
       "\t<tr><td>0.58</td><td>red  </td></tr>\n",
       "</tbody>\n",
       "</table>\n"
      ],
      "text/latex": [
       "A tibble: 6 × 2\n",
       "\\begin{tabular}{ll}\n",
       " volatile.acidity & type\\\\\n",
       " <dbl> & <chr>\\\\\n",
       "\\hline\n",
       "\t 0.15 & white\\\\\n",
       "\t 0.34 & white\\\\\n",
       "\t 0.11 & white\\\\\n",
       "\t 0.30 & white\\\\\n",
       "\t 0.52 & red  \\\\\n",
       "\t 0.58 & red  \\\\\n",
       "\\end{tabular}\n"
      ],
      "text/markdown": [
       "\n",
       "A tibble: 6 × 2\n",
       "\n",
       "| volatile.acidity &lt;dbl&gt; | type &lt;chr&gt; |\n",
       "|---|---|\n",
       "| 0.15 | white |\n",
       "| 0.34 | white |\n",
       "| 0.11 | white |\n",
       "| 0.30 | white |\n",
       "| 0.52 | red   |\n",
       "| 0.58 | red   |\n",
       "\n"
      ],
      "text/plain": [
       "  volatile.acidity type \n",
       "1 0.15             white\n",
       "2 0.34             white\n",
       "3 0.11             white\n",
       "4 0.30             white\n",
       "5 0.52             red  \n",
       "6 0.58             red  "
      ]
     },
     "metadata": {},
     "output_type": "display_data"
    }
   ],
   "source": [
    "set.seed(42) # Setting the seed for reproducible workflow\n",
    "\n",
    "wine_sample <- wine_data_specific |>\n",
    "                sample_n(size = 650)\n",
    "head(wine_sample)"
   ]
  },
  {
   "cell_type": "code",
   "execution_count": 20,
   "id": "262c33f9-93ab-4a86-aa3d-68477c2f7725",
   "metadata": {},
   "outputs": [],
   "source": [
    "null_dist <- wine_sample %>%\n",
    "    specify(volatile.acidity ~ type) %>%\n",
    "    hypothesize(null = \"independence\") %>%\n",
    "    generate(reps = 1000, type=\"bootstrap\") %>%\n",
    "    calculate(stat = \"diff in means\", order = c(\"red\", \"white\"))"
   ]
  },
  {
   "cell_type": "code",
   "execution_count": 21,
   "id": "4fc84ff2-6246-486b-95c6-f6eb474405ec",
   "metadata": {},
   "outputs": [
    {
     "data": {
      "image/png": "[encoded data removed]",
      "text/plain": [
       "plot without title"
      ]
     },
     "metadata": {
      "image/png": {
       "height": 300,
       "width": 300
      }
     },
     "output_type": "display_data"
    }
   ],
   "source": [
    "visualize(null_dist)"
   ]
  },
  {
   "cell_type": "markdown",
   "id": "d73be4f0-fb4c-434c-9568-61f52e7e2540",
   "metadata": {},
   "source": [
    "## Discussion"
   ]
  },
  {
   "cell_type": "markdown",
   "id": "9b303b6b-17bb-4cba-b6d1-83dd9e76374e",
   "metadata": {},
   "source": [
    "## References"
   ]
  },
  {
   "cell_type": "markdown",
   "id": "31ad8292-5ee2-471b-b569-5ecfd6dda22a",
   "metadata": {},
   "source": [
    "- Babincev, L.M., Jović, S. Determination of the amount of volatile acids in oxidized wines and neutralization of these by using chemical reagents and biological materials. Biomass Conv. Bioref. 13, 4717–4725 (2023). https://doi.org/10.1007/s13399-021-01339-7\n",
    "- Kelly M. Volatile Acidity in Wine PennState Extension https://extension.psu.edu/volatile-acidity-in-wine"
   ]
  },
  {
   "cell_type": "code",
   "execution_count": null,
   "id": "0cb912e7-1e11-4aad-b844-b1b595b88b98",
   "metadata": {},
   "outputs": [],
   "source": []
  }
 ],
 "metadata": {
  "kernelspec": {
   "display_name": "R",
   "language": "R",
   "name": "ir"
  },
  "language_info": {
   "codemirror_mode": "r",
   "file_extension": ".r",
   "mimetype": "text/x-r-source",
   "name": "R",
   "pygments_lexer": "r",
   "version": "4.3.0"
  }
 },
 "nbformat": 4,
 "nbformat_minor": 5
}
