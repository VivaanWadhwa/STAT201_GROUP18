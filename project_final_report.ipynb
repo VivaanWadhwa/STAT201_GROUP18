{
 "cells": [
  {
   "cell_type": "markdown",
   "id": "a46f75a5-e9d0-4b26-82e6-6450cb6fa2c5",
   "metadata": {},
   "source": [
    "# Comparative Analysis of Chemical Composition in Red and White Wines: A Study on Volatile Acidity"
   ]
  },
  {
   "cell_type": "code",
   "execution_count": null,
   "id": "0a377486-a61b-4fe4-bd72-4adf54c28306",
   "metadata": {
    "tags": []
   },
   "outputs": [
    {
     "name": "stderr",
     "output_type": "stream",
     "text": [
      "── \u001b[1mAttaching core tidyverse packages\u001b[22m ──────────────────────── tidyverse 2.0.0 ──\n",
      "\u001b[32m✔\u001b[39m \u001b[34mdplyr    \u001b[39m 1.1.3     \u001b[32m✔\u001b[39m \u001b[34mreadr    \u001b[39m 2.1.4\n",
      "\u001b[32m✔\u001b[39m \u001b[34mforcats  \u001b[39m 1.0.0     \u001b[32m✔\u001b[39m \u001b[34mstringr  \u001b[39m 1.5.0\n",
      "\u001b[32m✔\u001b[39m \u001b[34mggplot2  \u001b[39m 3.4.4     \u001b[32m✔\u001b[39m \u001b[34mtibble   \u001b[39m 3.2.1\n",
      "\u001b[32m✔\u001b[39m \u001b[34mlubridate\u001b[39m 1.9.3     \u001b[32m✔\u001b[39m \u001b[34mtidyr    \u001b[39m 1.3.0\n",
      "\u001b[32m✔\u001b[39m \u001b[34mpurrr    \u001b[39m 1.0.2     \n",
      "── \u001b[1mConflicts\u001b[22m ────────────────────────────────────────── tidyverse_conflicts() ──\n",
      "\u001b[31m✖\u001b[39m \u001b[34mdplyr\u001b[39m::\u001b[32mfilter()\u001b[39m masks \u001b[34mstats\u001b[39m::filter()\n",
      "\u001b[31m✖\u001b[39m \u001b[34mdplyr\u001b[39m::\u001b[32mlag()\u001b[39m    masks \u001b[34mstats\u001b[39m::lag()\n",
      "\u001b[36mℹ\u001b[39m Use the conflicted package (\u001b[3m\u001b[34m<http://conflicted.r-lib.org/>\u001b[39m\u001b[23m) to force all conflicts to become errors\n"
     ]
    }
   ],
   "source": [
    "# Required libraries\n",
    "library(tidyverse)\n",
    "install.packages(\"infer\")\n",
    "library(infer)\n",
    "library(repr)\n",
    "library(dplyr)\n",
    "library(readr)\n",
    "options(repr.plot.width=5, repr.plot.height=5)"
   ]
  },
  {
   "cell_type": "code",
   "execution_count": null,
   "id": "c4085edb-cbd1-4f6c-86f0-3760f757a40b",
   "metadata": {},
   "outputs": [],
   "source": [
    "# Reading in the data\n",
    "url <- \"https://archive.ics.uci.edu/static/public/186/wine+quality.zip\"\n",
    "\n",
    "# Define the local file name for the downloaded ZIP file\n",
    "zip_file <- \"data/wine_quality.zip\"\n",
    "\n",
    "# Download the ZIP file from the URL\n",
    "download.file(url, destfile = zip_file)\n",
    "\n",
    "# Unzip the downloaded file\n",
    "unzip(zip_file, exdir = \"data\")"
   ]
  },
  {
   "cell_type": "markdown",
   "id": "86e11ed0-0485-4641-870f-826fe1a4fc3e",
   "metadata": {},
   "source": [
    "## Introduction"
   ]
  },
  {
   "cell_type": "markdown",
   "id": "00027c85-fda2-49f0-824a-4545064f853e",
   "metadata": {},
   "source": [
    "The goal of the project is to explore the average level of Volatile Acidity, Total Sulfur Dioxide and Chlorides in Red and White wine. The dataset, [Wine Quality](https://archive.ics.uci.edu/dataset/186/wine+quality), is taken from [UCI Machine Learning Repository](https://archive.ics.uci.edu/datasets)."
   ]
  },
  {
   "cell_type": "markdown",
   "id": "49b6879e-e661-467f-b429-209dc7134d10",
   "metadata": {},
   "source": [
    "The dataset includes 13 attributes describing \n",
    "\n",
    "- ```Fixed Acidity```\n",
    "- ```Volatile Acidity```\n",
    "- ```Citric Acid```\n",
    "- ```Residual Sugar```\n",
    "- ```Chlorides```\n",
    "- ```Free Sulfur Dioxide```\n",
    "- ```Total Sulfur Dioxide```\n",
    "- ```Density```\n",
    "- ```pH```\n",
    "- ```sulphates```\n",
    "- ```alcohol```\n",
    "- ```quality```"
   ]
  },
  {
   "cell_type": "markdown",
   "id": "681be966-1db8-4dfb-93a8-eb8b689b7bfb",
   "metadata": {},
   "source": [
    "Research Question\n",
    "<hr></hr>\n",
    "How do the levels of <b>volatile acidity</b> differ between <b>red</b> and <b>white wines</b>, and are there statistically significant variations in these chemical components between the two wine types?"
   ]
  },
  {
   "cell_type": "markdown",
   "id": "a3ab35c6-20bd-455e-b163-a691689fcefc",
   "metadata": {},
   "source": [
    "Our attribute of interest for this project is:\n",
    "\n",
    "- ```Volatile Acidity```: Volatile acidity in the context of wine refers to the presence of volatile acids, primarily acetic acid.  It is a key factor in wine quality and can impact the wine's flavor and aroma.\n",
    "\n",
    "To conduct research, we will be exploring the average levels (location parameter) of <b>volatile acidity</b> for each of the wines as well as standard deviation (scale parameter)."
   ]
  },
  {
   "cell_type": "markdown",
   "id": "9bf3eda4-b2f0-419e-add8-abd41749b3ac",
   "metadata": {},
   "source": [
    "Volatile acidity plays a pivotal role in the winemaking process, and exhibits substantial variations across different wines. A study conducted by Babincev and Jović in 2021 delves into the chemical composition of white and red wines, revealing that white wine tends to have higher acidity levels compared to red wine. This finding underscores the importance and relevance of further investigation of volatile acidity."
   ]
  },
  {
   "cell_type": "markdown",
   "id": "0d258d87-281b-40aa-931e-9678ba30b879",
   "metadata": {},
   "source": [
    "## Methods and Results"
   ]
  },
  {
   "cell_type": "markdown",
   "id": "00b099de-614b-48aa-b1a0-4598de686fa7",
   "metadata": {},
   "source": [
    "<b> Overview: </b> We will be conducting a hypothesis test at the 5% significance level via permutation, in order to examine the difference in mean volatile acidity between red and white wine. Our null and alternative hypothesis is </br>$H_{0}: \\mu_{\\text{Volatile Acidity of Red Wine}} - \\mu_{\\text{Volatile Acidity of White Wine}} = 0$ </br> $H_{a}: \\mu_{\\text{Volatile Acidity of Red Wine}} - \\mu_{\\text{Volatile Acidity of White Wine}} \\neq 0$.\n",
    "\n",
    "We will be firstly creating a null model, then visualizing it in order to find the p-value.\n",
    "\n",
    "From there, we will also create two confidence intervals: one utilizing bootstrapping, and one utilizing the CLT."
   ]
  },
  {
   "cell_type": "markdown",
   "id": "f412a51e-b505-4556-8a45-0f370ce5f7a5",
   "metadata": {},
   "source": [
    "### Wrangling the data"
   ]
  },
  {
   "cell_type": "markdown",
   "id": "fccc9fce-627e-4fc8-9582-2e3e2b7587db",
   "metadata": {},
   "source": [
    "First, we read in the red wine and white wine data and check to see if there are any missing values. We also add a column to \n",
    "each dataset to indicate the type of wine. Seeing that there are no missing values, there is no need to remove any rows and we proceed by combining the data into one data frame."
   ]
  },
  {
   "cell_type": "code",
   "execution_count": null,
   "id": "c888d47b-f40c-4332-aaef-da2725b6a53c",
   "metadata": {},
   "outputs": [],
   "source": [
    "# Read in the red and white wine data\n",
    "\n",
    "wine_red_data <- read_delim(\"data/winequality-red.csv\", delim = \";\", show_col_types = FALSE) |>\n",
    "                    mutate(type = \"red\")\n",
    "wine_white_data <- read_delim(\"data/winequality-white.csv\", delim = \";\", show_col_types = FALSE)|>\n",
    "                    mutate(type = \"white\")\n",
    "# Check if we have missing values\n",
    "sum(is.na(wine_white_data))\n",
    "sum(is.na(wine_red_data)) "
   ]
  },
  {
   "cell_type": "code",
   "execution_count": null,
   "id": "fe86a258-170c-40fd-80f0-22060dc74ef8",
   "metadata": {},
   "outputs": [],
   "source": [
    "# Combining the red/white wine data and adding proper column names to the dataframe\n",
    "\n",
    "wine_data <- rbind(wine_red_data, wine_white_data)\n",
    "colnames(wine_data) <- c(\"fixed.acidity\",\"volatile.acidity\",\"citric.acid\",\"residual.sugar\",\n",
    "                         \"chlorides\",\"free.sulfur.dioxide\",\"total.sulfur.dioxide\",\"density\",\n",
    "                         \"pH\",\"sulphates\",\"alcohol\",\"quality\",\"type\")\n",
    "head(wine_data)"
   ]
  },
  {
   "cell_type": "markdown",
   "id": "19958497-1190-4bfe-b4f1-c2dafceaf76f",
   "metadata": {},
   "source": [
    "Now that we have combined the two datasets, we drop all the unnecessary columns to isolate our desired attribute (volatile acidity) and the wine type."
   ]
  },
  {
   "cell_type": "code",
   "execution_count": null,
   "id": "7b67e87f-98b2-421a-8751-67c8ea97fb37",
   "metadata": {},
   "outputs": [],
   "source": [
    "wine_data_specific <- wine_data %>%\n",
    "                        select(volatile.acidity, type)\n",
    "head(wine_data_specific)"
   ]
  },
  {
   "cell_type": "code",
   "execution_count": null,
   "id": "65347756-3b12-4ab9-867e-856f4af5acd1",
   "metadata": {},
   "outputs": [],
   "source": [
    "dim(wine_data_specific)"
   ]
  },
  {
   "cell_type": "markdown",
   "id": "c8207b48-e4b6-41df-bacc-d1f611010353",
   "metadata": {},
   "source": [
    "# Preliminary Analysis #"
   ]
  },
  {
   "cell_type": "markdown",
   "id": "fc803b56-c7ca-4961-9dc3-4edd2dc930be",
   "metadata": {},
   "source": [
    "We begin by conducting some preliminary analysis to explore our data. Here we plot the sample distribution for our attribute of interest, volatile acidity, using colour to differentiate between the red and white wine observations."
   ]
  },
  {
   "cell_type": "code",
   "execution_count": null,
   "id": "ef7cf524-bc8b-4c07-9bdc-2d600bd32924",
   "metadata": {
    "tags": []
   },
   "outputs": [],
   "source": [
    "# Histogram of volatile acidity against the respective wine type\n",
    "\n",
    "ggplot(wine_data_specific, aes(x = volatile.acidity, fill = type)) +\n",
    "  geom_histogram(binwidth = 0.05, position = \"dodge\", color = \"black\") +\n",
    "  labs(title = paste(\"Histogram of Volatile Acidity by Wine Type\"), x = \"Volatile Acidity\", y = \"Frequency\") +\n",
    "  scale_fill_manual(values = c(\"red\" = \"red\", \"white\" = \"blue\")) +\n",
    "  theme_minimal() +\n",
    "  theme(legend.title = element_blank(),\n",
    "        legend.position = \"top\",  # Change the legend position\n",
    "        plot.title = element_text(size = 14, face = \"bold\"),  # Title style\n",
    "        axis.text = element_text(size = 12),  # Axis label text size\n",
    "        axis.title = element_text(size = 12, face = \"bold\"))"
   ]
  },
  {
   "cell_type": "markdown",
   "id": "b031024d-0c12-4671-93ae-aab3eb8e7e95",
   "metadata": {},
   "source": [
    "The histogram clearly illustrates a contrast in the mean concentration of volatile acids between red and white wines in our sample. White wine appears to have a much lower mean concentration than red wine, hence the value of conducting a hypothesis test. "
   ]
  },
  {
   "cell_type": "markdown",
   "id": "a64edf31-73b5-46c3-b1de-f1f7ebe3dfb8",
   "metadata": {},
   "source": [
    "We also produce a boxplot to more easily see the difference in distribution of volatile acid concentration between the 2 wine types. As can be seen below, each type of wine exhibits a unique distribution pattern, emphasizing the disparity observed in their chemical composition."
   ]
  },
  {
   "cell_type": "code",
   "execution_count": null,
   "id": "85301ca0-39e4-4c94-8cf4-5077728552d3",
   "metadata": {
    "tags": []
   },
   "outputs": [],
   "source": [
    "ggplot(wine_data_specific, aes(x = type, y = volatile.acidity)) +\n",
    "      geom_boxplot(fill = \"slateblue\", alpha = 0.4) +\n",
    "      labs(title = paste(\"Boxplot of Volatile Acidity by Wine Type\", sep = \" \"), x = \"Wine Type\", y = \"Volatile Acidity\") +\n",
    "      theme_minimal() +\n",
    "      theme(legend.title = element_blank(),\n",
    "            legend.position = \"top\",  # Change the legend position\n",
    "            plot.title = element_text(size = 14, face = \"bold\"),  # Title style\n",
    "            axis.text = element_text(size = 12),  # Axis label text size\n",
    "            axis.title = element_text(size = 12, face = \"bold\"))"
   ]
  },
  {
   "cell_type": "code",
   "execution_count": null,
   "id": "1032d29d",
   "metadata": {
    "tags": []
   },
   "outputs": [],
   "source": [
    "dim(wine_data_specific)"
   ]
  },
  {
   "cell_type": "markdown",
   "id": "80d35e90-a5d2-420d-b167-b5318a1cd3ce",
   "metadata": {},
   "source": [
    "## Hypothesis Test Via Permutation"
   ]
  },
  {
   "cell_type": "markdown",
   "id": "2a7d238d-d819-489e-9e00-99f5b73b2952",
   "metadata": {},
   "source": [
    "Now that have taken a closer look at the data we are working with, we are ready to begin our hypothesis test. We start by calculating the observed test statistic for our sample. That is, the observed difference in volatile acidity between red and white wine in our dataset."
   ]
  },
  {
   "cell_type": "code",
   "execution_count": null,
   "id": "465f241b",
   "metadata": {
    "tags": []
   },
   "outputs": [],
   "source": [
    "set.seed(42) # Setting the seed for reproducible workflow\n",
    "\n",
    "wine_sample <- wine_data_specific\n",
    "head(wine_sample)"
   ]
  },
  {
   "cell_type": "code",
   "execution_count": null,
   "id": "254aab1d-1cf4-41e9-9a19-7066cee39e02",
   "metadata": {
    "tags": []
   },
   "outputs": [],
   "source": [
    "obs_diff_in_means <- wine_sample %>%\n",
    "    specify(volatile.acidity ~ type) %>%\n",
    "    calculate(stat = \"diff in means\", order = c(\"red\", \"white\"))\n",
    "obs_diff_in_means"
   ]
  },
  {
   "cell_type": "markdown",
   "id": "30148a86-a6ee-4097-89fe-ffc2daa38b2d",
   "metadata": {},
   "source": [
    "Next, we create the null distribution, based on our null hypothesis shown below. To achieve this, we specify our formula and generate 1000 permutation replicates using the infer package. We use the permutation method because our test statistic is the difference in means, where our null hypothesis is equal concentrations of volatile acids between red and white wine. We calculate the difference in means for each replicate by subtracting the mean of white wine from the mean of red wine."
   ]
  },
  {
   "cell_type": "markdown",
   "id": "9292e3d4-6724-4e59-a973-ffc6bf0e3a67",
   "metadata": {},
   "source": [
    "$H_{0}: \\mu_{\\text{Volatile Acidity of Red Wine}} - \\mu_{\\text{Volatile Acidity of White Wine}} = 0$."
   ]
  },
  {
   "cell_type": "code",
   "execution_count": null,
   "id": "262c33f9-93ab-4a86-aa3d-68477c2f7725",
   "metadata": {
    "tags": []
   },
   "outputs": [],
   "source": [
    "null_dist <- wine_sample %>%\n",
    "    specify(volatile.acidity ~ type) %>%\n",
    "    hypothesize(null = \"independence\") %>%\n",
    "    generate(reps = 1000, type=\"permute\") %>%\n",
    "    calculate(stat = \"diff in means\", order = c(\"red\", \"white\"))\n",
    "head(null_dist)"
   ]
  },
  {
   "cell_type": "markdown",
   "id": "9bc441da-1813-4533-ab1f-aef87252054c",
   "metadata": {},
   "source": [
    "After obtaining the null distribution, we can visualize it and shade in the p-value based on the observed test statistic we calculated earlier."
   ]
  },
  {
   "cell_type": "code",
   "execution_count": null,
   "id": "4fc84ff2-6246-486b-95c6-f6eb474405ec",
   "metadata": {
    "tags": []
   },
   "outputs": [],
   "source": [
    "options(repr.plot.width=8, repr.plot.height=8)\n",
    "visualize(null_dist, bins = 8) + \n",
    "    shade_p_value(obs_stat=obs_diff_in_means, direction = \"two_sided\") + theme(\n",
    "    plot.title = element_text(size = 24), \n",
    "    axis.title.x = element_text(size = 20),  \n",
    "    axis.title.y = element_text(size = 20),  \n",
    "    axis.text.x = element_text(size = 16), \n",
    "    axis.text.y = element_text(size = 16)) +\n",
    "    xlab(\"Diff in Means\")"
   ]
  },
  {
   "cell_type": "code",
   "execution_count": null,
   "id": "b44c1f0e-7d42-440b-b84f-6a016432a7e5",
   "metadata": {
    "tags": []
   },
   "outputs": [],
   "source": [
    "p_val <- null_dist %>%\n",
    "    get_p_value(obs_stat = obs_diff_in_means, direction = \"two-sided\")\n",
    "p_val"
   ]
  },
  {
   "cell_type": "code",
   "execution_count": null,
   "id": "ba1112f8-0e67-4bc8-8ba8-c122110230bf",
   "metadata": {
    "tags": []
   },
   "outputs": [],
   "source": [
    "wine_ci <- wine_sample %>%\n",
    "    specify(volatile.acidity ~ type) %>%\n",
    "    generate(reps = 1000, type = \"bootstrap\") %>%\n",
    "    calculate(stat = \"diff in means\", order = c(\"red\", \"white\")) %>%\n",
    "    get_ci()\n",
    "wine_ci"
   ]
  },
  {
   "cell_type": "markdown",
   "id": "e909e47d-22fa-4fc6-ac1e-ec2266942074",
   "metadata": {},
   "source": [
    "### Calculating CI with CLT"
   ]
  },
  {
   "cell_type": "code",
   "execution_count": null,
   "id": "a65cc419-3a5d-4684-957d-8fb7c693571b",
   "metadata": {
    "tags": []
   },
   "outputs": [],
   "source": [
    "red <- wine_sample %>%\n",
    "    filter(type == \"red\") %>%\n",
    "    pull(volatile.acidity)\n",
    "\n",
    "white <- wine_sample %>%\n",
    "    filter(type == \"white\") %>%\n",
    "    pull(volatile.acidity)\n",
    "\n",
    "wine_diff_means_ci <- \n",
    "    tibble(\n",
    "        lower_ci = mean(red) - mean(white) - qnorm(0.975) * sqrt(var(red)/length(red) + var(white)/length(white)),\n",
    "        upper_ci = mean(red) - mean(white) + qnorm(0.975) * sqrt(var(red)/length(red) + var(white)/length(white))\n",
    "    )\n",
    "wine_diff_means_ci"
   ]
  },
  {
   "cell_type": "markdown",
   "id": "d73be4f0-fb4c-434c-9568-61f52e7e2540",
   "metadata": {},
   "source": [
    "## Discussion"
   ]
  },
  {
   "cell_type": "markdown",
   "id": "9b303b6b-17bb-4cba-b6d1-83dd9e76374e",
   "metadata": {},
   "source": [
    "## References"
   ]
  },
  {
   "cell_type": "markdown",
   "id": "31ad8292-5ee2-471b-b569-5ecfd6dda22a",
   "metadata": {},
   "source": [
    "- Babincev, L.M., Jović, S. Determination of the amount of volatile acids in oxidized wines and neutralization of these by using chemical reagents and biological materials. Biomass Conv. Bioref. 13, 4717–4725 (2023). https://doi.org/10.1007/s13399-021-01339-7\n",
    "- Kelly M. Volatile Acidity in Wine PennState Extension https://extension.psu.edu/volatile-acidity-in-wine"
   ]
  },
  {
   "cell_type": "code",
   "execution_count": null,
   "id": "0cb912e7-1e11-4aad-b844-b1b595b88b98",
   "metadata": {},
   "outputs": [],
   "source": []
  },
  {
   "cell_type": "code",
   "execution_count": null,
   "id": "3d646ff2-8612-4441-99b3-ec65abe2f0a3",
   "metadata": {},
   "outputs": [],
   "source": []
  }
 ],
 "metadata": {
  "kernelspec": {
   "display_name": "R",
   "language": "R",
   "name": "ir"
  },
  "language_info": {
   "codemirror_mode": "r",
   "file_extension": ".r",
   "mimetype": "text/x-r-source",
   "name": "R",
   "pygments_lexer": "r",
   "version": "4.2.3"
  }
 },
 "nbformat": 4,
 "nbformat_minor": 5
}
