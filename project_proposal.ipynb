{
 "cells": [
  {
   "cell_type": "markdown",
   "metadata": {},
   "source": [
    "\"insert title\""
   ]
  },
  {
   "cell_type": "markdown",
   "metadata": {},
   "source": [
    "Group members: Vivaan, Justin, Katelyn, Katie Archer (84677194)"
   ]
  },
  {
   "cell_type": "code",
   "execution_count": 1,
   "metadata": {},
   "outputs": [
    {
     "name": "stderr",
     "output_type": "stream",
     "text": [
      "Installing package into ‘/home/jupyter/R/x86_64-pc-linux-gnu-library/4.3’\n",
      "(as ‘lib’ is unspecified)\n",
      "\n"
     ]
    }
   ],
   "source": [
    "install.packages(\"foreign\")"
   ]
  },
  {
   "cell_type": "code",
   "execution_count": 2,
   "metadata": {},
   "outputs": [
    {
     "name": "stderr",
     "output_type": "stream",
     "text": [
      "\n",
      "Attaching package: ‘dplyr’\n",
      "\n",
      "\n",
      "The following objects are masked from ‘package:stats’:\n",
      "\n",
      "    filter, lag\n",
      "\n",
      "\n",
      "The following objects are masked from ‘package:base’:\n",
      "\n",
      "    intersect, setdiff, setequal, union\n",
      "\n",
      "\n"
     ]
    }
   ],
   "source": [
    "library(foreign)\n",
    "library(dplyr)"
   ]
  },
  {
   "cell_type": "code",
   "execution_count": 3,
   "metadata": {
    "vscode": {
     "languageId": "r"
    }
   },
   "outputs": [],
   "source": [
    "# Reading in the data\n",
    "url <- \"https://archive.ics.uci.edu/static/public/582/student+performance+on+an+entrance+examination.zip\"\n",
    "\n",
    "# Define the local file name for the downloaded ZIP file\n",
    "zip_file <- \"student_performance.zip\"\n",
    "\n",
    "# Download the ZIP file from the URL\n",
    "download.file(url, destfile = zip_file)\n",
    "\n",
    "# Unzip the downloaded file\n",
    "unzip(zip_file, exdir = \"data\")"
   ]
  },
  {
   "cell_type": "code",
   "execution_count": 4,
   "metadata": {},
   "outputs": [
    {
     "data": {
      "text/html": [
       "<table class=\"dataframe\">\n",
       "<caption>A data.frame: 6 × 12</caption>\n",
       "<thead>\n",
       "\t<tr><th></th><th scope=col>Performance</th><th scope=col>Gender</th><th scope=col>Caste</th><th scope=col>coaching</th><th scope=col>time</th><th scope=col>Class_ten_education</th><th scope=col>twelve_education</th><th scope=col>medium</th><th scope=col>Class_ X_Percentage</th><th scope=col>Class_XII_Percentage</th><th scope=col>Father_occupation</th><th scope=col>Mother_occupation</th></tr>\n",
       "\t<tr><th></th><th scope=col>&lt;chr&gt;</th><th scope=col>&lt;chr&gt;</th><th scope=col>&lt;chr&gt;</th><th scope=col>&lt;chr&gt;</th><th scope=col>&lt;chr&gt;</th><th scope=col>&lt;chr&gt;</th><th scope=col>&lt;chr&gt;</th><th scope=col>&lt;chr&gt;</th><th scope=col>&lt;chr&gt;</th><th scope=col>&lt;chr&gt;</th><th scope=col>&lt;chr&gt;</th><th scope=col>&lt;chr&gt;</th></tr>\n",
       "</thead>\n",
       "<tbody>\n",
       "\t<tr><th scope=row>1</th><td>Excellent</td><td>male</td><td>General</td><td>NO</td><td>ONE</td><td>SEBA  </td><td>AHSEC</td><td>ENGLISH</td><td>Excellent</td><td>Excellent</td><td>DOCTOR         </td><td>OTHERS        </td></tr>\n",
       "\t<tr><th scope=row>2</th><td>Excellent</td><td>male</td><td>OBC    </td><td>WA</td><td>TWO</td><td>SEBA  </td><td>AHSEC</td><td>OTHERS </td><td>Excellent</td><td>Excellent</td><td>SCHOOL_TEACHER </td><td>HOUSE_WIFE    </td></tr>\n",
       "\t<tr><th scope=row>3</th><td>Excellent</td><td>male</td><td>OBC    </td><td>OA</td><td>TWO</td><td>OTHERS</td><td>CBSE </td><td>ENGLISH</td><td>Excellent</td><td>Excellent</td><td>BUSINESS       </td><td>HOUSE_WIFE    </td></tr>\n",
       "\t<tr><th scope=row>4</th><td>Excellent</td><td>male</td><td>General</td><td>WA</td><td>ONE</td><td>SEBA  </td><td>AHSEC</td><td>OTHERS </td><td>Excellent</td><td>Excellent</td><td>SCHOOL_TEACHER </td><td>SCHOOL_TEACHER</td></tr>\n",
       "\t<tr><th scope=row>5</th><td>Excellent</td><td>male</td><td>General</td><td>OA</td><td>TWO</td><td>SEBA  </td><td>CBSE </td><td>ENGLISH</td><td>Excellent</td><td>Excellent</td><td>COLLEGE_TEACHER</td><td>HOUSE_WIFE    </td></tr>\n",
       "\t<tr><th scope=row>6</th><td>Excellent</td><td>male</td><td>General</td><td>WA</td><td>TWO</td><td>CBSE  </td><td>CBSE </td><td>ENGLISH</td><td>Excellent</td><td>Excellent</td><td>COLLEGE_TEACHER</td><td>HOUSE_WIFE    </td></tr>\n",
       "</tbody>\n",
       "</table>\n"
      ],
      "text/latex": [
       "A data.frame: 6 × 12\n",
       "\\begin{tabular}{r|llllllllllll}\n",
       "  & Performance & Gender & Caste & coaching & time & Class\\_ten\\_education & twelve\\_education & medium & Class\\_ X\\_Percentage & Class\\_XII\\_Percentage & Father\\_occupation & Mother\\_occupation\\\\\n",
       "  & <chr> & <chr> & <chr> & <chr> & <chr> & <chr> & <chr> & <chr> & <chr> & <chr> & <chr> & <chr>\\\\\n",
       "\\hline\n",
       "\t1 & Excellent & male & General & NO & ONE & SEBA   & AHSEC & ENGLISH & Excellent & Excellent & DOCTOR          & OTHERS        \\\\\n",
       "\t2 & Excellent & male & OBC     & WA & TWO & SEBA   & AHSEC & OTHERS  & Excellent & Excellent & SCHOOL\\_TEACHER  & HOUSE\\_WIFE    \\\\\n",
       "\t3 & Excellent & male & OBC     & OA & TWO & OTHERS & CBSE  & ENGLISH & Excellent & Excellent & BUSINESS        & HOUSE\\_WIFE    \\\\\n",
       "\t4 & Excellent & male & General & WA & ONE & SEBA   & AHSEC & OTHERS  & Excellent & Excellent & SCHOOL\\_TEACHER  & SCHOOL\\_TEACHER\\\\\n",
       "\t5 & Excellent & male & General & OA & TWO & SEBA   & CBSE  & ENGLISH & Excellent & Excellent & COLLEGE\\_TEACHER & HOUSE\\_WIFE    \\\\\n",
       "\t6 & Excellent & male & General & WA & TWO & CBSE   & CBSE  & ENGLISH & Excellent & Excellent & COLLEGE\\_TEACHER & HOUSE\\_WIFE    \\\\\n",
       "\\end{tabular}\n"
      ],
      "text/markdown": [
       "\n",
       "A data.frame: 6 × 12\n",
       "\n",
       "| <!--/--> | Performance &lt;chr&gt; | Gender &lt;chr&gt; | Caste &lt;chr&gt; | coaching &lt;chr&gt; | time &lt;chr&gt; | Class_ten_education &lt;chr&gt; | twelve_education &lt;chr&gt; | medium &lt;chr&gt; | Class_ X_Percentage &lt;chr&gt; | Class_XII_Percentage &lt;chr&gt; | Father_occupation &lt;chr&gt; | Mother_occupation &lt;chr&gt; |\n",
       "|---|---|---|---|---|---|---|---|---|---|---|---|---|\n",
       "| 1 | Excellent | male | General | NO | ONE | SEBA   | AHSEC | ENGLISH | Excellent | Excellent | DOCTOR          | OTHERS         |\n",
       "| 2 | Excellent | male | OBC     | WA | TWO | SEBA   | AHSEC | OTHERS  | Excellent | Excellent | SCHOOL_TEACHER  | HOUSE_WIFE     |\n",
       "| 3 | Excellent | male | OBC     | OA | TWO | OTHERS | CBSE  | ENGLISH | Excellent | Excellent | BUSINESS        | HOUSE_WIFE     |\n",
       "| 4 | Excellent | male | General | WA | ONE | SEBA   | AHSEC | OTHERS  | Excellent | Excellent | SCHOOL_TEACHER  | SCHOOL_TEACHER |\n",
       "| 5 | Excellent | male | General | OA | TWO | SEBA   | CBSE  | ENGLISH | Excellent | Excellent | COLLEGE_TEACHER | HOUSE_WIFE     |\n",
       "| 6 | Excellent | male | General | WA | TWO | CBSE   | CBSE  | ENGLISH | Excellent | Excellent | COLLEGE_TEACHER | HOUSE_WIFE     |\n",
       "\n"
      ],
      "text/plain": [
       "  Performance Gender Caste   coaching time Class_ten_education twelve_education\n",
       "1 Excellent   male   General NO       ONE  SEBA                AHSEC           \n",
       "2 Excellent   male   OBC     WA       TWO  SEBA                AHSEC           \n",
       "3 Excellent   male   OBC     OA       TWO  OTHERS              CBSE            \n",
       "4 Excellent   male   General WA       ONE  SEBA                AHSEC           \n",
       "5 Excellent   male   General OA       TWO  SEBA                CBSE            \n",
       "6 Excellent   male   General WA       TWO  CBSE                CBSE            \n",
       "  medium  Class_ X_Percentage Class_XII_Percentage Father_occupation\n",
       "1 ENGLISH Excellent           Excellent            DOCTOR           \n",
       "2 OTHERS  Excellent           Excellent            SCHOOL_TEACHER   \n",
       "3 ENGLISH Excellent           Excellent            BUSINESS         \n",
       "4 OTHERS  Excellent           Excellent            SCHOOL_TEACHER   \n",
       "5 ENGLISH Excellent           Excellent            COLLEGE_TEACHER  \n",
       "6 ENGLISH Excellent           Excellent            COLLEGE_TEACHER  \n",
       "  Mother_occupation\n",
       "1 OTHERS           \n",
       "2 HOUSE_WIFE       \n",
       "3 HOUSE_WIFE       \n",
       "4 SCHOOL_TEACHER   \n",
       "5 HOUSE_WIFE       \n",
       "6 HOUSE_WIFE       "
      ]
     },
     "metadata": {},
     "output_type": "display_data"
    }
   ],
   "source": [
    "data <- read.arff(\"data/CEE_DATA.arff\") |> mutate_if(is.factor, as.character)\n",
    "head(data)"
   ]
  },
  {
   "cell_type": "markdown",
   "metadata": {},
   "source": [
    "Just trying some stuff:"
   ]
  },
  {
   "cell_type": "code",
   "execution_count": 5,
   "metadata": {},
   "outputs": [
    {
     "name": "stdout",
     "output_type": "stream",
     "text": [
      "[1] \"Excellent\" \"Vg\"        \"Good\"      \"Average\"  \n",
      "[1] \"General\" \"OBC\"     \"SC\"      \"ST\"     \n"
     ]
    }
   ],
   "source": [
    "# Printing out unique values of Performance/Caste columns\n",
    "\n",
    "print(unique(data$Performance))\n",
    "print(unique(data$Caste))"
   ]
  },
  {
   "cell_type": "code",
   "execution_count": 6,
   "metadata": {},
   "outputs": [
    {
     "data": {
      "text/html": [
       "101"
      ],
      "text/latex": [
       "101"
      ],
      "text/markdown": [
       "101"
      ],
      "text/plain": [
       "[1] 101"
      ]
     },
     "metadata": {},
     "output_type": "display_data"
    }
   ],
   "source": [
    "excellent <- data |>\n",
    "    filter(Performance == \"Excellent\")\n",
    "\n",
    "rows <- excellent |> nrow()\n",
    "rows"
   ]
  },
  {
   "cell_type": "code",
   "execution_count": 7,
   "metadata": {},
   "outputs": [
    {
     "data": {
      "text/html": [
       "11"
      ],
      "text/latex": [
       "11"
      ],
      "text/markdown": [
       "11"
      ],
      "text/plain": [
       "[1] 11"
      ]
     },
     "metadata": {},
     "output_type": "display_data"
    }
   ],
   "source": [
    "father_exc <- excellent |>\n",
    "    filter(Father_occupation == \"DOCTOR\") \n",
    "\n",
    "father_rows <- father_exc |> nrow()\n",
    "father_rows"
   ]
  },
  {
   "cell_type": "code",
   "execution_count": 8,
   "metadata": {},
   "outputs": [
    {
     "data": {
      "text/html": [
       "157"
      ],
      "text/latex": [
       "157"
      ],
      "text/markdown": [
       "157"
      ],
      "text/plain": [
       "[1] 157"
      ]
     },
     "metadata": {},
     "output_type": "display_data"
    }
   ],
   "source": [
    "average <- data |>\n",
    "    filter(Performance == \"Average\")\n",
    "\n",
    "nrow <- average |> nrow()\n",
    "nrow"
   ]
  },
  {
   "cell_type": "code",
   "execution_count": 9,
   "metadata": {},
   "outputs": [
    {
     "data": {
      "text/html": [
       "8"
      ],
      "text/latex": [
       "8"
      ],
      "text/markdown": [
       "8"
      ],
      "text/plain": [
       "[1] 8"
      ]
     },
     "metadata": {},
     "output_type": "display_data"
    }
   ],
   "source": [
    "father_ave <- average |>\n",
    "    filter(Father_occupation == \"DOCTOR\") \n",
    "\n",
    "father_rows_ave <- father_ave |> nrow()\n",
    "father_rows_ave"
   ]
  },
  {
   "cell_type": "markdown",
   "metadata": {},
   "source": [
    "Probably won't work due to small size\n",
    "- Bootstrap?"
   ]
  },
  {
   "cell_type": "markdown",
   "metadata": {},
   "source": [
    "# Introduction:"
   ]
  },
  {
   "cell_type": "markdown",
   "metadata": {
    "jp-MarkdownHeadingCollapsed": true
   },
   "source": [
    "**Quick Rundown and Description of Variables**\n",
    "\n",
    "| Variables      | Description |\r\n",
    "| ----------- | ----------- |\r\n",
    "Performance | One of the following descriptions: 'Excellent', 'Vg (Very good)', 'Good', 'Average'. Pertains to performance in the common entrance examination   |\r",
    "Gender | Candidate's gender  \n",
    "| Caste   | One of: \"General\", \"OBC\" , \"SC\", \"ST\"|\n",
    "| coaching   | Whether or not candidate attended coaching classes within/outisde Assam or not |\n",
    "| Class_ten_education   | Name of board where candidate studied at Class X level |\n",
    "| twelve_education   | Name of board where candidate studied at Class XII level |\n",
    "| medium   | Medium of instructions (language) for study at Class XII level |\n",
    "| Class_ X_Percentage   | Percentage secured by candidate at Class X level |\n",
    "| Class_ XII_Percentage   | Percentage secured by candidate at Class XII level |\n",
    "| Father_occupation   | The occupation of the father of the candidate        |\n",
    "| Mother_occupation   | The occupation of the mother of the candidate        |  |t | |"
   ]
  },
  {
   "cell_type": "markdown",
   "metadata": {},
   "source": [
    "# Preliminary Results:"
   ]
  },
  {
   "cell_type": "markdown",
   "metadata": {},
   "source": [
    "# Methods: Plan"
   ]
  },
  {
   "cell_type": "markdown",
   "metadata": {},
   "source": [
    "### Question: \n",
    "__Is there a correlation between a student's performance in the Common Entrance Examination for medical school in Assam and their parents' professions?__\n"
   ]
  },
  {
   "cell_type": "markdown",
   "metadata": {},
   "source": [
    "# References:"
   ]
  },
  {
   "cell_type": "code",
   "execution_count": null,
   "metadata": {},
   "outputs": [],
   "source": []
  }
 ],
 "metadata": {
  "kernelspec": {
   "display_name": "R",
   "language": "R",
   "name": "ir"
  },
  "language_info": {
   "codemirror_mode": "r",
   "file_extension": ".r",
   "mimetype": "text/x-r-source",
   "name": "R",
   "pygments_lexer": "r",
   "version": "4.3.0"
  }
 },
 "nbformat": 4,
 "nbformat_minor": 4
}
