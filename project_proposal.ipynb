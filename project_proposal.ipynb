{
 "cells": [
  {
   "cell_type": "markdown",
   "metadata": {},
   "source": [
    "\"insert title\""
   ]
  },
  {
   "cell_type": "markdown",
   "metadata": {},
   "source": [
    "Group members: Vivaan, Justin, Katelyn, Katie Archer (84677194)"
   ]
  },
  {
   "cell_type": "code",
   "execution_count": 2,
   "metadata": {},
   "outputs": [
    {
     "name": "stderr",
     "output_type": "stream",
     "text": [
      "Updating HTML index of packages in '.Library'\n",
      "\n",
      "Making 'packages.html' ...\n",
      " done\n",
      "\n"
     ]
    }
   ],
   "source": [
    "install.packages(\"foreign\")"
   ]
  },
  {
   "cell_type": "code",
   "execution_count": 3,
   "metadata": {},
   "outputs": [],
   "source": [
    "library(foreign)"
   ]
  },
  {
   "cell_type": "code",
   "execution_count": 1,
   "metadata": {
    "vscode": {
     "languageId": "r"
    }
   },
   "outputs": [],
   "source": [
    "# Reading in the data\n",
    "url <- \"https://archive.ics.uci.edu/static/public/582/student+performance+on+an+entrance+examination.zip\"\n",
    "\n",
    "# Define the local file name for the downloaded ZIP file\n",
    "zip_file <- \"student_performance.zip\"\n",
    "\n",
    "# Download the ZIP file from the URL\n",
    "download.file(url, destfile = zip_file)\n",
    "\n",
    "# Unzip the downloaded file\n",
    "unzip(zip_file, exdir = \"data\")"
   ]
  },
  {
   "cell_type": "code",
   "execution_count": 5,
   "metadata": {},
   "outputs": [
    {
     "data": {
      "text/html": [
       "<table class=\"dataframe\">\n",
       "<caption>A data.frame: 6 × 12</caption>\n",
       "<thead>\n",
       "\t<tr><th></th><th scope=col>Performance</th><th scope=col>Gender</th><th scope=col>Caste</th><th scope=col>coaching</th><th scope=col>time</th><th scope=col>Class_ten_education</th><th scope=col>twelve_education</th><th scope=col>medium</th><th scope=col>Class_ X_Percentage</th><th scope=col>Class_XII_Percentage</th><th scope=col>Father_occupation</th><th scope=col>Mother_occupation</th></tr>\n",
       "\t<tr><th></th><th scope=col>&lt;fct&gt;</th><th scope=col>&lt;fct&gt;</th><th scope=col>&lt;fct&gt;</th><th scope=col>&lt;fct&gt;</th><th scope=col>&lt;fct&gt;</th><th scope=col>&lt;fct&gt;</th><th scope=col>&lt;fct&gt;</th><th scope=col>&lt;fct&gt;</th><th scope=col>&lt;fct&gt;</th><th scope=col>&lt;fct&gt;</th><th scope=col>&lt;fct&gt;</th><th scope=col>&lt;fct&gt;</th></tr>\n",
       "</thead>\n",
       "<tbody>\n",
       "\t<tr><th scope=row>1</th><td>Excellent</td><td>male</td><td>General</td><td>NO</td><td>ONE</td><td>SEBA  </td><td>AHSEC</td><td>ENGLISH</td><td>Excellent</td><td>Excellent</td><td>DOCTOR         </td><td>OTHERS        </td></tr>\n",
       "\t<tr><th scope=row>2</th><td>Excellent</td><td>male</td><td>OBC    </td><td>WA</td><td>TWO</td><td>SEBA  </td><td>AHSEC</td><td>OTHERS </td><td>Excellent</td><td>Excellent</td><td>SCHOOL_TEACHER </td><td>HOUSE_WIFE    </td></tr>\n",
       "\t<tr><th scope=row>3</th><td>Excellent</td><td>male</td><td>OBC    </td><td>OA</td><td>TWO</td><td>OTHERS</td><td>CBSE </td><td>ENGLISH</td><td>Excellent</td><td>Excellent</td><td>BUSINESS       </td><td>HOUSE_WIFE    </td></tr>\n",
       "\t<tr><th scope=row>4</th><td>Excellent</td><td>male</td><td>General</td><td>WA</td><td>ONE</td><td>SEBA  </td><td>AHSEC</td><td>OTHERS </td><td>Excellent</td><td>Excellent</td><td>SCHOOL_TEACHER </td><td>SCHOOL_TEACHER</td></tr>\n",
       "\t<tr><th scope=row>5</th><td>Excellent</td><td>male</td><td>General</td><td>OA</td><td>TWO</td><td>SEBA  </td><td>CBSE </td><td>ENGLISH</td><td>Excellent</td><td>Excellent</td><td>COLLEGE_TEACHER</td><td>HOUSE_WIFE    </td></tr>\n",
       "\t<tr><th scope=row>6</th><td>Excellent</td><td>male</td><td>General</td><td>WA</td><td>TWO</td><td>CBSE  </td><td>CBSE </td><td>ENGLISH</td><td>Excellent</td><td>Excellent</td><td>COLLEGE_TEACHER</td><td>HOUSE_WIFE    </td></tr>\n",
       "</tbody>\n",
       "</table>\n"
      ],
      "text/latex": [
       "A data.frame: 6 × 12\n",
       "\\begin{tabular}{r|llllllllllll}\n",
       "  & Performance & Gender & Caste & coaching & time & Class\\_ten\\_education & twelve\\_education & medium & Class\\_ X\\_Percentage & Class\\_XII\\_Percentage & Father\\_occupation & Mother\\_occupation\\\\\n",
       "  & <fct> & <fct> & <fct> & <fct> & <fct> & <fct> & <fct> & <fct> & <fct> & <fct> & <fct> & <fct>\\\\\n",
       "\\hline\n",
       "\t1 & Excellent & male & General & NO & ONE & SEBA   & AHSEC & ENGLISH & Excellent & Excellent & DOCTOR          & OTHERS        \\\\\n",
       "\t2 & Excellent & male & OBC     & WA & TWO & SEBA   & AHSEC & OTHERS  & Excellent & Excellent & SCHOOL\\_TEACHER  & HOUSE\\_WIFE    \\\\\n",
       "\t3 & Excellent & male & OBC     & OA & TWO & OTHERS & CBSE  & ENGLISH & Excellent & Excellent & BUSINESS        & HOUSE\\_WIFE    \\\\\n",
       "\t4 & Excellent & male & General & WA & ONE & SEBA   & AHSEC & OTHERS  & Excellent & Excellent & SCHOOL\\_TEACHER  & SCHOOL\\_TEACHER\\\\\n",
       "\t5 & Excellent & male & General & OA & TWO & SEBA   & CBSE  & ENGLISH & Excellent & Excellent & COLLEGE\\_TEACHER & HOUSE\\_WIFE    \\\\\n",
       "\t6 & Excellent & male & General & WA & TWO & CBSE   & CBSE  & ENGLISH & Excellent & Excellent & COLLEGE\\_TEACHER & HOUSE\\_WIFE    \\\\\n",
       "\\end{tabular}\n"
      ],
      "text/markdown": [
       "\n",
       "A data.frame: 6 × 12\n",
       "\n",
       "| <!--/--> | Performance &lt;fct&gt; | Gender &lt;fct&gt; | Caste &lt;fct&gt; | coaching &lt;fct&gt; | time &lt;fct&gt; | Class_ten_education &lt;fct&gt; | twelve_education &lt;fct&gt; | medium &lt;fct&gt; | Class_ X_Percentage &lt;fct&gt; | Class_XII_Percentage &lt;fct&gt; | Father_occupation &lt;fct&gt; | Mother_occupation &lt;fct&gt; |\n",
       "|---|---|---|---|---|---|---|---|---|---|---|---|---|\n",
       "| 1 | Excellent | male | General | NO | ONE | SEBA   | AHSEC | ENGLISH | Excellent | Excellent | DOCTOR          | OTHERS         |\n",
       "| 2 | Excellent | male | OBC     | WA | TWO | SEBA   | AHSEC | OTHERS  | Excellent | Excellent | SCHOOL_TEACHER  | HOUSE_WIFE     |\n",
       "| 3 | Excellent | male | OBC     | OA | TWO | OTHERS | CBSE  | ENGLISH | Excellent | Excellent | BUSINESS        | HOUSE_WIFE     |\n",
       "| 4 | Excellent | male | General | WA | ONE | SEBA   | AHSEC | OTHERS  | Excellent | Excellent | SCHOOL_TEACHER  | SCHOOL_TEACHER |\n",
       "| 5 | Excellent | male | General | OA | TWO | SEBA   | CBSE  | ENGLISH | Excellent | Excellent | COLLEGE_TEACHER | HOUSE_WIFE     |\n",
       "| 6 | Excellent | male | General | WA | TWO | CBSE   | CBSE  | ENGLISH | Excellent | Excellent | COLLEGE_TEACHER | HOUSE_WIFE     |\n",
       "\n"
      ],
      "text/plain": [
       "  Performance Gender Caste   coaching time Class_ten_education twelve_education\n",
       "1 Excellent   male   General NO       ONE  SEBA                AHSEC           \n",
       "2 Excellent   male   OBC     WA       TWO  SEBA                AHSEC           \n",
       "3 Excellent   male   OBC     OA       TWO  OTHERS              CBSE            \n",
       "4 Excellent   male   General WA       ONE  SEBA                AHSEC           \n",
       "5 Excellent   male   General OA       TWO  SEBA                CBSE            \n",
       "6 Excellent   male   General WA       TWO  CBSE                CBSE            \n",
       "  medium  Class_ X_Percentage Class_XII_Percentage Father_occupation\n",
       "1 ENGLISH Excellent           Excellent            DOCTOR           \n",
       "2 OTHERS  Excellent           Excellent            SCHOOL_TEACHER   \n",
       "3 ENGLISH Excellent           Excellent            BUSINESS         \n",
       "4 OTHERS  Excellent           Excellent            SCHOOL_TEACHER   \n",
       "5 ENGLISH Excellent           Excellent            COLLEGE_TEACHER  \n",
       "6 ENGLISH Excellent           Excellent            COLLEGE_TEACHER  \n",
       "  Mother_occupation\n",
       "1 OTHERS           \n",
       "2 HOUSE_WIFE       \n",
       "3 HOUSE_WIFE       \n",
       "4 SCHOOL_TEACHER   \n",
       "5 HOUSE_WIFE       \n",
       "6 HOUSE_WIFE       "
      ]
     },
     "metadata": {},
     "output_type": "display_data"
    }
   ],
   "source": [
    "data <- read.arff(\"data/CEE_DATA.arff\")\n",
    "head(data)"
   ]
  },
  {
   "cell_type": "markdown",
   "metadata": {},
   "source": [
    "Introduction:"
   ]
  },
  {
   "cell_type": "markdown",
   "metadata": {},
   "source": [
    "Preliminary Results:"
   ]
  },
  {
   "cell_type": "markdown",
   "metadata": {},
   "source": [
    "Methods: Plan"
   ]
  },
  {
   "cell_type": "markdown",
   "metadata": {},
   "source": [
    "References:"
   ]
  },
  {
   "cell_type": "code",
   "execution_count": null,
   "metadata": {},
   "outputs": [],
   "source": []
  }
 ],
 "metadata": {
  "kernelspec": {
   "display_name": "R",
   "language": "R",
   "name": "ir"
  },
  "language_info": {
   "codemirror_mode": "r",
   "file_extension": ".r",
   "mimetype": "text/x-r-source",
   "name": "R",
   "pygments_lexer": "r",
   "version": "4.2.3"
  }
 },
 "nbformat": 4,
 "nbformat_minor": 4
}
