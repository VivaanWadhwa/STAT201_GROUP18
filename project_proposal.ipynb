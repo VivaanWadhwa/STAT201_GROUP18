{
 "cells": [
  {
   "cell_type": "code",
   "execution_count": 8,
   "metadata": {
    "vscode": {
     "languageId": "r"
    }
   },
   "outputs": [
    {
     "name": "stderr",
     "output_type": "stream",
     "text": [
      "Warning message in download.file(url, \"/\"):\n",
      "“URL https://archive.ics.uci.edu/static/public/582/student+performance+on+an+entrance+examination.zip: cannot open destfile '/', reason 'Is a directory'”\n",
      "Warning message in download.file(url, \"/\"):\n",
      "“download had nonzero exit status”\n",
      "Warning message in unzip(\"student+performance+on+an+entrance+examination.zip\", exdir = \"data\"):\n",
      "“error 1 in extracting from zip file”\n"
     ]
    }
   ],
   "source": [
    "# Reading in the data\n",
    "\n",
    "url <- \"https://archive.ics.uci.edu/static/public/582/student+performance+on+an+entrance+examination.zip\"\n",
    "\n",
    "download.file(url, \"/\")\n",
    "unzip(\"student+performance+on+an+entrance+examination.zip\", exdir = \"data\")"
   ]
  },
  {
   "cell_type": "code",
   "execution_count": null,
   "metadata": {},
   "outputs": [],
   "source": []
  }
 ],
 "metadata": {
  "kernelspec": {
   "display_name": "R",
   "language": "R",
   "name": "ir"
  },
  "language_info": {
   "codemirror_mode": "r",
   "file_extension": ".r",
   "mimetype": "text/x-r-source",
   "name": "R",
   "pygments_lexer": "r",
   "version": "4.3.0"
  }
 },
 "nbformat": 4,
 "nbformat_minor": 4
}
