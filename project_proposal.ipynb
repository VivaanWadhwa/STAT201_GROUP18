{
 "cells": [
  {
   "cell_type": "markdown",
   "metadata": {},
   "source": [
    "\"insert title\""
   ]
  },
  {
   "cell_type": "markdown",
   "metadata": {},
   "source": [
    "Group members: Vivaan, Justin, Katelyn, Katie Archer (84677194)"
   ]
  },
  {
   "cell_type": "markdown",
   "metadata": {},
   "source": [
    "Introduction:"
   ]
  },
  {
   "cell_type": "markdown",
   "metadata": {},
   "source": [
    "Preliminary Results:"
   ]
  },
  {
   "cell_type": "code",
   "execution_count": 1,
   "metadata": {
    "vscode": {
     "languageId": "r"
    }
   },
   "outputs": [
    {
     "name": "stderr",
     "output_type": "stream",
     "text": [
      "Warning message in download.file(url, \"/\"):\n",
      "“URL https://archive.ics.uci.edu/static/public/582/student+performance+on+an+entrance+examination.zip: cannot open destfile '/', reason 'Is a directory'”\n",
      "Warning message in download.file(url, \"/\"):\n",
      "“download had nonzero exit status”\n",
      "Warning message in unzip(\"student+performance+on+an+entrance+examination.zip\", exdir = \"data\"):\n",
      "“error 1 in extracting from zip file”\n"
     ]
    }
   ],
   "source": [
    "# Reading in the data\n",
    "\n",
    "url <- \"https://archive.ics.uci.edu/static/public/582/student+performance+on+an+entrance+examination.zip\"\n",
    "\n",
    "download.file(url, \"/\")\n",
    "unzip(\"student+performance+on+an+entrance+examination.zip\", exdir = \"data\")"
   ]
  },
  {
   "cell_type": "markdown",
   "metadata": {},
   "source": [
    "Methods: Plan"
   ]
  },
  {
   "cell_type": "markdown",
   "metadata": {},
   "source": [
    "References:"
   ]
  },
  {
   "cell_type": "code",
   "execution_count": null,
   "metadata": {},
   "outputs": [],
   "source": []
  }
 ],
 "metadata": {
  "kernelspec": {
   "display_name": "R",
   "language": "R",
   "name": "ir"
  },
  "language_info": {
   "codemirror_mode": "r",
   "file_extension": ".r",
   "mimetype": "text/x-r-source",
   "name": "R",
   "pygments_lexer": "r",
   "version": "4.2.3"
  }
 },
 "nbformat": 4,
 "nbformat_minor": 4
}
