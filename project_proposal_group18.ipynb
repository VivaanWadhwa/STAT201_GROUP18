{
 "cells": [
  {
   "cell_type": "markdown",
   "id": "41feb870-0806-4498-8a8b-5c0304d44dd5",
   "metadata": {},
   "source": [
    "# Comparative Analysis of Chemical Composition in Red and White Wines: A Study on Volatile Acidity, Total Sulfur Dioxide, and Chlorides"
   ]
  },
  {
   "cell_type": "markdown",
   "id": "75d36cbf-40ae-44ab-94f5-5aeccf4b8be5",
   "metadata": {},
   "source": [
    "<h5>Group 18: Vivaan Wadhwa, Katie Archer, Katelyn Thomas, Justin Lieu</h5>"
   ]
  },
  {
   "cell_type": "markdown",
   "id": "f132b5ca-f5be-4d28-af99-15ae0e259289",
   "metadata": {},
   "source": [
    "## Introduction"
   ]
  },
  {
   "cell_type": "markdown",
   "id": "c2dc6e4a-7335-4391-b960-5d0cc3e662d2",
   "metadata": {},
   "source": [
    "The goal of the project is to explore the average level of Volatile Acidity, Total Sulfur Dioxide and Chlorides in Red and White wine. The dataset, [Wine Quality](https://archive.ics.uci.edu/dataset/186/wine+quality), is taken from [UCI Machine Learning Repository](https://archive.ics.uci.edu/datasets)."
   ]
  },
  {
   "cell_type": "markdown",
   "id": "bd5c7f84-1a83-49fe-955e-f95c51ee583b",
   "metadata": {},
   "source": [
    "The dataset includes 13 attributes describing \n",
    "\n",
    "- ```Fixed Acidity```\n",
    "- ```Volatile Acidity```\n",
    "- ```Citric Acid```\n",
    "- ```Residual Sugar```\n",
    "- ```Chlorides```\n",
    "- ```Free Sulfur Dioxide```\n",
    "- ```Total Sulfur Dioxide```\n",
    "- ```Density```\n",
    "- ```pH```\n",
    "- ```sulphates```\n",
    "- ```alcohol```\n",
    "- ```quality```"
   ]
  },
  {
   "cell_type": "markdown",
   "id": "c74d19af-0dfc-4bce-8379-ed3fc7ebf81c",
   "metadata": {
    "tags": []
   },
   "source": [
    "Research Question\n",
    "<hr></hr>\n",
    "How do the levels of <b>volatile acidity</b> differ between <b>red</b> and <b>white wines</b>, and are there statistically significant variations in these chemical components between the two wine types?"
   ]
  },
  {
   "cell_type": "markdown",
   "id": "8af7779d-0459-441b-9529-7cbfb19e69fd",
   "metadata": {},
   "source": [
    "Therefore, our attribute of interest for this project is:\n",
    "\n",
    "- ```Volatile Acidity```: Volatile acidity in the context of wine refers to the presence of volatile acids, primarily acetic acid.  It is a key factor in wine quality and can impact the wine's flavor and aroma.\n",
    "\n",
    "To conduct research, we will be exploring the average levels (location parameter) of <b>volatile acidity</b> for each of the wines as well as standard deviation (scale parameter)."
   ]
  },
  {
   "cell_type": "markdown",
   "id": "375721a1-53d2-48c2-8b19-4b919b504f0a",
   "metadata": {},
   "source": [
    "As previously explained, volatile acidity plays a pivotal role in the winemaking process and exhibits substantial variations across different wines. A study conducted by Babincev and Jović in 2021 delves into the chemical composition of white and red wines, revealing that white wine tends to have higher acidity levels compared to red wine. This finding underscores the importance and relevance of further investigation of volatile acidity."
   ]
  },
  {
   "cell_type": "markdown",
   "id": "166777d6-ccce-4149-8ccd-19e412bea842",
   "metadata": {},
   "source": [
    "## Preliminary Data Analysis"
   ]
  },
  {
   "cell_type": "markdown",
   "id": "3b63e587-356e-4768-afd9-722da4006af8",
   "metadata": {},
   "source": [
    "#### Loading Necessary Libraries"
   ]
  },
  {
   "cell_type": "code",
   "execution_count": 1,
   "id": "48f8ec04-0713-4e90-9485-ddb64b5436ad",
   "metadata": {
    "tags": []
   },
   "outputs": [
    {
     "name": "stderr",
     "output_type": "stream",
     "text": [
      "── \u001b[1mAttaching core tidyverse packages\u001b[22m ──────────────────────── tidyverse 2.0.0 ──\n",
      "\u001b[32m✔\u001b[39m \u001b[34mdplyr    \u001b[39m 1.1.2     \u001b[32m✔\u001b[39m \u001b[34mreadr    \u001b[39m 2.1.4\n",
      "\u001b[32m✔\u001b[39m \u001b[34mforcats  \u001b[39m 1.0.0     \u001b[32m✔\u001b[39m \u001b[34mstringr  \u001b[39m 1.5.0\n",
      "\u001b[32m✔\u001b[39m \u001b[34mggplot2  \u001b[39m 3.4.2     \u001b[32m✔\u001b[39m \u001b[34mtibble   \u001b[39m 3.2.1\n",
      "\u001b[32m✔\u001b[39m \u001b[34mlubridate\u001b[39m 1.9.2     \u001b[32m✔\u001b[39m \u001b[34mtidyr    \u001b[39m 1.3.0\n",
      "\u001b[32m✔\u001b[39m \u001b[34mpurrr    \u001b[39m 1.0.1     \n",
      "── \u001b[1mConflicts\u001b[22m ────────────────────────────────────────── tidyverse_conflicts() ──\n",
      "\u001b[31m✖\u001b[39m \u001b[34mdplyr\u001b[39m::\u001b[32mfilter()\u001b[39m masks \u001b[34mstats\u001b[39m::filter()\n",
      "\u001b[31m✖\u001b[39m \u001b[34mdplyr\u001b[39m::\u001b[32mlag()\u001b[39m    masks \u001b[34mstats\u001b[39m::lag()\n",
      "\u001b[36mℹ\u001b[39m Use the conflicted package (\u001b[3m\u001b[34m<http://conflicted.r-lib.org/>\u001b[39m\u001b[23m) to force all conflicts to become errors\n"
     ]
    }
   ],
   "source": [
    "library(tidyverse)\n",
    "library(infer)\n",
    "library(repr)\n",
    "library(dplyr)\n",
    "library(readr)\n",
    "options(repr.plot.width=5, repr.plot.height=5)"
   ]
  },
  {
   "cell_type": "markdown",
   "id": "df35cbc1-1cc2-47d1-b74c-6a35d973c2ca",
   "metadata": {},
   "source": [
    "#### Reading Data"
   ]
  },
  {
   "cell_type": "code",
   "execution_count": 2,
   "id": "54b361fd-4279-4524-bfd0-1a6ad579a480",
   "metadata": {
    "tags": []
   },
   "outputs": [],
   "source": [
    "# Reading in the data\n",
    "url <- \"https://archive.ics.uci.edu/static/public/186/wine+quality.zip\"\n",
    "\n",
    "# Define the local file name for the downloaded ZIP file\n",
    "zip_file <- \"data/wine_quality.zip\"\n",
    "\n",
    "# Download the ZIP file from the URL\n",
    "download.file(url, destfile = zip_file)\n",
    "\n",
    "# Unzip the downloaded file\n",
    "unzip(zip_file, exdir = \"data\")"
   ]
  },
  {
   "cell_type": "code",
   "execution_count": 3,
   "id": "fb77d17f-0433-4e63-98c0-ac267b760c39",
   "metadata": {
    "tags": []
   },
   "outputs": [
    {
     "data": {
      "text/html": [
       "0"
      ],
      "text/latex": [
       "0"
      ],
      "text/markdown": [
       "0"
      ],
      "text/plain": [
       "[1] 0"
      ]
     },
     "metadata": {},
     "output_type": "display_data"
    },
    {
     "data": {
      "text/html": [
       "0"
      ],
      "text/latex": [
       "0"
      ],
      "text/markdown": [
       "0"
      ],
      "text/plain": [
       "[1] 0"
      ]
     },
     "metadata": {},
     "output_type": "display_data"
    }
   ],
   "source": [
    "# Read in the red and white wine data\n",
    "\n",
    "wine_red_data <- read_delim(\"data/winequality-red.csv\", delim = \";\", show_col_types = FALSE) |>\n",
    "                    mutate(type = \"red\")\n",
    "wine_white_data <- read_delim(\"data/winequality-white.csv\", delim = \";\", show_col_types = FALSE)|>\n",
    "                    mutate(type = \"white\")\n",
    "#to check if we have missing values\n",
    "sum(is.na(wine_white_data))\n",
    "sum(is.na(wine_red_data)) "
   ]
  },
  {
   "cell_type": "markdown",
   "id": "971f0eec-4d5a-4725-a475-75c170dcd98c",
   "metadata": {},
   "source": [
    "Our dataset has no missing values so we do need to remove any rows. We add a column with the type of wine to the individual red and white wine dataset so that we can distinguish between the two when we combine them into a single dataset."
   ]
  },
  {
   "cell_type": "code",
   "execution_count": 4,
   "id": "b01f6bf2-02bc-4b42-a82f-c72466d4465b",
   "metadata": {
    "tags": []
   },
   "outputs": [
    {
     "data": {
      "text/html": [
       "<table class=\"dataframe\">\n",
       "<caption>A tibble: 6 × 13</caption>\n",
       "<thead>\n",
       "\t<tr><th scope=col>fixed.acidity</th><th scope=col>volatile.acidity</th><th scope=col>citric.acid</th><th scope=col>residual.sugar</th><th scope=col>chlorides</th><th scope=col>free.sulfur.dioxide</th><th scope=col>total.sulfur.dioxide</th><th scope=col>density</th><th scope=col>pH</th><th scope=col>sulphates</th><th scope=col>alcohol</th><th scope=col>quality</th><th scope=col>type</th></tr>\n",
       "\t<tr><th scope=col>&lt;dbl&gt;</th><th scope=col>&lt;dbl&gt;</th><th scope=col>&lt;dbl&gt;</th><th scope=col>&lt;dbl&gt;</th><th scope=col>&lt;dbl&gt;</th><th scope=col>&lt;dbl&gt;</th><th scope=col>&lt;dbl&gt;</th><th scope=col>&lt;dbl&gt;</th><th scope=col>&lt;dbl&gt;</th><th scope=col>&lt;dbl&gt;</th><th scope=col>&lt;dbl&gt;</th><th scope=col>&lt;dbl&gt;</th><th scope=col>&lt;chr&gt;</th></tr>\n",
       "</thead>\n",
       "<tbody>\n",
       "\t<tr><td> 7.4</td><td>0.70</td><td>0.00</td><td>1.9</td><td>0.076</td><td>11</td><td>34</td><td>0.9978</td><td>3.51</td><td>0.56</td><td>9.4</td><td>5</td><td>red</td></tr>\n",
       "\t<tr><td> 7.8</td><td>0.88</td><td>0.00</td><td>2.6</td><td>0.098</td><td>25</td><td>67</td><td>0.9968</td><td>3.20</td><td>0.68</td><td>9.8</td><td>5</td><td>red</td></tr>\n",
       "\t<tr><td> 7.8</td><td>0.76</td><td>0.04</td><td>2.3</td><td>0.092</td><td>15</td><td>54</td><td>0.9970</td><td>3.26</td><td>0.65</td><td>9.8</td><td>5</td><td>red</td></tr>\n",
       "\t<tr><td>11.2</td><td>0.28</td><td>0.56</td><td>1.9</td><td>0.075</td><td>17</td><td>60</td><td>0.9980</td><td>3.16</td><td>0.58</td><td>9.8</td><td>6</td><td>red</td></tr>\n",
       "\t<tr><td> 7.4</td><td>0.70</td><td>0.00</td><td>1.9</td><td>0.076</td><td>11</td><td>34</td><td>0.9978</td><td>3.51</td><td>0.56</td><td>9.4</td><td>5</td><td>red</td></tr>\n",
       "\t<tr><td> 7.4</td><td>0.66</td><td>0.00</td><td>1.8</td><td>0.075</td><td>13</td><td>40</td><td>0.9978</td><td>3.51</td><td>0.56</td><td>9.4</td><td>5</td><td>red</td></tr>\n",
       "</tbody>\n",
       "</table>\n"
      ],
      "text/latex": [
       "A tibble: 6 × 13\n",
       "\\begin{tabular}{lllllllllllll}\n",
       " fixed.acidity & volatile.acidity & citric.acid & residual.sugar & chlorides & free.sulfur.dioxide & total.sulfur.dioxide & density & pH & sulphates & alcohol & quality & type\\\\\n",
       " <dbl> & <dbl> & <dbl> & <dbl> & <dbl> & <dbl> & <dbl> & <dbl> & <dbl> & <dbl> & <dbl> & <dbl> & <chr>\\\\\n",
       "\\hline\n",
       "\t  7.4 & 0.70 & 0.00 & 1.9 & 0.076 & 11 & 34 & 0.9978 & 3.51 & 0.56 & 9.4 & 5 & red\\\\\n",
       "\t  7.8 & 0.88 & 0.00 & 2.6 & 0.098 & 25 & 67 & 0.9968 & 3.20 & 0.68 & 9.8 & 5 & red\\\\\n",
       "\t  7.8 & 0.76 & 0.04 & 2.3 & 0.092 & 15 & 54 & 0.9970 & 3.26 & 0.65 & 9.8 & 5 & red\\\\\n",
       "\t 11.2 & 0.28 & 0.56 & 1.9 & 0.075 & 17 & 60 & 0.9980 & 3.16 & 0.58 & 9.8 & 6 & red\\\\\n",
       "\t  7.4 & 0.70 & 0.00 & 1.9 & 0.076 & 11 & 34 & 0.9978 & 3.51 & 0.56 & 9.4 & 5 & red\\\\\n",
       "\t  7.4 & 0.66 & 0.00 & 1.8 & 0.075 & 13 & 40 & 0.9978 & 3.51 & 0.56 & 9.4 & 5 & red\\\\\n",
       "\\end{tabular}\n"
      ],
      "text/markdown": [
       "\n",
       "A tibble: 6 × 13\n",
       "\n",
       "| fixed.acidity &lt;dbl&gt; | volatile.acidity &lt;dbl&gt; | citric.acid &lt;dbl&gt; | residual.sugar &lt;dbl&gt; | chlorides &lt;dbl&gt; | free.sulfur.dioxide &lt;dbl&gt; | total.sulfur.dioxide &lt;dbl&gt; | density &lt;dbl&gt; | pH &lt;dbl&gt; | sulphates &lt;dbl&gt; | alcohol &lt;dbl&gt; | quality &lt;dbl&gt; | type &lt;chr&gt; |\n",
       "|---|---|---|---|---|---|---|---|---|---|---|---|---|\n",
       "|  7.4 | 0.70 | 0.00 | 1.9 | 0.076 | 11 | 34 | 0.9978 | 3.51 | 0.56 | 9.4 | 5 | red |\n",
       "|  7.8 | 0.88 | 0.00 | 2.6 | 0.098 | 25 | 67 | 0.9968 | 3.20 | 0.68 | 9.8 | 5 | red |\n",
       "|  7.8 | 0.76 | 0.04 | 2.3 | 0.092 | 15 | 54 | 0.9970 | 3.26 | 0.65 | 9.8 | 5 | red |\n",
       "| 11.2 | 0.28 | 0.56 | 1.9 | 0.075 | 17 | 60 | 0.9980 | 3.16 | 0.58 | 9.8 | 6 | red |\n",
       "|  7.4 | 0.70 | 0.00 | 1.9 | 0.076 | 11 | 34 | 0.9978 | 3.51 | 0.56 | 9.4 | 5 | red |\n",
       "|  7.4 | 0.66 | 0.00 | 1.8 | 0.075 | 13 | 40 | 0.9978 | 3.51 | 0.56 | 9.4 | 5 | red |\n",
       "\n"
      ],
      "text/plain": [
       "  fixed.acidity volatile.acidity citric.acid residual.sugar chlorides\n",
       "1  7.4          0.70             0.00        1.9            0.076    \n",
       "2  7.8          0.88             0.00        2.6            0.098    \n",
       "3  7.8          0.76             0.04        2.3            0.092    \n",
       "4 11.2          0.28             0.56        1.9            0.075    \n",
       "5  7.4          0.70             0.00        1.9            0.076    \n",
       "6  7.4          0.66             0.00        1.8            0.075    \n",
       "  free.sulfur.dioxide total.sulfur.dioxide density pH   sulphates alcohol\n",
       "1 11                  34                   0.9978  3.51 0.56      9.4    \n",
       "2 25                  67                   0.9968  3.20 0.68      9.8    \n",
       "3 15                  54                   0.9970  3.26 0.65      9.8    \n",
       "4 17                  60                   0.9980  3.16 0.58      9.8    \n",
       "5 11                  34                   0.9978  3.51 0.56      9.4    \n",
       "6 13                  40                   0.9978  3.51 0.56      9.4    \n",
       "  quality type\n",
       "1 5       red \n",
       "2 5       red \n",
       "3 5       red \n",
       "4 6       red \n",
       "5 5       red \n",
       "6 5       red "
      ]
     },
     "metadata": {},
     "output_type": "display_data"
    }
   ],
   "source": [
    "# Combining the red/white wine data and adding proper column names to the dataframe\n",
    "\n",
    "wine_data <- rbind(wine_red_data, wine_white_data)\n",
    "colnames(wine_data) <- c(\"fixed.acidity\",\"volatile.acidity\",\"citric.acid\",\"residual.sugar\",\n",
    "                         \"chlorides\",\"free.sulfur.dioxide\",\"total.sulfur.dioxide\",\"density\",\n",
    "                         \"pH\",\"sulphates\",\"alcohol\",\"quality\",\"type\")\n",
    "head(wine_data)\n"
   ]
  },
  {
   "cell_type": "markdown",
   "id": "e54b5a99-485e-4da5-b0c7-ed1d02bf8db0",
   "metadata": {},
   "source": [
    "Now that we have combined the two datasets together, we will drop all the unnecessary columns to get our final dataset that we will work with."
   ]
  },
  {
   "cell_type": "code",
   "execution_count": 5,
   "id": "999282ba-eca1-46fd-955e-c4affd6365ec",
   "metadata": {
    "tags": []
   },
   "outputs": [
    {
     "data": {
      "text/html": [
       "<table class=\"dataframe\">\n",
       "<caption>A tibble: 6 × 2</caption>\n",
       "<thead>\n",
       "\t<tr><th scope=col>volatile.acidity</th><th scope=col>type</th></tr>\n",
       "\t<tr><th scope=col>&lt;dbl&gt;</th><th scope=col>&lt;chr&gt;</th></tr>\n",
       "</thead>\n",
       "<tbody>\n",
       "\t<tr><td>0.70</td><td>red</td></tr>\n",
       "\t<tr><td>0.88</td><td>red</td></tr>\n",
       "\t<tr><td>0.76</td><td>red</td></tr>\n",
       "\t<tr><td>0.28</td><td>red</td></tr>\n",
       "\t<tr><td>0.70</td><td>red</td></tr>\n",
       "\t<tr><td>0.66</td><td>red</td></tr>\n",
       "</tbody>\n",
       "</table>\n"
      ],
      "text/latex": [
       "A tibble: 6 × 2\n",
       "\\begin{tabular}{ll}\n",
       " volatile.acidity & type\\\\\n",
       " <dbl> & <chr>\\\\\n",
       "\\hline\n",
       "\t 0.70 & red\\\\\n",
       "\t 0.88 & red\\\\\n",
       "\t 0.76 & red\\\\\n",
       "\t 0.28 & red\\\\\n",
       "\t 0.70 & red\\\\\n",
       "\t 0.66 & red\\\\\n",
       "\\end{tabular}\n"
      ],
      "text/markdown": [
       "\n",
       "A tibble: 6 × 2\n",
       "\n",
       "| volatile.acidity &lt;dbl&gt; | type &lt;chr&gt; |\n",
       "|---|---|\n",
       "| 0.70 | red |\n",
       "| 0.88 | red |\n",
       "| 0.76 | red |\n",
       "| 0.28 | red |\n",
       "| 0.70 | red |\n",
       "| 0.66 | red |\n",
       "\n"
      ],
      "text/plain": [
       "  volatile.acidity type\n",
       "1 0.70             red \n",
       "2 0.88             red \n",
       "3 0.76             red \n",
       "4 0.28             red \n",
       "5 0.70             red \n",
       "6 0.66             red "
      ]
     },
     "metadata": {},
     "output_type": "display_data"
    },
    {
     "name": "stdout",
     "output_type": "stream",
     "text": [
      "There are 6497 rows in the dataset"
     ]
    }
   ],
   "source": [
    "# Selecting the specific features we're analyzing\n",
    "wine_data_specific <- wine_data |>\n",
    "                        select(volatile.acidity, type)\n",
    "head(wine_data_specific)\n",
    "cat(\"There are\", nrow(wine_data_specific),\"rows in the dataset\")"
   ]
  },
  {
   "cell_type": "markdown",
   "id": "dba925d8-3fd9-4c9c-a973-b885962a35bd",
   "metadata": {},
   "source": [
    "#### Selecting Sample"
   ]
  },
  {
   "cell_type": "markdown",
   "id": "e028c4e1-98c4-459c-9894-85fea2e3ebf6",
   "metadata": {},
   "source": [
    "Now, we will be taking a sample from our population. Since our population size is <b>6497</b>, we will be taking a sample of <b>650</b> from our population."
   ]
  },
  {
   "cell_type": "code",
   "execution_count": 6,
   "id": "febc2e9a-fb0a-4679-bc67-5b9d74e66e20",
   "metadata": {
    "tags": []
   },
   "outputs": [
    {
     "data": {
      "text/html": [
       "<table class=\"dataframe\">\n",
       "<caption>A tibble: 6 × 2</caption>\n",
       "<thead>\n",
       "\t<tr><th scope=col>volatile.acidity</th><th scope=col>type</th></tr>\n",
       "\t<tr><th scope=col>&lt;dbl&gt;</th><th scope=col>&lt;chr&gt;</th></tr>\n",
       "</thead>\n",
       "<tbody>\n",
       "\t<tr><td>0.13</td><td>white</td></tr>\n",
       "\t<tr><td>0.29</td><td>white</td></tr>\n",
       "\t<tr><td>0.47</td><td>red  </td></tr>\n",
       "\t<tr><td>0.26</td><td>white</td></tr>\n",
       "\t<tr><td>0.47</td><td>red  </td></tr>\n",
       "\t<tr><td>0.21</td><td>red  </td></tr>\n",
       "</tbody>\n",
       "</table>\n"
      ],
      "text/latex": [
       "A tibble: 6 × 2\n",
       "\\begin{tabular}{ll}\n",
       " volatile.acidity & type\\\\\n",
       " <dbl> & <chr>\\\\\n",
       "\\hline\n",
       "\t 0.13 & white\\\\\n",
       "\t 0.29 & white\\\\\n",
       "\t 0.47 & red  \\\\\n",
       "\t 0.26 & white\\\\\n",
       "\t 0.47 & red  \\\\\n",
       "\t 0.21 & red  \\\\\n",
       "\\end{tabular}\n"
      ],
      "text/markdown": [
       "\n",
       "A tibble: 6 × 2\n",
       "\n",
       "| volatile.acidity &lt;dbl&gt; | type &lt;chr&gt; |\n",
       "|---|---|\n",
       "| 0.13 | white |\n",
       "| 0.29 | white |\n",
       "| 0.47 | red   |\n",
       "| 0.26 | white |\n",
       "| 0.47 | red   |\n",
       "| 0.21 | red   |\n",
       "\n"
      ],
      "text/plain": [
       "  volatile.acidity type \n",
       "1 0.13             white\n",
       "2 0.29             white\n",
       "3 0.47             red  \n",
       "4 0.26             white\n",
       "5 0.47             red  \n",
       "6 0.21             red  "
      ]
     },
     "metadata": {},
     "output_type": "display_data"
    }
   ],
   "source": [
    "set.seed(2204) #DO NOT REMOVE\n",
    "\n",
    "wine_sample <- wine_data_specific |>\n",
    "                sample_n(size = 650)\n",
    "                    \n",
    "\n",
    "head(wine_sample)"
   ]
  },
  {
   "cell_type": "markdown",
   "id": "b089a701-e9d8-4a97-afc8-48dbdbef53d7",
   "metadata": {},
   "source": [
    "#### Histograms of the Volatile Acidity against respective Wine Types"
   ]
  },
  {
   "cell_type": "code",
   "execution_count": 7,
   "id": "a9b9615b-778f-49ea-b1d9-f922d4618125",
   "metadata": {
    "tags": []
   },
   "outputs": [
    {
     "data": {
      "image/png": "[encoded data removed]",
      "text/plain": [
       "plot without title"
      ]
     },
     "metadata": {
      "image/png": {
       "height": 300,
       "width": 300
      }
     },
     "output_type": "display_data"
    }
   ],
   "source": [
    "# Histogram of volatile acidity against the respective wine type\n",
    "\n",
    "ggplot(wine_sample, aes(x = volatile.acidity, fill = type)) +\n",
    "  geom_histogram(binwidth = 0.05, position = \"dodge\", color = \"black\") +\n",
    "  labs(title = paste(\"Histogram of Volatile Acidity by Wine Type\"), x = \"Volatile Acidity\", y = \"Frequency\") +\n",
    "  scale_fill_manual(values = c(\"red\" = \"red\", \"white\" = \"blue\")) +\n",
    "  theme_minimal() +\n",
    "  theme(legend.title = element_blank(),\n",
    "        legend.position = \"top\",  # Change the legend position\n",
    "        plot.title = element_text(size = 14, face = \"bold\"),  # Title style\n",
    "        axis.text = element_text(size = 12),  # Axis label text size\n",
    "        axis.title = element_text(size = 12, face = \"bold\"))"
   ]
  },
  {
   "cell_type": "markdown",
   "id": "1551d6f5-71e4-4a9b-bb3b-0a6b1579abad",
   "metadata": {},
   "source": [
    "The histogram presented above clearly illustrates a distinct contrast in the concentrations of Volatile Acid between Red and White wines in our sample. Each type of wine exhibits a unique distribution pattern within these histograms, emphasizing the disparities observed in these chemical components."
   ]
  },
  {
   "cell_type": "markdown",
   "id": "abccf924-275b-47ca-931b-f86f661b207c",
   "metadata": {
    "tags": []
   },
   "source": [
    "#### Side by Side Boxplots of each variable associated with the Wine Type"
   ]
  },
  {
   "cell_type": "code",
   "execution_count": 14,
   "id": "c269f462-c232-4745-9fc4-fb26065a774b",
   "metadata": {
    "tags": []
   },
   "outputs": [
    {
     "data": {
      "image/png": "[encoded data removed]",
      "text/plain": [
       "plot without title"
      ]
     },
     "metadata": {
      "image/png": {
       "height": 300,
       "width": 300
      }
     },
     "output_type": "display_data"
    }
   ],
   "source": [
    "ggplot(wine_sample, aes(x = type, y = feature)) +\n",
    "      geom_boxplot(fill = \"slateblue\", alpha = 0.4) +\n",
    "      labs(title = paste(\"Boxplot of Volatile Acidity by Wine Type\", sep = \" \"), x = \"Wine Type\", y = \"Volatile Acidity\") +\n",
    "      theme_minimal() +\n",
    "      theme(legend.title = element_blank(),\n",
    "            legend.position = \"top\",  # Change the legend position\n",
    "            plot.title = element_text(size = 14, face = \"bold\"),  # Title style\n",
    "            axis.text = element_text(size = 12),  # Axis label text size\n",
    "            axis.title = element_text(size = 12, face = \"bold\"))\n"
   ]
  },
  {
   "cell_type": "markdown",
   "id": "98e0d566-24ec-40a8-88b5-b9bb58db003f",
   "metadata": {
    "tags": []
   },
   "source": [
    "The differences are more recognizable by the boxplots seen above."
   ]
  },
  {
   "cell_type": "markdown",
   "id": "aeef3c65-56df-46c5-bd5b-db11f9781e54",
   "metadata": {},
   "source": [
    "#### Observed Parameters of Red Wine"
   ]
  },
  {
   "cell_type": "code",
   "execution_count": 15,
   "id": "14b3d7d3-9984-4685-ad36-02345a3067d1",
   "metadata": {
    "tags": []
   },
   "outputs": [
    {
     "data": {
      "text/plain": [
       " volatile.acidity     type          \n",
       " Min.   :0.1800   Length:161        \n",
       " 1st Qu.:0.4200   Class :character  \n",
       " Median :0.5300   Mode  :character  \n",
       " Mean   :0.5445                     \n",
       " 3rd Qu.:0.6450                     \n",
       " Max.   :1.3300                     "
      ]
     },
     "metadata": {},
     "output_type": "display_data"
    }
   ],
   "source": [
    "wine_red <- wine_sample |>\n",
    "                filter(type == \"red\") \n",
    "red_sd_volatile <- sd(wine_red$volatile.acidity)\n",
    "summary(wine_red)"
   ]
  },
  {
   "cell_type": "code",
   "execution_count": 16,
   "id": "a2369a59-1ee0-4ae2-bed0-404b7c3d094d",
   "metadata": {
    "tags": []
   },
   "outputs": [
    {
     "name": "stdout",
     "output_type": "stream",
     "text": [
      "Standard Deviation of Volatile Acidity in Red Wine: 0.1811846 \n"
     ]
    }
   ],
   "source": [
    "cat(\"Standard Deviation of Volatile Acidity in Red Wine:\", red_sd_volatile, \"\\n\")"
   ]
  },
  {
   "cell_type": "markdown",
   "id": "477cbe69-dcdd-4c3d-a93f-c0dac9f9bec6",
   "metadata": {},
   "source": [
    "#### Observed Parameters of White Wine"
   ]
  },
  {
   "cell_type": "code",
   "execution_count": 17,
   "id": "42352dbe-8b39-4ba8-b28d-04bac0446ed1",
   "metadata": {
    "tags": []
   },
   "outputs": [
    {
     "data": {
      "text/plain": [
       " volatile.acidity     type          \n",
       " Min.   :0.1000   Length:489        \n",
       " 1st Qu.:0.2100   Class :character  \n",
       " Median :0.2600   Mode  :character  \n",
       " Mean   :0.2805                     \n",
       " 3rd Qu.:0.3200                     \n",
       " Max.   :0.7600                     "
      ]
     },
     "metadata": {},
     "output_type": "display_data"
    }
   ],
   "source": [
    "wine_white <- wine_sample |>\n",
    "                filter(type == \"white\")\n",
    "white_sd_volatile <- sd(wine_white$volatile.acidity)\n",
    "summary(wine_white)"
   ]
  },
  {
   "cell_type": "code",
   "execution_count": 20,
   "id": "9579817f-8961-4f1e-8a50-29ebe78d7652",
   "metadata": {
    "tags": []
   },
   "outputs": [
    {
     "name": "stdout",
     "output_type": "stream",
     "text": [
      "Standard Deviation of Volatile Acidity in White Wine: 0.1033947 \n"
     ]
    }
   ],
   "source": [
    "cat(\"Standard Deviation of Volatile Acidity in White Wine:\", white_sd_volatile, \"\\n\")"
   ]
  },
  {
   "cell_type": "code",
   "execution_count": 22,
   "id": "b13a46f7-6fd5-40b6-a960-51808a17c5f8",
   "metadata": {
    "tags": []
   },
   "outputs": [
    {
     "data": {
      "text/html": [
       "<table class=\"dataframe\">\n",
       "<caption>A tibble: 3 × 3</caption>\n",
       "<thead>\n",
       "\t<tr><th scope=col>Wine_Type</th><th scope=col>Mean_Volatile_Acidity</th><th scope=col>SD_Volatile_Acidity</th></tr>\n",
       "\t<tr><th scope=col>&lt;chr&gt;</th><th scope=col>&lt;dbl&gt;</th><th scope=col>&lt;dbl&gt;</th></tr>\n",
       "</thead>\n",
       "<tbody>\n",
       "\t<tr><td>Red       </td><td>0.5445031</td><td>0.18118465</td></tr>\n",
       "\t<tr><td>White     </td><td>0.2804703</td><td>0.10339465</td></tr>\n",
       "\t<tr><td>Difference</td><td>0.2640328</td><td>0.07778999</td></tr>\n",
       "</tbody>\n",
       "</table>\n"
      ],
      "text/latex": [
       "A tibble: 3 × 3\n",
       "\\begin{tabular}{lll}\n",
       " Wine\\_Type & Mean\\_Volatile\\_Acidity & SD\\_Volatile\\_Acidity\\\\\n",
       " <chr> & <dbl> & <dbl>\\\\\n",
       "\\hline\n",
       "\t Red        & 0.5445031 & 0.18118465\\\\\n",
       "\t White      & 0.2804703 & 0.10339465\\\\\n",
       "\t Difference & 0.2640328 & 0.07778999\\\\\n",
       "\\end{tabular}\n"
      ],
      "text/markdown": [
       "\n",
       "A tibble: 3 × 3\n",
       "\n",
       "| Wine_Type &lt;chr&gt; | Mean_Volatile_Acidity &lt;dbl&gt; | SD_Volatile_Acidity &lt;dbl&gt; |\n",
       "|---|---|---|\n",
       "| Red        | 0.5445031 | 0.18118465 |\n",
       "| White      | 0.2804703 | 0.10339465 |\n",
       "| Difference | 0.2640328 | 0.07778999 |\n",
       "\n"
      ],
      "text/plain": [
       "  Wine_Type  Mean_Volatile_Acidity SD_Volatile_Acidity\n",
       "1 Red        0.5445031             0.18118465         \n",
       "2 White      0.2804703             0.10339465         \n",
       "3 Difference 0.2640328             0.07778999         "
      ]
     },
     "metadata": {},
     "output_type": "display_data"
    }
   ],
   "source": [
    "red_wine_summary <- wine_red %>%\n",
    "  summarise(\n",
    "    Wine_Type = \"Red\",      \n",
    "    Mean_Volatile_Acidity = mean(volatile.acidity),\n",
    "    SD_Volatile_Acidity = sd(volatile.acidity)\n",
    "  )\n",
    "\n",
    "# Calculate the mean and SD for white wine data\n",
    "white_wine_summary <- wine_white %>%\n",
    "  summarise(\n",
    "    Wine_Type = \"White\",      \n",
    "    Mean_Volatile_Acidity = mean(volatile.acidity),\n",
    "    SD_Volatile_Acidity = sd(volatile.acidity)\n",
    "  )\n",
    "\n",
    "#Calculating the difference\n",
    "diff_summary <- data.frame(\n",
    "    Wine_Type = \"Difference\",      \n",
    "    Mean_Volatile_Acidity = mean(wine_red$volatile.acidity) - mean(wine_white$volatile.acidity),\n",
    "    SD_Volatile_Acidity = sd(wine_red$volatile.acidity) - sd(wine_white$volatile.acidity)\n",
    ")\n",
    "\n",
    "# Combine the summaries into a single table\n",
    "summary_table <- bind_rows(red_wine_summary,white_wine_summary,diff_summary)\n",
    "\n",
    "summary_table"
   ]
  },
  {
   "cell_type": "markdown",
   "id": "35dd6202-6faf-45df-9d35-4a3f4373eba9",
   "metadata": {},
   "source": [
    "From our visualisations and observed statistics, we can see that there are some differences that can be distinguished between the mean and standard deviation of volatile acidity of Red and White Wine."
   ]
  },
  {
   "cell_type": "markdown",
   "id": "9d477e94-b874-4f6c-a5e2-849dde1b7358",
   "metadata": {},
   "source": [
    "## Methods"
   ]
  },
  {
   "cell_type": "markdown",
   "id": "c5eff4c2-53f4-48ff-91e7-9ae61874ed4e",
   "metadata": {},
   "source": [
    "This report is trustworthy in many ways. First off, our sample is random and unbiased as we use the sample_n method. Our sample is also reproducible as we have set our seed. Further, there is a significant different between red and white wine as seen by the visualisations and summary tables presented above. But, these observed statistics and visualisations alone are not enough for us to reach a conclusive statement. The results shown above can easily be attributed to sampling variability and thus cannot imply that there is a difference in the population parameters.\n",
    "\n",
    "To determine whether the observed differences in chemical components between red and white wines are statistically significant, hypothesis test will be conducted. Further, we will also be computing 95% confidence intervals for each of these attributes\n",
    "\n",
    "For volatile acidity, we will conduct our hypothesis test via bootstrapping. Setting $H_{0}: \\mu_{\\text{Volatile Acidity of Red Wine}} - \\mu_{\\text{Volatile Acidity of White Wine}} = 0$ , and our alternative hypothesis to $H_{a}: \\mu_{\\text{Volatile Acidity of Red Wine}} - \\mu_{\\text{Volatile Acidity of White Wine}} \\neq 0$, we will plot the bootstrap distribution of the null hypothesis using the infer package. From there, we will calculate the two-tailed p-value, given our observed statistic from our original sample (0.264). To determine if the difference in means between red and white wines is significant, we will compare the p-value to a 5% significance level.\n",
    "\n",
    "Add more?\n"
   ]
  },
  {
   "cell_type": "markdown",
   "id": "fdfea9a2-15c0-4cca-a49e-97fc2cbbcc40",
   "metadata": {},
   "source": [
    "Our initial null and alternate hypothesis for the location parameter i.e. the average level of the chemical attributes is:\n",
    "\n",
    "$$H_{0}:\n",
    "\\begin{align*}\n",
    "    &\\mu_{\\text{Volatile Acidity of Red Wine}} - \\mu_{\\text{Volatile Acidity of White Wine}} = 0 \\\\\n",
    "\\end{align*}\n",
    "$$\n",
    "\n",
    "\n",
    "$$H_{a}:\n",
    "\\begin{align*}\n",
    "    &\\mu_{\\text{Volatile Acidity of Red Wine}} - \\mu_{\\text{Volatile Acidity of White Wine}} \\neq 0 \\\\\n",
    "\\end{align*}\n",
    "$$\n"
   ]
  },
  {
   "cell_type": "markdown",
   "id": "c945ca97-bfff-48b6-b2cc-27d45fd78698",
   "metadata": {},
   "source": [
    "## Expected Results"
   ]
  },
  {
   "cell_type": "markdown",
   "id": "b0c47eca-4a71-4024-9511-3f5b6617523a",
   "metadata": {},
   "source": [
    "Based on our initial analysis, visualizations, and statistical results, it appears highly probable that our calculated p-value is less than 0.05 $(p < 0.05)$. In this context, rejecting the null hypothesis, which assumes no difference in the means and standard deviations of the chemical attributes between red and white wine, is likely.\n",
    "\n",
    "Moreover, considering the size of our sample, which is quite substantial, we anticipate that the confidence interval derived from our data will be relatively wide. This wide interval provides a high degree of confidence that it encompasses the true population parameter, given the inherent variability in our estimates"
   ]
  },
  {
   "cell_type": "markdown",
   "id": "d1447589-c0f8-4fb5-9ceb-9b612bc715fa",
   "metadata": {},
   "source": [
    "## Future Questions"
   ]
  },
  {
   "cell_type": "markdown",
   "id": "d5a46eab-a6e2-41b8-a0a3-58f5558b2976",
   "metadata": {
    "tags": []
   },
   "source": [
    "Further question that could be researched upon after this report could be:\n",
    "\n",
    "- Are there specific attributes that are more influential in determining wine quality?\n",
    "- How do the chemical attributes of wines change over time with aging and maturation? Do red and white wines exhibit distinct patterns in how their attributes evolve?\n",
    "- Can the chemical attributes of wines be used for authentication and detection of counterfeit or fraudulent wines?"
   ]
  },
  {
   "cell_type": "markdown",
   "id": "97df1ee7-5a05-487a-a6b8-61699c811438",
   "metadata": {},
   "source": [
    "## References"
   ]
  },
  {
   "cell_type": "markdown",
   "id": "c82710a0-f8e8-4a78-8b16-251b1e3f0106",
   "metadata": {},
   "source": [
    "- Babincev, L.M., Jović, S. Determination of the amount of volatile acids in oxidized wines and neutralization of these by using chemical reagents and biological materials. Biomass Conv. Bioref. 13, 4717–4725 (2023). https://doi.org/10.1007/s13399-021-01339-7\n",
    "- Kelly M. Volatile Acidity in Wine PennState Extension https://extension.psu.edu/volatile-acidity-in-wine"
   ]
  },
  {
   "cell_type": "code",
   "execution_count": null,
   "id": "ad453bf1-0230-4f1a-90db-301de956952e",
   "metadata": {},
   "outputs": [],
   "source": []
  }
 ],
 "metadata": {
  "kernelspec": {
   "display_name": "R",
   "language": "R",
   "name": "ir"
  },
  "language_info": {
   "codemirror_mode": "r",
   "file_extension": ".r",
   "mimetype": "text/x-r-source",
   "name": "R",
   "pygments_lexer": "r",
   "version": "4.3.0"
  }
 },
 "nbformat": 4,
 "nbformat_minor": 5
}
